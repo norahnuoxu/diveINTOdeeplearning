{
  "cells": [
    {
      "cell_type": "markdown",
      "id": "338b1ede",
      "metadata": {
        "id": "338b1ede"
      },
      "source": [
        "The following additional libraries are needed to run this\n",
        "notebook. Note that running on Colab is experimental, please report a Github\n",
        "issue if you have any problem."
      ]
    },
    {
      "cell_type": "markdown",
      "source": [],
      "metadata": {
        "id": "nNI3KxFmPS3S"
      },
      "id": "nNI3KxFmPS3S"
    },
    {
      "cell_type": "code",
      "execution_count": 138,
      "id": "b38f40d1",
      "metadata": {
        "colab": {
          "base_uri": "https://localhost:8080/"
        },
        "id": "b38f40d1",
        "outputId": "13c08d76-4edb-434d-d139-bf7aba90e759"
      },
      "outputs": [
        {
          "output_type": "stream",
          "name": "stdout",
          "text": [
            "Requirement already satisfied: d2l==1.0.3 in /usr/local/lib/python3.10/dist-packages (1.0.3)\n",
            "Requirement already satisfied: jupyter==1.0.0 in /usr/local/lib/python3.10/dist-packages (from d2l==1.0.3) (1.0.0)\n",
            "Requirement already satisfied: numpy==1.23.5 in /usr/local/lib/python3.10/dist-packages (from d2l==1.0.3) (1.23.5)\n",
            "Requirement already satisfied: matplotlib==3.7.2 in /usr/local/lib/python3.10/dist-packages (from d2l==1.0.3) (3.7.2)\n",
            "Requirement already satisfied: matplotlib-inline==0.1.6 in /usr/local/lib/python3.10/dist-packages (from d2l==1.0.3) (0.1.6)\n",
            "Requirement already satisfied: requests==2.31.0 in /usr/local/lib/python3.10/dist-packages (from d2l==1.0.3) (2.31.0)\n",
            "Requirement already satisfied: pandas==2.0.3 in /usr/local/lib/python3.10/dist-packages (from d2l==1.0.3) (2.0.3)\n",
            "Requirement already satisfied: scipy==1.10.1 in /usr/local/lib/python3.10/dist-packages (from d2l==1.0.3) (1.10.1)\n",
            "Requirement already satisfied: notebook in /usr/local/lib/python3.10/dist-packages (from jupyter==1.0.0->d2l==1.0.3) (6.5.5)\n",
            "Requirement already satisfied: qtconsole in /usr/local/lib/python3.10/dist-packages (from jupyter==1.0.0->d2l==1.0.3) (5.5.0)\n",
            "Requirement already satisfied: jupyter-console in /usr/local/lib/python3.10/dist-packages (from jupyter==1.0.0->d2l==1.0.3) (6.1.0)\n",
            "Requirement already satisfied: nbconvert in /usr/local/lib/python3.10/dist-packages (from jupyter==1.0.0->d2l==1.0.3) (6.5.4)\n",
            "Requirement already satisfied: ipykernel in /usr/local/lib/python3.10/dist-packages (from jupyter==1.0.0->d2l==1.0.3) (5.5.6)\n",
            "Requirement already satisfied: ipywidgets in /usr/local/lib/python3.10/dist-packages (from jupyter==1.0.0->d2l==1.0.3) (7.7.1)\n",
            "Requirement already satisfied: contourpy>=1.0.1 in /usr/local/lib/python3.10/dist-packages (from matplotlib==3.7.2->d2l==1.0.3) (1.1.1)\n",
            "Requirement already satisfied: cycler>=0.10 in /usr/local/lib/python3.10/dist-packages (from matplotlib==3.7.2->d2l==1.0.3) (0.12.1)\n",
            "Requirement already satisfied: fonttools>=4.22.0 in /usr/local/lib/python3.10/dist-packages (from matplotlib==3.7.2->d2l==1.0.3) (4.43.1)\n",
            "Requirement already satisfied: kiwisolver>=1.0.1 in /usr/local/lib/python3.10/dist-packages (from matplotlib==3.7.2->d2l==1.0.3) (1.4.5)\n",
            "Requirement already satisfied: packaging>=20.0 in /usr/local/lib/python3.10/dist-packages (from matplotlib==3.7.2->d2l==1.0.3) (23.2)\n",
            "Requirement already satisfied: pillow>=6.2.0 in /usr/local/lib/python3.10/dist-packages (from matplotlib==3.7.2->d2l==1.0.3) (9.4.0)\n",
            "Requirement already satisfied: pyparsing<3.1,>=2.3.1 in /usr/local/lib/python3.10/dist-packages (from matplotlib==3.7.2->d2l==1.0.3) (3.0.9)\n",
            "Requirement already satisfied: python-dateutil>=2.7 in /usr/local/lib/python3.10/dist-packages (from matplotlib==3.7.2->d2l==1.0.3) (2.8.2)\n",
            "Requirement already satisfied: traitlets in /usr/local/lib/python3.10/dist-packages (from matplotlib-inline==0.1.6->d2l==1.0.3) (5.7.1)\n",
            "Requirement already satisfied: pytz>=2020.1 in /usr/local/lib/python3.10/dist-packages (from pandas==2.0.3->d2l==1.0.3) (2023.3.post1)\n",
            "Requirement already satisfied: tzdata>=2022.1 in /usr/local/lib/python3.10/dist-packages (from pandas==2.0.3->d2l==1.0.3) (2023.3)\n",
            "Requirement already satisfied: charset-normalizer<4,>=2 in /usr/local/lib/python3.10/dist-packages (from requests==2.31.0->d2l==1.0.3) (3.3.1)\n",
            "Requirement already satisfied: idna<4,>=2.5 in /usr/local/lib/python3.10/dist-packages (from requests==2.31.0->d2l==1.0.3) (3.4)\n",
            "Requirement already satisfied: urllib3<3,>=1.21.1 in /usr/local/lib/python3.10/dist-packages (from requests==2.31.0->d2l==1.0.3) (2.0.7)\n",
            "Requirement already satisfied: certifi>=2017.4.17 in /usr/local/lib/python3.10/dist-packages (from requests==2.31.0->d2l==1.0.3) (2023.7.22)\n",
            "Requirement already satisfied: six>=1.5 in /usr/local/lib/python3.10/dist-packages (from python-dateutil>=2.7->matplotlib==3.7.2->d2l==1.0.3) (1.16.0)\n",
            "Requirement already satisfied: ipython-genutils in /usr/local/lib/python3.10/dist-packages (from ipykernel->jupyter==1.0.0->d2l==1.0.3) (0.2.0)\n",
            "Requirement already satisfied: ipython>=5.0.0 in /usr/local/lib/python3.10/dist-packages (from ipykernel->jupyter==1.0.0->d2l==1.0.3) (7.34.0)\n",
            "Requirement already satisfied: jupyter-client in /usr/local/lib/python3.10/dist-packages (from ipykernel->jupyter==1.0.0->d2l==1.0.3) (6.1.12)\n",
            "Requirement already satisfied: tornado>=4.2 in /usr/local/lib/python3.10/dist-packages (from ipykernel->jupyter==1.0.0->d2l==1.0.3) (6.3.2)\n",
            "Requirement already satisfied: widgetsnbextension~=3.6.0 in /usr/local/lib/python3.10/dist-packages (from ipywidgets->jupyter==1.0.0->d2l==1.0.3) (3.6.6)\n",
            "Requirement already satisfied: jupyterlab-widgets>=1.0.0 in /usr/local/lib/python3.10/dist-packages (from ipywidgets->jupyter==1.0.0->d2l==1.0.3) (3.0.9)\n",
            "Requirement already satisfied: prompt-toolkit!=3.0.0,!=3.0.1,<3.1.0,>=2.0.0 in /usr/local/lib/python3.10/dist-packages (from jupyter-console->jupyter==1.0.0->d2l==1.0.3) (3.0.39)\n",
            "Requirement already satisfied: pygments in /usr/local/lib/python3.10/dist-packages (from jupyter-console->jupyter==1.0.0->d2l==1.0.3) (2.16.1)\n",
            "Requirement already satisfied: lxml in /usr/local/lib/python3.10/dist-packages (from nbconvert->jupyter==1.0.0->d2l==1.0.3) (4.9.3)\n",
            "Requirement already satisfied: beautifulsoup4 in /usr/local/lib/python3.10/dist-packages (from nbconvert->jupyter==1.0.0->d2l==1.0.3) (4.11.2)\n",
            "Requirement already satisfied: bleach in /usr/local/lib/python3.10/dist-packages (from nbconvert->jupyter==1.0.0->d2l==1.0.3) (6.1.0)\n",
            "Requirement already satisfied: defusedxml in /usr/local/lib/python3.10/dist-packages (from nbconvert->jupyter==1.0.0->d2l==1.0.3) (0.7.1)\n",
            "Requirement already satisfied: entrypoints>=0.2.2 in /usr/local/lib/python3.10/dist-packages (from nbconvert->jupyter==1.0.0->d2l==1.0.3) (0.4)\n",
            "Requirement already satisfied: jinja2>=3.0 in /usr/local/lib/python3.10/dist-packages (from nbconvert->jupyter==1.0.0->d2l==1.0.3) (3.1.2)\n",
            "Requirement already satisfied: jupyter-core>=4.7 in /usr/local/lib/python3.10/dist-packages (from nbconvert->jupyter==1.0.0->d2l==1.0.3) (5.4.0)\n",
            "Requirement already satisfied: jupyterlab-pygments in /usr/local/lib/python3.10/dist-packages (from nbconvert->jupyter==1.0.0->d2l==1.0.3) (0.2.2)\n",
            "Requirement already satisfied: MarkupSafe>=2.0 in /usr/local/lib/python3.10/dist-packages (from nbconvert->jupyter==1.0.0->d2l==1.0.3) (2.1.3)\n",
            "Requirement already satisfied: mistune<2,>=0.8.1 in /usr/local/lib/python3.10/dist-packages (from nbconvert->jupyter==1.0.0->d2l==1.0.3) (0.8.4)\n",
            "Requirement already satisfied: nbclient>=0.5.0 in /usr/local/lib/python3.10/dist-packages (from nbconvert->jupyter==1.0.0->d2l==1.0.3) (0.8.0)\n",
            "Requirement already satisfied: nbformat>=5.1 in /usr/local/lib/python3.10/dist-packages (from nbconvert->jupyter==1.0.0->d2l==1.0.3) (5.9.2)\n",
            "Requirement already satisfied: pandocfilters>=1.4.1 in /usr/local/lib/python3.10/dist-packages (from nbconvert->jupyter==1.0.0->d2l==1.0.3) (1.5.0)\n",
            "Requirement already satisfied: tinycss2 in /usr/local/lib/python3.10/dist-packages (from nbconvert->jupyter==1.0.0->d2l==1.0.3) (1.2.1)\n",
            "Requirement already satisfied: pyzmq<25,>=17 in /usr/local/lib/python3.10/dist-packages (from notebook->jupyter==1.0.0->d2l==1.0.3) (23.2.1)\n",
            "Requirement already satisfied: argon2-cffi in /usr/local/lib/python3.10/dist-packages (from notebook->jupyter==1.0.0->d2l==1.0.3) (23.1.0)\n",
            "Requirement already satisfied: nest-asyncio>=1.5 in /usr/local/lib/python3.10/dist-packages (from notebook->jupyter==1.0.0->d2l==1.0.3) (1.5.8)\n",
            "Requirement already satisfied: Send2Trash>=1.8.0 in /usr/local/lib/python3.10/dist-packages (from notebook->jupyter==1.0.0->d2l==1.0.3) (1.8.2)\n",
            "Requirement already satisfied: terminado>=0.8.3 in /usr/local/lib/python3.10/dist-packages (from notebook->jupyter==1.0.0->d2l==1.0.3) (0.17.1)\n",
            "Requirement already satisfied: prometheus-client in /usr/local/lib/python3.10/dist-packages (from notebook->jupyter==1.0.0->d2l==1.0.3) (0.17.1)\n",
            "Requirement already satisfied: nbclassic>=0.4.7 in /usr/local/lib/python3.10/dist-packages (from notebook->jupyter==1.0.0->d2l==1.0.3) (1.0.0)\n",
            "Requirement already satisfied: qtpy>=2.4.0 in /usr/local/lib/python3.10/dist-packages (from qtconsole->jupyter==1.0.0->d2l==1.0.3) (2.4.1)\n",
            "Requirement already satisfied: setuptools>=18.5 in /usr/local/lib/python3.10/dist-packages (from ipython>=5.0.0->ipykernel->jupyter==1.0.0->d2l==1.0.3) (67.7.2)\n",
            "Requirement already satisfied: jedi>=0.16 in /usr/local/lib/python3.10/dist-packages (from ipython>=5.0.0->ipykernel->jupyter==1.0.0->d2l==1.0.3) (0.19.1)\n",
            "Requirement already satisfied: decorator in /usr/local/lib/python3.10/dist-packages (from ipython>=5.0.0->ipykernel->jupyter==1.0.0->d2l==1.0.3) (4.4.2)\n",
            "Requirement already satisfied: pickleshare in /usr/local/lib/python3.10/dist-packages (from ipython>=5.0.0->ipykernel->jupyter==1.0.0->d2l==1.0.3) (0.7.5)\n",
            "Requirement already satisfied: backcall in /usr/local/lib/python3.10/dist-packages (from ipython>=5.0.0->ipykernel->jupyter==1.0.0->d2l==1.0.3) (0.2.0)\n",
            "Requirement already satisfied: pexpect>4.3 in /usr/local/lib/python3.10/dist-packages (from ipython>=5.0.0->ipykernel->jupyter==1.0.0->d2l==1.0.3) (4.8.0)\n",
            "Requirement already satisfied: platformdirs>=2.5 in /usr/local/lib/python3.10/dist-packages (from jupyter-core>=4.7->nbconvert->jupyter==1.0.0->d2l==1.0.3) (3.11.0)\n",
            "Requirement already satisfied: jupyter-server>=1.8 in /usr/local/lib/python3.10/dist-packages (from nbclassic>=0.4.7->notebook->jupyter==1.0.0->d2l==1.0.3) (1.24.0)\n",
            "Requirement already satisfied: notebook-shim>=0.2.3 in /usr/local/lib/python3.10/dist-packages (from nbclassic>=0.4.7->notebook->jupyter==1.0.0->d2l==1.0.3) (0.2.3)\n",
            "Requirement already satisfied: fastjsonschema in /usr/local/lib/python3.10/dist-packages (from nbformat>=5.1->nbconvert->jupyter==1.0.0->d2l==1.0.3) (2.18.1)\n",
            "Requirement already satisfied: jsonschema>=2.6 in /usr/local/lib/python3.10/dist-packages (from nbformat>=5.1->nbconvert->jupyter==1.0.0->d2l==1.0.3) (4.19.1)\n",
            "Requirement already satisfied: wcwidth in /usr/local/lib/python3.10/dist-packages (from prompt-toolkit!=3.0.0,!=3.0.1,<3.1.0,>=2.0.0->jupyter-console->jupyter==1.0.0->d2l==1.0.3) (0.2.8)\n",
            "Requirement already satisfied: ptyprocess in /usr/local/lib/python3.10/dist-packages (from terminado>=0.8.3->notebook->jupyter==1.0.0->d2l==1.0.3) (0.7.0)\n",
            "Requirement already satisfied: argon2-cffi-bindings in /usr/local/lib/python3.10/dist-packages (from argon2-cffi->notebook->jupyter==1.0.0->d2l==1.0.3) (21.2.0)\n",
            "Requirement already satisfied: soupsieve>1.2 in /usr/local/lib/python3.10/dist-packages (from beautifulsoup4->nbconvert->jupyter==1.0.0->d2l==1.0.3) (2.5)\n",
            "Requirement already satisfied: webencodings in /usr/local/lib/python3.10/dist-packages (from bleach->nbconvert->jupyter==1.0.0->d2l==1.0.3) (0.5.1)\n",
            "Requirement already satisfied: parso<0.9.0,>=0.8.3 in /usr/local/lib/python3.10/dist-packages (from jedi>=0.16->ipython>=5.0.0->ipykernel->jupyter==1.0.0->d2l==1.0.3) (0.8.3)\n",
            "Requirement already satisfied: attrs>=22.2.0 in /usr/local/lib/python3.10/dist-packages (from jsonschema>=2.6->nbformat>=5.1->nbconvert->jupyter==1.0.0->d2l==1.0.3) (23.1.0)\n",
            "Requirement already satisfied: jsonschema-specifications>=2023.03.6 in /usr/local/lib/python3.10/dist-packages (from jsonschema>=2.6->nbformat>=5.1->nbconvert->jupyter==1.0.0->d2l==1.0.3) (2023.7.1)\n",
            "Requirement already satisfied: referencing>=0.28.4 in /usr/local/lib/python3.10/dist-packages (from jsonschema>=2.6->nbformat>=5.1->nbconvert->jupyter==1.0.0->d2l==1.0.3) (0.30.2)\n",
            "Requirement already satisfied: rpds-py>=0.7.1 in /usr/local/lib/python3.10/dist-packages (from jsonschema>=2.6->nbformat>=5.1->nbconvert->jupyter==1.0.0->d2l==1.0.3) (0.10.6)\n",
            "Requirement already satisfied: anyio<4,>=3.1.0 in /usr/local/lib/python3.10/dist-packages (from jupyter-server>=1.8->nbclassic>=0.4.7->notebook->jupyter==1.0.0->d2l==1.0.3) (3.7.1)\n",
            "Requirement already satisfied: websocket-client in /usr/local/lib/python3.10/dist-packages (from jupyter-server>=1.8->nbclassic>=0.4.7->notebook->jupyter==1.0.0->d2l==1.0.3) (1.6.4)\n",
            "Requirement already satisfied: cffi>=1.0.1 in /usr/local/lib/python3.10/dist-packages (from argon2-cffi-bindings->argon2-cffi->notebook->jupyter==1.0.0->d2l==1.0.3) (1.16.0)\n",
            "Requirement already satisfied: sniffio>=1.1 in /usr/local/lib/python3.10/dist-packages (from anyio<4,>=3.1.0->jupyter-server>=1.8->nbclassic>=0.4.7->notebook->jupyter==1.0.0->d2l==1.0.3) (1.3.0)\n",
            "Requirement already satisfied: exceptiongroup in /usr/local/lib/python3.10/dist-packages (from anyio<4,>=3.1.0->jupyter-server>=1.8->nbclassic>=0.4.7->notebook->jupyter==1.0.0->d2l==1.0.3) (1.1.3)\n",
            "Requirement already satisfied: pycparser in /usr/local/lib/python3.10/dist-packages (from cffi>=1.0.1->argon2-cffi-bindings->argon2-cffi->notebook->jupyter==1.0.0->d2l==1.0.3) (2.21)\n"
          ]
        }
      ],
      "source": [
        "!pip install d2l==1.0.3\n"
      ]
    },
    {
      "cell_type": "code",
      "source": [
        "#use matplot lib as plotting tool\n",
        "%matplotlib inline\n",
        "\n",
        "import random\n",
        "import torch\n",
        "# from d2l import torch modules\n",
        "from d2l import torch as d2l"
      ],
      "metadata": {
        "id": "Bneh3jFEPVJe"
      },
      "id": "Bneh3jFEPVJe",
      "execution_count": 139,
      "outputs": []
    },
    {
      "cell_type": "code",
      "source": [
        "#torch.normal() function learning\n",
        "#torch.normal(mean, std, size)\n",
        "a=torch.normal(0,1,(3,10))\n",
        "print(a)"
      ],
      "metadata": {
        "id": "uth6--ulGcSq",
        "outputId": "dedd34e0-bfa4-401e-8b04-199039f33def",
        "colab": {
          "base_uri": "https://localhost:8080/"
        }
      },
      "id": "uth6--ulGcSq",
      "execution_count": 140,
      "outputs": [
        {
          "output_type": "stream",
          "name": "stdout",
          "text": [
            "tensor([[ 0.2505,  0.0910,  0.6786, -1.3117,  0.9500, -0.1794, -0.2000,  0.8045,\n",
            "          0.5496, -0.4520],\n",
            "        [-0.6061, -1.7908, -0.2406,  1.2604, -1.0396, -0.4074,  2.3802,  0.7985,\n",
            "         -1.7577, -1.6753],\n",
            "        [-0.9866, -0.3166, -1.0685, -0.1359, -1.7378,  1.5756, -1.9934, -0.7774,\n",
            "         -0.1758,  0.0867]])\n"
          ]
        }
      ]
    },
    {
      "cell_type": "code",
      "source": [
        "#torch.matmul() function learning\n",
        "#torch.matmul(input, other, out=None)\n",
        "#input: The first input tensor (matrix or vector) for the multiplication.\n",
        "#other: The second input tensor (matrix or vector) for the multiplication.\n",
        "#out (optional): An optional output tensor to store the result of the multiplication. If not specified, a new tensor is created to hold the result.#\n"
      ],
      "metadata": {
        "id": "cPGJbevuD6vf"
      },
      "id": "cPGJbevuD6vf",
      "execution_count": 141,
      "outputs": []
    },
    {
      "cell_type": "markdown",
      "source": [],
      "metadata": {
        "id": "YoPKx1Y0Jygr"
      },
      "id": "YoPKx1Y0Jygr"
    },
    {
      "cell_type": "code",
      "source": [
        "#X is a num_examples*len(w) matrix, say 10*2\n",
        "#y  [10*2]*[2*1] -> 10*1\n",
        "def synthetic_data(w, b, num_examples):\n",
        "    \"\"\"生成 y = Xw + b + 噪声。\"\"\"\n",
        "    X = torch.normal(0, 1, (num_examples, len(w)))\n",
        "    y = torch.matmul(X, w) + b\n",
        "    y += torch.normal(0, 0.01, y.shape)\n",
        "    return X, y.reshape((-1, 1))\n",
        "\n",
        "true_w = torch.tensor([2, -3.4])\n",
        "true_b = 4.2\n",
        "features, labels = synthetic_data(true_w, true_b, 1000)"
      ],
      "metadata": {
        "id": "K2r8xmlAPiHd"
      },
      "id": "K2r8xmlAPiHd",
      "execution_count": 142,
      "outputs": []
    },
    {
      "cell_type": "code",
      "source": [
        "print('features:', features[0], '\\nlabel:', labels[0])"
      ],
      "metadata": {
        "id": "BaV6q11XFN3B",
        "outputId": "f33c66ff-7777-459d-c851-569c758776ce",
        "colab": {
          "base_uri": "https://localhost:8080/"
        }
      },
      "id": "BaV6q11XFN3B",
      "execution_count": 143,
      "outputs": [
        {
          "output_type": "stream",
          "name": "stdout",
          "text": [
            "features: tensor([-0.7411,  2.1894]) \n",
            "label: tensor([-4.7127])\n"
          ]
        }
      ]
    },
    {
      "cell_type": "code",
      "source": [
        "print('features:', features[0:11], '\\nlabel:', labels[0:11])"
      ],
      "metadata": {
        "id": "GnxLH8wxF9g-",
        "outputId": "fff922bd-766f-4291-c007-9f9dd4221a94",
        "colab": {
          "base_uri": "https://localhost:8080/"
        }
      },
      "id": "GnxLH8wxF9g-",
      "execution_count": 144,
      "outputs": [
        {
          "output_type": "stream",
          "name": "stdout",
          "text": [
            "features: tensor([[-0.7411,  2.1894],\n",
            "        [-1.0698, -0.5081],\n",
            "        [-0.5890, -0.7995],\n",
            "        [-0.4286, -0.9491],\n",
            "        [-0.2401, -0.3391],\n",
            "        [ 1.4030,  1.0456],\n",
            "        [-0.2754,  1.0623],\n",
            "        [-0.5812,  2.0503],\n",
            "        [ 1.1538,  1.5046],\n",
            "        [ 0.6037, -0.1879],\n",
            "        [ 0.3018, -0.9549]]) \n",
            "label: tensor([[-4.7127],\n",
            "        [ 3.7925],\n",
            "        [ 5.7380],\n",
            "        [ 6.5624],\n",
            "        [ 4.8771],\n",
            "        [ 3.4493],\n",
            "        [ 0.0352],\n",
            "        [-3.9547],\n",
            "        [ 1.3742],\n",
            "        [ 6.0522],\n",
            "        [ 8.0459]])\n"
          ]
        }
      ]
    },
    {
      "cell_type": "code",
      "source": [
        "d2l.set_figsize()\n",
        "d2l.plt.scatter(features[:, (1)].detach().numpy(),\n",
        "                labels.detach().numpy(), 1);"
      ],
      "metadata": {
        "id": "XXOizl4fFTJz",
        "outputId": "3d3e7272-f84f-488d-dc98-fdadb43e5c96",
        "colab": {
          "base_uri": "https://localhost:8080/",
          "height": 247
        }
      },
      "id": "XXOizl4fFTJz",
      "execution_count": 145,
      "outputs": [
        {
          "output_type": "display_data",
          "data": {
            "text/plain": [
              "<Figure size 350x250 with 1 Axes>"
            ],
            "image/svg+xml": "<?xml version=\"1.0\" encoding=\"utf-8\" standalone=\"no\"?>\n<!DOCTYPE svg PUBLIC \"-//W3C//DTD SVG 1.1//EN\"\n  \"http://www.w3.org/Graphics/SVG/1.1/DTD/svg11.dtd\">\n<svg xmlns:xlink=\"http://www.w3.org/1999/xlink\" width=\"237.804688pt\" height=\"169.678125pt\" viewBox=\"0 0 237.804688 169.678125\" xmlns=\"http://www.w3.org/2000/svg\" version=\"1.1\">\n <metadata>\n  <rdf:RDF xmlns:dc=\"http://purl.org/dc/elements/1.1/\" xmlns:cc=\"http://creativecommons.org/ns#\" xmlns:rdf=\"http://www.w3.org/1999/02/22-rdf-syntax-ns#\">\n   <cc:Work>\n    <dc:type rdf:resource=\"http://purl.org/dc/dcmitype/StillImage\"/>\n    <dc:date>2023-11-07T09:53:10.904885</dc:date>\n    <dc:format>image/svg+xml</dc:format>\n    <dc:creator>\n     <cc:Agent>\n      <dc:title>Matplotlib v3.7.1, https://matplotlib.org/</dc:title>\n     </cc:Agent>\n    </dc:creator>\n   </cc:Work>\n  </rdf:RDF>\n </metadata>\n <defs>\n  <style type=\"text/css\">*{stroke-linejoin: round; stroke-linecap: butt}</style>\n </defs>\n <g id=\"figure_1\">\n  <g id=\"patch_1\">\n   <path d=\"M 0 169.678125 \nL 237.804688 169.678125 \nL 237.804688 0 \nL 0 0 \nz\n\" style=\"fill: #ffffff\"/>\n  </g>\n  <g id=\"axes_1\">\n   <g id=\"patch_2\">\n    <path d=\"M 35.304688 145.8 \nL 230.604688 145.8 \nL 230.604688 7.2 \nL 35.304688 7.2 \nz\n\" style=\"fill: #ffffff\"/>\n   </g>\n   <g id=\"PathCollection_1\">\n    <defs>\n     <path id=\"m09b839bab9\" d=\"M 0 0.5 \nC 0.132602 0.5 0.25979 0.447317 0.353553 0.353553 \nC 0.447317 0.25979 0.5 0.132602 0.5 0 \nC 0.5 -0.132602 0.447317 -0.25979 0.353553 -0.353553 \nC 0.25979 -0.447317 0.132602 -0.5 0 -0.5 \nC -0.132602 -0.5 -0.25979 -0.447317 -0.353553 -0.353553 \nC -0.447317 -0.25979 -0.5 -0.132602 -0.5 0 \nC -0.5 0.132602 -0.447317 0.25979 -0.353553 0.353553 \nC -0.25979 0.447317 -0.132602 0.5 0 0.5 \nz\n\" style=\"stroke: #1f77b4\"/>\n    </defs>\n    <g clip-path=\"url(#pa8af1c6a05)\">\n     <use xlink:href=\"#m09b839bab9\" x=\"189.270806\" y=\"111.509026\" style=\"fill: #1f77b4; stroke: #1f77b4\"/>\n     <use xlink:href=\"#m09b839bab9\" x=\"118.414207\" y=\"71.372029\" style=\"fill: #1f77b4; stroke: #1f77b4\"/>\n     <use xlink:href=\"#m09b839bab9\" x=\"110.758038\" y=\"62.190775\" style=\"fill: #1f77b4; stroke: #1f77b4\"/>\n     <use xlink:href=\"#m09b839bab9\" x=\"106.828144\" y=\"58.300304\" style=\"fill: #1f77b4; stroke: #1f77b4\"/>\n     <use xlink:href=\"#m09b839bab9\" x=\"122.852401\" y=\"66.253707\" style=\"fill: #1f77b4; stroke: #1f77b4\"/>\n     <use xlink:href=\"#m09b839bab9\" x=\"159.226206\" y=\"72.991389\" style=\"fill: #1f77b4; stroke: #1f77b4\"/>\n     <use xlink:href=\"#m09b839bab9\" x=\"159.663624\" y=\"89.102896\" style=\"fill: #1f77b4; stroke: #1f77b4\"/>\n     <use xlink:href=\"#m09b839bab9\" x=\"185.618453\" y=\"107.932051\" style=\"fill: #1f77b4; stroke: #1f77b4\"/>\n     <use xlink:href=\"#m09b839bab9\" x=\"171.284283\" y=\"82.783987\" style=\"fill: #1f77b4; stroke: #1f77b4\"/>\n     <use xlink:href=\"#m09b839bab9\" x=\"126.823884\" y=\"60.708079\" style=\"fill: #1f77b4; stroke: #1f77b4\"/>\n     <use xlink:href=\"#m09b839bab9\" x=\"106.677202\" y=\"51.299454\" style=\"fill: #1f77b4; stroke: #1f77b4\"/>\n     <use xlink:href=\"#m09b839bab9\" x=\"139.204934\" y=\"74.706308\" style=\"fill: #1f77b4; stroke: #1f77b4\"/>\n     <use xlink:href=\"#m09b839bab9\" x=\"126.132609\" y=\"63.069847\" style=\"fill: #1f77b4; stroke: #1f77b4\"/>\n     <use xlink:href=\"#m09b839bab9\" x=\"118.625057\" y=\"43.699806\" style=\"fill: #1f77b4; stroke: #1f77b4\"/>\n     <use xlink:href=\"#m09b839bab9\" x=\"133.674028\" y=\"69.201882\" style=\"fill: #1f77b4; stroke: #1f77b4\"/>\n     <use xlink:href=\"#m09b839bab9\" x=\"130.793858\" y=\"64.569629\" style=\"fill: #1f77b4; stroke: #1f77b4\"/>\n     <use xlink:href=\"#m09b839bab9\" x=\"178.327539\" y=\"97.611403\" style=\"fill: #1f77b4; stroke: #1f77b4\"/>\n     <use xlink:href=\"#m09b839bab9\" x=\"71.461959\" y=\"31.272395\" style=\"fill: #1f77b4; stroke: #1f77b4\"/>\n     <use xlink:href=\"#m09b839bab9\" x=\"149.97869\" y=\"83.667756\" style=\"fill: #1f77b4; stroke: #1f77b4\"/>\n     <use xlink:href=\"#m09b839bab9\" x=\"85.758368\" y=\"34.047276\" style=\"fill: #1f77b4; stroke: #1f77b4\"/>\n     <use xlink:href=\"#m09b839bab9\" x=\"142.675822\" y=\"79.586725\" style=\"fill: #1f77b4; stroke: #1f77b4\"/>\n     <use xlink:href=\"#m09b839bab9\" x=\"127.425003\" y=\"51.968154\" style=\"fill: #1f77b4; stroke: #1f77b4\"/>\n     <use xlink:href=\"#m09b839bab9\" x=\"138.326818\" y=\"69.126611\" style=\"fill: #1f77b4; stroke: #1f77b4\"/>\n     <use xlink:href=\"#m09b839bab9\" x=\"136.515077\" y=\"70.992694\" style=\"fill: #1f77b4; stroke: #1f77b4\"/>\n     <use xlink:href=\"#m09b839bab9\" x=\"111.735481\" y=\"53.537827\" style=\"fill: #1f77b4; stroke: #1f77b4\"/>\n     <use xlink:href=\"#m09b839bab9\" x=\"149.312348\" y=\"65.419943\" style=\"fill: #1f77b4; stroke: #1f77b4\"/>\n     <use xlink:href=\"#m09b839bab9\" x=\"129.164671\" y=\"65.630016\" style=\"fill: #1f77b4; stroke: #1f77b4\"/>\n     <use xlink:href=\"#m09b839bab9\" x=\"134.210662\" y=\"71.604184\" style=\"fill: #1f77b4; stroke: #1f77b4\"/>\n     <use xlink:href=\"#m09b839bab9\" x=\"161.876645\" y=\"91.070876\" style=\"fill: #1f77b4; stroke: #1f77b4\"/>\n     <use xlink:href=\"#m09b839bab9\" x=\"85.005395\" y=\"36.882203\" style=\"fill: #1f77b4; stroke: #1f77b4\"/>\n     <use xlink:href=\"#m09b839bab9\" x=\"135.810024\" y=\"85.712775\" style=\"fill: #1f77b4; stroke: #1f77b4\"/>\n     <use xlink:href=\"#m09b839bab9\" x=\"162.970249\" y=\"86.847525\" style=\"fill: #1f77b4; stroke: #1f77b4\"/>\n     <use xlink:href=\"#m09b839bab9\" x=\"131.916845\" y=\"70.691869\" style=\"fill: #1f77b4; stroke: #1f77b4\"/>\n     <use xlink:href=\"#m09b839bab9\" x=\"136.452615\" y=\"69.062168\" style=\"fill: #1f77b4; stroke: #1f77b4\"/>\n     <use xlink:href=\"#m09b839bab9\" x=\"139.670761\" y=\"69.072499\" style=\"fill: #1f77b4; stroke: #1f77b4\"/>\n     <use xlink:href=\"#m09b839bab9\" x=\"177.576731\" y=\"93.005985\" style=\"fill: #1f77b4; stroke: #1f77b4\"/>\n     <use xlink:href=\"#m09b839bab9\" x=\"108.887308\" y=\"72.83056\" style=\"fill: #1f77b4; stroke: #1f77b4\"/>\n     <use xlink:href=\"#m09b839bab9\" x=\"150.505767\" y=\"78.828579\" style=\"fill: #1f77b4; stroke: #1f77b4\"/>\n     <use xlink:href=\"#m09b839bab9\" x=\"113.374765\" y=\"61.505148\" style=\"fill: #1f77b4; stroke: #1f77b4\"/>\n     <use xlink:href=\"#m09b839bab9\" x=\"118.594359\" y=\"74.951152\" style=\"fill: #1f77b4; stroke: #1f77b4\"/>\n     <use xlink:href=\"#m09b839bab9\" x=\"117.777211\" y=\"55.195919\" style=\"fill: #1f77b4; stroke: #1f77b4\"/>\n     <use xlink:href=\"#m09b839bab9\" x=\"148.035739\" y=\"81.00338\" style=\"fill: #1f77b4; stroke: #1f77b4\"/>\n     <use xlink:href=\"#m09b839bab9\" x=\"81.021408\" y=\"31.133991\" style=\"fill: #1f77b4; stroke: #1f77b4\"/>\n     <use xlink:href=\"#m09b839bab9\" x=\"85.434333\" y=\"26.489524\" style=\"fill: #1f77b4; stroke: #1f77b4\"/>\n     <use xlink:href=\"#m09b839bab9\" x=\"119.389556\" y=\"63.43676\" style=\"fill: #1f77b4; stroke: #1f77b4\"/>\n     <use xlink:href=\"#m09b839bab9\" x=\"145.369969\" y=\"77.850739\" style=\"fill: #1f77b4; stroke: #1f77b4\"/>\n     <use xlink:href=\"#m09b839bab9\" x=\"170.985343\" y=\"98.883286\" style=\"fill: #1f77b4; stroke: #1f77b4\"/>\n     <use xlink:href=\"#m09b839bab9\" x=\"184.849742\" y=\"99.6572\" style=\"fill: #1f77b4; stroke: #1f77b4\"/>\n     <use xlink:href=\"#m09b839bab9\" x=\"158.732758\" y=\"88.160765\" style=\"fill: #1f77b4; stroke: #1f77b4\"/>\n     <use xlink:href=\"#m09b839bab9\" x=\"110.008301\" y=\"59.281943\" style=\"fill: #1f77b4; stroke: #1f77b4\"/>\n     <use xlink:href=\"#m09b839bab9\" x=\"171.574796\" y=\"86.840571\" style=\"fill: #1f77b4; stroke: #1f77b4\"/>\n     <use xlink:href=\"#m09b839bab9\" x=\"110.802521\" y=\"56.050934\" style=\"fill: #1f77b4; stroke: #1f77b4\"/>\n     <use xlink:href=\"#m09b839bab9\" x=\"149.924628\" y=\"89.118735\" style=\"fill: #1f77b4; stroke: #1f77b4\"/>\n     <use xlink:href=\"#m09b839bab9\" x=\"133.524115\" y=\"87.242721\" style=\"fill: #1f77b4; stroke: #1f77b4\"/>\n     <use xlink:href=\"#m09b839bab9\" x=\"117.336574\" y=\"55.070353\" style=\"fill: #1f77b4; stroke: #1f77b4\"/>\n     <use xlink:href=\"#m09b839bab9\" x=\"109.445663\" y=\"56.837595\" style=\"fill: #1f77b4; stroke: #1f77b4\"/>\n     <use xlink:href=\"#m09b839bab9\" x=\"129.666\" y=\"82.34448\" style=\"fill: #1f77b4; stroke: #1f77b4\"/>\n     <use xlink:href=\"#m09b839bab9\" x=\"130.88498\" y=\"72.862147\" style=\"fill: #1f77b4; stroke: #1f77b4\"/>\n     <use xlink:href=\"#m09b839bab9\" x=\"160.838244\" y=\"96.202881\" style=\"fill: #1f77b4; stroke: #1f77b4\"/>\n     <use xlink:href=\"#m09b839bab9\" x=\"69.641369\" y=\"56.164673\" style=\"fill: #1f77b4; stroke: #1f77b4\"/>\n     <use xlink:href=\"#m09b839bab9\" x=\"203.824977\" y=\"117.764989\" style=\"fill: #1f77b4; stroke: #1f77b4\"/>\n     <use xlink:href=\"#m09b839bab9\" x=\"112.861425\" y=\"65.743748\" style=\"fill: #1f77b4; stroke: #1f77b4\"/>\n     <use xlink:href=\"#m09b839bab9\" x=\"73.077773\" y=\"38.273012\" style=\"fill: #1f77b4; stroke: #1f77b4\"/>\n     <use xlink:href=\"#m09b839bab9\" x=\"138.531256\" y=\"85.18103\" style=\"fill: #1f77b4; stroke: #1f77b4\"/>\n     <use xlink:href=\"#m09b839bab9\" x=\"162.03939\" y=\"91.989262\" style=\"fill: #1f77b4; stroke: #1f77b4\"/>\n     <use xlink:href=\"#m09b839bab9\" x=\"140.141083\" y=\"66.125141\" style=\"fill: #1f77b4; stroke: #1f77b4\"/>\n     <use xlink:href=\"#m09b839bab9\" x=\"105.592686\" y=\"58.386219\" style=\"fill: #1f77b4; stroke: #1f77b4\"/>\n     <use xlink:href=\"#m09b839bab9\" x=\"158.648439\" y=\"77.407949\" style=\"fill: #1f77b4; stroke: #1f77b4\"/>\n     <use xlink:href=\"#m09b839bab9\" x=\"70.911344\" y=\"25.338943\" style=\"fill: #1f77b4; stroke: #1f77b4\"/>\n     <use xlink:href=\"#m09b839bab9\" x=\"180.501055\" y=\"103.195628\" style=\"fill: #1f77b4; stroke: #1f77b4\"/>\n     <use xlink:href=\"#m09b839bab9\" x=\"121.671366\" y=\"70.552008\" style=\"fill: #1f77b4; stroke: #1f77b4\"/>\n     <use xlink:href=\"#m09b839bab9\" x=\"119.746793\" y=\"63.214541\" style=\"fill: #1f77b4; stroke: #1f77b4\"/>\n     <use xlink:href=\"#m09b839bab9\" x=\"128.00773\" y=\"54.903188\" style=\"fill: #1f77b4; stroke: #1f77b4\"/>\n     <use xlink:href=\"#m09b839bab9\" x=\"124.027843\" y=\"57.323233\" style=\"fill: #1f77b4; stroke: #1f77b4\"/>\n     <use xlink:href=\"#m09b839bab9\" x=\"195.131723\" y=\"94.460365\" style=\"fill: #1f77b4; stroke: #1f77b4\"/>\n     <use xlink:href=\"#m09b839bab9\" x=\"68.510179\" y=\"28.952781\" style=\"fill: #1f77b4; stroke: #1f77b4\"/>\n     <use xlink:href=\"#m09b839bab9\" x=\"136.959061\" y=\"72.554353\" style=\"fill: #1f77b4; stroke: #1f77b4\"/>\n     <use xlink:href=\"#m09b839bab9\" x=\"131.872297\" y=\"62.676825\" style=\"fill: #1f77b4; stroke: #1f77b4\"/>\n     <use xlink:href=\"#m09b839bab9\" x=\"127.019944\" y=\"70.630588\" style=\"fill: #1f77b4; stroke: #1f77b4\"/>\n     <use xlink:href=\"#m09b839bab9\" x=\"163.032154\" y=\"78.808914\" style=\"fill: #1f77b4; stroke: #1f77b4\"/>\n     <use xlink:href=\"#m09b839bab9\" x=\"181.592665\" y=\"115.639258\" style=\"fill: #1f77b4; stroke: #1f77b4\"/>\n     <use xlink:href=\"#m09b839bab9\" x=\"182.118723\" y=\"90.12816\" style=\"fill: #1f77b4; stroke: #1f77b4\"/>\n     <use xlink:href=\"#m09b839bab9\" x=\"115.155334\" y=\"63.525744\" style=\"fill: #1f77b4; stroke: #1f77b4\"/>\n     <use xlink:href=\"#m09b839bab9\" x=\"132.10802\" y=\"50.08835\" style=\"fill: #1f77b4; stroke: #1f77b4\"/>\n     <use xlink:href=\"#m09b839bab9\" x=\"103.216086\" y=\"53.720345\" style=\"fill: #1f77b4; stroke: #1f77b4\"/>\n     <use xlink:href=\"#m09b839bab9\" x=\"137.911002\" y=\"82.584498\" style=\"fill: #1f77b4; stroke: #1f77b4\"/>\n     <use xlink:href=\"#m09b839bab9\" x=\"137.773614\" y=\"74.551942\" style=\"fill: #1f77b4; stroke: #1f77b4\"/>\n     <use xlink:href=\"#m09b839bab9\" x=\"150.728005\" y=\"82.950847\" style=\"fill: #1f77b4; stroke: #1f77b4\"/>\n     <use xlink:href=\"#m09b839bab9\" x=\"126.653196\" y=\"77.712001\" style=\"fill: #1f77b4; stroke: #1f77b4\"/>\n     <use xlink:href=\"#m09b839bab9\" x=\"125.246332\" y=\"68.143516\" style=\"fill: #1f77b4; stroke: #1f77b4\"/>\n     <use xlink:href=\"#m09b839bab9\" x=\"158.158765\" y=\"77.057276\" style=\"fill: #1f77b4; stroke: #1f77b4\"/>\n     <use xlink:href=\"#m09b839bab9\" x=\"167.588473\" y=\"88.087946\" style=\"fill: #1f77b4; stroke: #1f77b4\"/>\n     <use xlink:href=\"#m09b839bab9\" x=\"152.216958\" y=\"77.990053\" style=\"fill: #1f77b4; stroke: #1f77b4\"/>\n     <use xlink:href=\"#m09b839bab9\" x=\"136.899347\" y=\"72.903763\" style=\"fill: #1f77b4; stroke: #1f77b4\"/>\n     <use xlink:href=\"#m09b839bab9\" x=\"101.084069\" y=\"61.423718\" style=\"fill: #1f77b4; stroke: #1f77b4\"/>\n     <use xlink:href=\"#m09b839bab9\" x=\"155.690991\" y=\"95.834804\" style=\"fill: #1f77b4; stroke: #1f77b4\"/>\n     <use xlink:href=\"#m09b839bab9\" x=\"138.655302\" y=\"73.877281\" style=\"fill: #1f77b4; stroke: #1f77b4\"/>\n     <use xlink:href=\"#m09b839bab9\" x=\"148.816822\" y=\"84.221608\" style=\"fill: #1f77b4; stroke: #1f77b4\"/>\n     <use xlink:href=\"#m09b839bab9\" x=\"101.404594\" y=\"46.165998\" style=\"fill: #1f77b4; stroke: #1f77b4\"/>\n     <use xlink:href=\"#m09b839bab9\" x=\"159.460242\" y=\"93.782074\" style=\"fill: #1f77b4; stroke: #1f77b4\"/>\n     <use xlink:href=\"#m09b839bab9\" x=\"120.376845\" y=\"62.569526\" style=\"fill: #1f77b4; stroke: #1f77b4\"/>\n     <use xlink:href=\"#m09b839bab9\" x=\"102.233819\" y=\"46.913793\" style=\"fill: #1f77b4; stroke: #1f77b4\"/>\n     <use xlink:href=\"#m09b839bab9\" x=\"113.954486\" y=\"42.716387\" style=\"fill: #1f77b4; stroke: #1f77b4\"/>\n     <use xlink:href=\"#m09b839bab9\" x=\"137.801214\" y=\"65.137174\" style=\"fill: #1f77b4; stroke: #1f77b4\"/>\n     <use xlink:href=\"#m09b839bab9\" x=\"102.533874\" y=\"33.202311\" style=\"fill: #1f77b4; stroke: #1f77b4\"/>\n     <use xlink:href=\"#m09b839bab9\" x=\"135.015894\" y=\"66.041868\" style=\"fill: #1f77b4; stroke: #1f77b4\"/>\n     <use xlink:href=\"#m09b839bab9\" x=\"141.951624\" y=\"81.660831\" style=\"fill: #1f77b4; stroke: #1f77b4\"/>\n     <use xlink:href=\"#m09b839bab9\" x=\"126.565422\" y=\"56.557418\" style=\"fill: #1f77b4; stroke: #1f77b4\"/>\n     <use xlink:href=\"#m09b839bab9\" x=\"95.709024\" y=\"32.943149\" style=\"fill: #1f77b4; stroke: #1f77b4\"/>\n     <use xlink:href=\"#m09b839bab9\" x=\"118.247942\" y=\"63.673581\" style=\"fill: #1f77b4; stroke: #1f77b4\"/>\n     <use xlink:href=\"#m09b839bab9\" x=\"119.349596\" y=\"52.075334\" style=\"fill: #1f77b4; stroke: #1f77b4\"/>\n     <use xlink:href=\"#m09b839bab9\" x=\"147.941217\" y=\"90.221471\" style=\"fill: #1f77b4; stroke: #1f77b4\"/>\n     <use xlink:href=\"#m09b839bab9\" x=\"121.011143\" y=\"62.596133\" style=\"fill: #1f77b4; stroke: #1f77b4\"/>\n     <use xlink:href=\"#m09b839bab9\" x=\"149.921884\" y=\"94.146886\" style=\"fill: #1f77b4; stroke: #1f77b4\"/>\n     <use xlink:href=\"#m09b839bab9\" x=\"158.875739\" y=\"98.620549\" style=\"fill: #1f77b4; stroke: #1f77b4\"/>\n     <use xlink:href=\"#m09b839bab9\" x=\"191.486586\" y=\"101.478246\" style=\"fill: #1f77b4; stroke: #1f77b4\"/>\n     <use xlink:href=\"#m09b839bab9\" x=\"90.567438\" y=\"63.234586\" style=\"fill: #1f77b4; stroke: #1f77b4\"/>\n     <use xlink:href=\"#m09b839bab9\" x=\"164.877344\" y=\"99.729919\" style=\"fill: #1f77b4; stroke: #1f77b4\"/>\n     <use xlink:href=\"#m09b839bab9\" x=\"129.921592\" y=\"68.16691\" style=\"fill: #1f77b4; stroke: #1f77b4\"/>\n     <use xlink:href=\"#m09b839bab9\" x=\"161.360955\" y=\"102.45887\" style=\"fill: #1f77b4; stroke: #1f77b4\"/>\n     <use xlink:href=\"#m09b839bab9\" x=\"109.514677\" y=\"87.935664\" style=\"fill: #1f77b4; stroke: #1f77b4\"/>\n     <use xlink:href=\"#m09b839bab9\" x=\"168.209547\" y=\"96.808457\" style=\"fill: #1f77b4; stroke: #1f77b4\"/>\n     <use xlink:href=\"#m09b839bab9\" x=\"149.749439\" y=\"87.088817\" style=\"fill: #1f77b4; stroke: #1f77b4\"/>\n     <use xlink:href=\"#m09b839bab9\" x=\"122.599178\" y=\"76.227026\" style=\"fill: #1f77b4; stroke: #1f77b4\"/>\n     <use xlink:href=\"#m09b839bab9\" x=\"103.464345\" y=\"45.161075\" style=\"fill: #1f77b4; stroke: #1f77b4\"/>\n     <use xlink:href=\"#m09b839bab9\" x=\"147.828269\" y=\"78.558498\" style=\"fill: #1f77b4; stroke: #1f77b4\"/>\n     <use xlink:href=\"#m09b839bab9\" x=\"165.1456\" y=\"73.947423\" style=\"fill: #1f77b4; stroke: #1f77b4\"/>\n     <use xlink:href=\"#m09b839bab9\" x=\"149.764423\" y=\"70.808241\" style=\"fill: #1f77b4; stroke: #1f77b4\"/>\n     <use xlink:href=\"#m09b839bab9\" x=\"165.684171\" y=\"75.747315\" style=\"fill: #1f77b4; stroke: #1f77b4\"/>\n     <use xlink:href=\"#m09b839bab9\" x=\"107.055108\" y=\"59.665564\" style=\"fill: #1f77b4; stroke: #1f77b4\"/>\n     <use xlink:href=\"#m09b839bab9\" x=\"158.330848\" y=\"92.805805\" style=\"fill: #1f77b4; stroke: #1f77b4\"/>\n     <use xlink:href=\"#m09b839bab9\" x=\"154.484162\" y=\"77.333138\" style=\"fill: #1f77b4; stroke: #1f77b4\"/>\n     <use xlink:href=\"#m09b839bab9\" x=\"102.499153\" y=\"55.648908\" style=\"fill: #1f77b4; stroke: #1f77b4\"/>\n     <use xlink:href=\"#m09b839bab9\" x=\"175.980982\" y=\"100.218456\" style=\"fill: #1f77b4; stroke: #1f77b4\"/>\n     <use xlink:href=\"#m09b839bab9\" x=\"143.683765\" y=\"89.933585\" style=\"fill: #1f77b4; stroke: #1f77b4\"/>\n     <use xlink:href=\"#m09b839bab9\" x=\"132.588415\" y=\"58.349551\" style=\"fill: #1f77b4; stroke: #1f77b4\"/>\n     <use xlink:href=\"#m09b839bab9\" x=\"150.969738\" y=\"72.408256\" style=\"fill: #1f77b4; stroke: #1f77b4\"/>\n     <use xlink:href=\"#m09b839bab9\" x=\"109.190898\" y=\"48.580357\" style=\"fill: #1f77b4; stroke: #1f77b4\"/>\n     <use xlink:href=\"#m09b839bab9\" x=\"189.197424\" y=\"88.556553\" style=\"fill: #1f77b4; stroke: #1f77b4\"/>\n     <use xlink:href=\"#m09b839bab9\" x=\"138.973317\" y=\"89.520212\" style=\"fill: #1f77b4; stroke: #1f77b4\"/>\n     <use xlink:href=\"#m09b839bab9\" x=\"141.173977\" y=\"73.108559\" style=\"fill: #1f77b4; stroke: #1f77b4\"/>\n     <use xlink:href=\"#m09b839bab9\" x=\"123.121407\" y=\"54.691948\" style=\"fill: #1f77b4; stroke: #1f77b4\"/>\n     <use xlink:href=\"#m09b839bab9\" x=\"149.556961\" y=\"88.713245\" style=\"fill: #1f77b4; stroke: #1f77b4\"/>\n     <use xlink:href=\"#m09b839bab9\" x=\"154.396447\" y=\"86.972923\" style=\"fill: #1f77b4; stroke: #1f77b4\"/>\n     <use xlink:href=\"#m09b839bab9\" x=\"135.223773\" y=\"75.338475\" style=\"fill: #1f77b4; stroke: #1f77b4\"/>\n     <use xlink:href=\"#m09b839bab9\" x=\"120.737529\" y=\"62.239884\" style=\"fill: #1f77b4; stroke: #1f77b4\"/>\n     <use xlink:href=\"#m09b839bab9\" x=\"141.030143\" y=\"90.326804\" style=\"fill: #1f77b4; stroke: #1f77b4\"/>\n     <use xlink:href=\"#m09b839bab9\" x=\"163.029984\" y=\"83.241588\" style=\"fill: #1f77b4; stroke: #1f77b4\"/>\n     <use xlink:href=\"#m09b839bab9\" x=\"140.736342\" y=\"69.211509\" style=\"fill: #1f77b4; stroke: #1f77b4\"/>\n     <use xlink:href=\"#m09b839bab9\" x=\"126.033856\" y=\"63.872789\" style=\"fill: #1f77b4; stroke: #1f77b4\"/>\n     <use xlink:href=\"#m09b839bab9\" x=\"94.385195\" y=\"43.944026\" style=\"fill: #1f77b4; stroke: #1f77b4\"/>\n     <use xlink:href=\"#m09b839bab9\" x=\"146.571965\" y=\"56.9846\" style=\"fill: #1f77b4; stroke: #1f77b4\"/>\n     <use xlink:href=\"#m09b839bab9\" x=\"101.018453\" y=\"61.620626\" style=\"fill: #1f77b4; stroke: #1f77b4\"/>\n     <use xlink:href=\"#m09b839bab9\" x=\"134.114964\" y=\"65.713955\" style=\"fill: #1f77b4; stroke: #1f77b4\"/>\n     <use xlink:href=\"#m09b839bab9\" x=\"121.82388\" y=\"66.003589\" style=\"fill: #1f77b4; stroke: #1f77b4\"/>\n     <use xlink:href=\"#m09b839bab9\" x=\"99.868984\" y=\"39.136285\" style=\"fill: #1f77b4; stroke: #1f77b4\"/>\n     <use xlink:href=\"#m09b839bab9\" x=\"151.041192\" y=\"84.622802\" style=\"fill: #1f77b4; stroke: #1f77b4\"/>\n     <use xlink:href=\"#m09b839bab9\" x=\"125.215365\" y=\"68.365735\" style=\"fill: #1f77b4; stroke: #1f77b4\"/>\n     <use xlink:href=\"#m09b839bab9\" x=\"98.362888\" y=\"31.117411\" style=\"fill: #1f77b4; stroke: #1f77b4\"/>\n     <use xlink:href=\"#m09b839bab9\" x=\"137.059767\" y=\"81.668641\" style=\"fill: #1f77b4; stroke: #1f77b4\"/>\n     <use xlink:href=\"#m09b839bab9\" x=\"89.291025\" y=\"51.255817\" style=\"fill: #1f77b4; stroke: #1f77b4\"/>\n     <use xlink:href=\"#m09b839bab9\" x=\"213.354361\" y=\"117.293079\" style=\"fill: #1f77b4; stroke: #1f77b4\"/>\n     <use xlink:href=\"#m09b839bab9\" x=\"159.80356\" y=\"68.331426\" style=\"fill: #1f77b4; stroke: #1f77b4\"/>\n     <use xlink:href=\"#m09b839bab9\" x=\"138.732645\" y=\"70.446645\" style=\"fill: #1f77b4; stroke: #1f77b4\"/>\n     <use xlink:href=\"#m09b839bab9\" x=\"185.471559\" y=\"110.739217\" style=\"fill: #1f77b4; stroke: #1f77b4\"/>\n     <use xlink:href=\"#m09b839bab9\" x=\"120.089958\" y=\"48.146832\" style=\"fill: #1f77b4; stroke: #1f77b4\"/>\n     <use xlink:href=\"#m09b839bab9\" x=\"142.216158\" y=\"65.378771\" style=\"fill: #1f77b4; stroke: #1f77b4\"/>\n     <use xlink:href=\"#m09b839bab9\" x=\"118.029502\" y=\"63.965959\" style=\"fill: #1f77b4; stroke: #1f77b4\"/>\n     <use xlink:href=\"#m09b839bab9\" x=\"147.29788\" y=\"74.64966\" style=\"fill: #1f77b4; stroke: #1f77b4\"/>\n     <use xlink:href=\"#m09b839bab9\" x=\"171.013337\" y=\"102.330926\" style=\"fill: #1f77b4; stroke: #1f77b4\"/>\n     <use xlink:href=\"#m09b839bab9\" x=\"114.857421\" y=\"56.979496\" style=\"fill: #1f77b4; stroke: #1f77b4\"/>\n     <use xlink:href=\"#m09b839bab9\" x=\"107.621228\" y=\"72.738018\" style=\"fill: #1f77b4; stroke: #1f77b4\"/>\n     <use xlink:href=\"#m09b839bab9\" x=\"138.090076\" y=\"72.966405\" style=\"fill: #1f77b4; stroke: #1f77b4\"/>\n     <use xlink:href=\"#m09b839bab9\" x=\"117.171259\" y=\"61.207806\" style=\"fill: #1f77b4; stroke: #1f77b4\"/>\n     <use xlink:href=\"#m09b839bab9\" x=\"156.327791\" y=\"88.696757\" style=\"fill: #1f77b4; stroke: #1f77b4\"/>\n     <use xlink:href=\"#m09b839bab9\" x=\"106.716554\" y=\"52.735097\" style=\"fill: #1f77b4; stroke: #1f77b4\"/>\n     <use xlink:href=\"#m09b839bab9\" x=\"89.074845\" y=\"45.1477\" style=\"fill: #1f77b4; stroke: #1f77b4\"/>\n     <use xlink:href=\"#m09b839bab9\" x=\"125.928529\" y=\"49.090493\" style=\"fill: #1f77b4; stroke: #1f77b4\"/>\n     <use xlink:href=\"#m09b839bab9\" x=\"137.3006\" y=\"71.543655\" style=\"fill: #1f77b4; stroke: #1f77b4\"/>\n     <use xlink:href=\"#m09b839bab9\" x=\"153.485134\" y=\"92.125193\" style=\"fill: #1f77b4; stroke: #1f77b4\"/>\n     <use xlink:href=\"#m09b839bab9\" x=\"187.079914\" y=\"104.552351\" style=\"fill: #1f77b4; stroke: #1f77b4\"/>\n     <use xlink:href=\"#m09b839bab9\" x=\"78.884624\" y=\"20.758185\" style=\"fill: #1f77b4; stroke: #1f77b4\"/>\n     <use xlink:href=\"#m09b839bab9\" x=\"131.86197\" y=\"66.748956\" style=\"fill: #1f77b4; stroke: #1f77b4\"/>\n     <use xlink:href=\"#m09b839bab9\" x=\"150.245544\" y=\"82.900545\" style=\"fill: #1f77b4; stroke: #1f77b4\"/>\n     <use xlink:href=\"#m09b839bab9\" x=\"195.60146\" y=\"104.204175\" style=\"fill: #1f77b4; stroke: #1f77b4\"/>\n     <use xlink:href=\"#m09b839bab9\" x=\"130.608937\" y=\"73.577103\" style=\"fill: #1f77b4; stroke: #1f77b4\"/>\n     <use xlink:href=\"#m09b839bab9\" x=\"105.10734\" y=\"56.853725\" style=\"fill: #1f77b4; stroke: #1f77b4\"/>\n     <use xlink:href=\"#m09b839bab9\" x=\"116.389559\" y=\"70.151916\" style=\"fill: #1f77b4; stroke: #1f77b4\"/>\n     <use xlink:href=\"#m09b839bab9\" x=\"164.781485\" y=\"80.602556\" style=\"fill: #1f77b4; stroke: #1f77b4\"/>\n     <use xlink:href=\"#m09b839bab9\" x=\"105.480237\" y=\"52.783527\" style=\"fill: #1f77b4; stroke: #1f77b4\"/>\n     <use xlink:href=\"#m09b839bab9\" x=\"143.972815\" y=\"60.917197\" style=\"fill: #1f77b4; stroke: #1f77b4\"/>\n     <use xlink:href=\"#m09b839bab9\" x=\"178.665741\" y=\"95.952952\" style=\"fill: #1f77b4; stroke: #1f77b4\"/>\n     <use xlink:href=\"#m09b839bab9\" x=\"130.963726\" y=\"86.37067\" style=\"fill: #1f77b4; stroke: #1f77b4\"/>\n     <use xlink:href=\"#m09b839bab9\" x=\"159.66404\" y=\"70.873987\" style=\"fill: #1f77b4; stroke: #1f77b4\"/>\n     <use xlink:href=\"#m09b839bab9\" x=\"113.200873\" y=\"67.78177\" style=\"fill: #1f77b4; stroke: #1f77b4\"/>\n     <use xlink:href=\"#m09b839bab9\" x=\"129.7708\" y=\"66.647998\" style=\"fill: #1f77b4; stroke: #1f77b4\"/>\n     <use xlink:href=\"#m09b839bab9\" x=\"163.097297\" y=\"73.482977\" style=\"fill: #1f77b4; stroke: #1f77b4\"/>\n     <use xlink:href=\"#m09b839bab9\" x=\"102.583078\" y=\"55.473008\" style=\"fill: #1f77b4; stroke: #1f77b4\"/>\n     <use xlink:href=\"#m09b839bab9\" x=\"96.272264\" y=\"37.19272\" style=\"fill: #1f77b4; stroke: #1f77b4\"/>\n     <use xlink:href=\"#m09b839bab9\" x=\"120.173164\" y=\"54.991922\" style=\"fill: #1f77b4; stroke: #1f77b4\"/>\n     <use xlink:href=\"#m09b839bab9\" x=\"72.191528\" y=\"24.525391\" style=\"fill: #1f77b4; stroke: #1f77b4\"/>\n     <use xlink:href=\"#m09b839bab9\" x=\"104.545496\" y=\"51.103434\" style=\"fill: #1f77b4; stroke: #1f77b4\"/>\n     <use xlink:href=\"#m09b839bab9\" x=\"126.127255\" y=\"73.675516\" style=\"fill: #1f77b4; stroke: #1f77b4\"/>\n     <use xlink:href=\"#m09b839bab9\" x=\"166.17822\" y=\"81.375804\" style=\"fill: #1f77b4; stroke: #1f77b4\"/>\n     <use xlink:href=\"#m09b839bab9\" x=\"119.435433\" y=\"60.7767\" style=\"fill: #1f77b4; stroke: #1f77b4\"/>\n     <use xlink:href=\"#m09b839bab9\" x=\"119.36938\" y=\"51.099546\" style=\"fill: #1f77b4; stroke: #1f77b4\"/>\n     <use xlink:href=\"#m09b839bab9\" x=\"135.669229\" y=\"90.799607\" style=\"fill: #1f77b4; stroke: #1f77b4\"/>\n     <use xlink:href=\"#m09b839bab9\" x=\"139.289774\" y=\"78.279263\" style=\"fill: #1f77b4; stroke: #1f77b4\"/>\n     <use xlink:href=\"#m09b839bab9\" x=\"143.588061\" y=\"97.741449\" style=\"fill: #1f77b4; stroke: #1f77b4\"/>\n     <use xlink:href=\"#m09b839bab9\" x=\"164.226612\" y=\"84.062689\" style=\"fill: #1f77b4; stroke: #1f77b4\"/>\n     <use xlink:href=\"#m09b839bab9\" x=\"122.773304\" y=\"59.961609\" style=\"fill: #1f77b4; stroke: #1f77b4\"/>\n     <use xlink:href=\"#m09b839bab9\" x=\"121.745422\" y=\"83.995603\" style=\"fill: #1f77b4; stroke: #1f77b4\"/>\n     <use xlink:href=\"#m09b839bab9\" x=\"191.007492\" y=\"111.297349\" style=\"fill: #1f77b4; stroke: #1f77b4\"/>\n     <use xlink:href=\"#m09b839bab9\" x=\"78.13249\" y=\"34.420224\" style=\"fill: #1f77b4; stroke: #1f77b4\"/>\n     <use xlink:href=\"#m09b839bab9\" x=\"92.909392\" y=\"37.174295\" style=\"fill: #1f77b4; stroke: #1f77b4\"/>\n     <use xlink:href=\"#m09b839bab9\" x=\"115.075564\" y=\"43.365513\" style=\"fill: #1f77b4; stroke: #1f77b4\"/>\n     <use xlink:href=\"#m09b839bab9\" x=\"113.396157\" y=\"64.454025\" style=\"fill: #1f77b4; stroke: #1f77b4\"/>\n     <use xlink:href=\"#m09b839bab9\" x=\"142.56924\" y=\"77.980958\" style=\"fill: #1f77b4; stroke: #1f77b4\"/>\n     <use xlink:href=\"#m09b839bab9\" x=\"107.89228\" y=\"63.049541\" style=\"fill: #1f77b4; stroke: #1f77b4\"/>\n     <use xlink:href=\"#m09b839bab9\" x=\"111.613072\" y=\"62.923639\" style=\"fill: #1f77b4; stroke: #1f77b4\"/>\n     <use xlink:href=\"#m09b839bab9\" x=\"124.709097\" y=\"76.897206\" style=\"fill: #1f77b4; stroke: #1f77b4\"/>\n     <use xlink:href=\"#m09b839bab9\" x=\"96.422459\" y=\"32.549027\" style=\"fill: #1f77b4; stroke: #1f77b4\"/>\n     <use xlink:href=\"#m09b839bab9\" x=\"126.26448\" y=\"70.944505\" style=\"fill: #1f77b4; stroke: #1f77b4\"/>\n     <use xlink:href=\"#m09b839bab9\" x=\"115.210315\" y=\"51.810031\" style=\"fill: #1f77b4; stroke: #1f77b4\"/>\n     <use xlink:href=\"#m09b839bab9\" x=\"135.169627\" y=\"91.392554\" style=\"fill: #1f77b4; stroke: #1f77b4\"/>\n     <use xlink:href=\"#m09b839bab9\" x=\"196.255849\" y=\"104.327453\" style=\"fill: #1f77b4; stroke: #1f77b4\"/>\n     <use xlink:href=\"#m09b839bab9\" x=\"163.999973\" y=\"87.934144\" style=\"fill: #1f77b4; stroke: #1f77b4\"/>\n     <use xlink:href=\"#m09b839bab9\" x=\"167.227884\" y=\"95.851064\" style=\"fill: #1f77b4; stroke: #1f77b4\"/>\n     <use xlink:href=\"#m09b839bab9\" x=\"103.303807\" y=\"71.925357\" style=\"fill: #1f77b4; stroke: #1f77b4\"/>\n     <use xlink:href=\"#m09b839bab9\" x=\"87.908658\" y=\"51.703097\" style=\"fill: #1f77b4; stroke: #1f77b4\"/>\n     <use xlink:href=\"#m09b839bab9\" x=\"154.119901\" y=\"75.274873\" style=\"fill: #1f77b4; stroke: #1f77b4\"/>\n     <use xlink:href=\"#m09b839bab9\" x=\"126.712643\" y=\"74.547786\" style=\"fill: #1f77b4; stroke: #1f77b4\"/>\n     <use xlink:href=\"#m09b839bab9\" x=\"111.460061\" y=\"61.201746\" style=\"fill: #1f77b4; stroke: #1f77b4\"/>\n     <use xlink:href=\"#m09b839bab9\" x=\"162.685282\" y=\"97.064133\" style=\"fill: #1f77b4; stroke: #1f77b4\"/>\n     <use xlink:href=\"#m09b839bab9\" x=\"160.91527\" y=\"86.712406\" style=\"fill: #1f77b4; stroke: #1f77b4\"/>\n     <use xlink:href=\"#m09b839bab9\" x=\"134.331315\" y=\"61.330163\" style=\"fill: #1f77b4; stroke: #1f77b4\"/>\n     <use xlink:href=\"#m09b839bab9\" x=\"158.580108\" y=\"82.902598\" style=\"fill: #1f77b4; stroke: #1f77b4\"/>\n     <use xlink:href=\"#m09b839bab9\" x=\"152.394462\" y=\"92.056274\" style=\"fill: #1f77b4; stroke: #1f77b4\"/>\n     <use xlink:href=\"#m09b839bab9\" x=\"139.782615\" y=\"81.175349\" style=\"fill: #1f77b4; stroke: #1f77b4\"/>\n     <use xlink:href=\"#m09b839bab9\" x=\"148.416595\" y=\"57.340461\" style=\"fill: #1f77b4; stroke: #1f77b4\"/>\n     <use xlink:href=\"#m09b839bab9\" x=\"126.316877\" y=\"65.851969\" style=\"fill: #1f77b4; stroke: #1f77b4\"/>\n     <use xlink:href=\"#m09b839bab9\" x=\"119.330891\" y=\"59.567241\" style=\"fill: #1f77b4; stroke: #1f77b4\"/>\n     <use xlink:href=\"#m09b839bab9\" x=\"198.871435\" y=\"110.669425\" style=\"fill: #1f77b4; stroke: #1f77b4\"/>\n     <use xlink:href=\"#m09b839bab9\" x=\"80.548026\" y=\"21.14675\" style=\"fill: #1f77b4; stroke: #1f77b4\"/>\n     <use xlink:href=\"#m09b839bab9\" x=\"189.999353\" y=\"115.60115\" style=\"fill: #1f77b4; stroke: #1f77b4\"/>\n     <use xlink:href=\"#m09b839bab9\" x=\"75.124225\" y=\"52.94203\" style=\"fill: #1f77b4; stroke: #1f77b4\"/>\n     <use xlink:href=\"#m09b839bab9\" x=\"160.010637\" y=\"90.196179\" style=\"fill: #1f77b4; stroke: #1f77b4\"/>\n     <use xlink:href=\"#m09b839bab9\" x=\"152.621079\" y=\"93.521949\" style=\"fill: #1f77b4; stroke: #1f77b4\"/>\n     <use xlink:href=\"#m09b839bab9\" x=\"142.076588\" y=\"62.721398\" style=\"fill: #1f77b4; stroke: #1f77b4\"/>\n     <use xlink:href=\"#m09b839bab9\" x=\"112.558442\" y=\"35.808207\" style=\"fill: #1f77b4; stroke: #1f77b4\"/>\n     <use xlink:href=\"#m09b839bab9\" x=\"152.742262\" y=\"79.514295\" style=\"fill: #1f77b4; stroke: #1f77b4\"/>\n     <use xlink:href=\"#m09b839bab9\" x=\"122.773932\" y=\"61.423218\" style=\"fill: #1f77b4; stroke: #1f77b4\"/>\n     <use xlink:href=\"#m09b839bab9\" x=\"185.903387\" y=\"88.902345\" style=\"fill: #1f77b4; stroke: #1f77b4\"/>\n     <use xlink:href=\"#m09b839bab9\" x=\"175.795211\" y=\"94.701956\" style=\"fill: #1f77b4; stroke: #1f77b4\"/>\n     <use xlink:href=\"#m09b839bab9\" x=\"125.199246\" y=\"59.805703\" style=\"fill: #1f77b4; stroke: #1f77b4\"/>\n     <use xlink:href=\"#m09b839bab9\" x=\"146.021174\" y=\"80.790591\" style=\"fill: #1f77b4; stroke: #1f77b4\"/>\n     <use xlink:href=\"#m09b839bab9\" x=\"127.120246\" y=\"49.615734\" style=\"fill: #1f77b4; stroke: #1f77b4\"/>\n     <use xlink:href=\"#m09b839bab9\" x=\"115.136995\" y=\"46.444858\" style=\"fill: #1f77b4; stroke: #1f77b4\"/>\n     <use xlink:href=\"#m09b839bab9\" x=\"150.04773\" y=\"75.768852\" style=\"fill: #1f77b4; stroke: #1f77b4\"/>\n     <use xlink:href=\"#m09b839bab9\" x=\"138.438489\" y=\"50.016382\" style=\"fill: #1f77b4; stroke: #1f77b4\"/>\n     <use xlink:href=\"#m09b839bab9\" x=\"125.809376\" y=\"64.41249\" style=\"fill: #1f77b4; stroke: #1f77b4\"/>\n     <use xlink:href=\"#m09b839bab9\" x=\"162.225803\" y=\"92.674864\" style=\"fill: #1f77b4; stroke: #1f77b4\"/>\n     <use xlink:href=\"#m09b839bab9\" x=\"126.894016\" y=\"73.359334\" style=\"fill: #1f77b4; stroke: #1f77b4\"/>\n     <use xlink:href=\"#m09b839bab9\" x=\"91.659083\" y=\"37.004774\" style=\"fill: #1f77b4; stroke: #1f77b4\"/>\n     <use xlink:href=\"#m09b839bab9\" x=\"139.843805\" y=\"72.932041\" style=\"fill: #1f77b4; stroke: #1f77b4\"/>\n     <use xlink:href=\"#m09b839bab9\" x=\"130.158707\" y=\"57.404436\" style=\"fill: #1f77b4; stroke: #1f77b4\"/>\n     <use xlink:href=\"#m09b839bab9\" x=\"119.719599\" y=\"42.532128\" style=\"fill: #1f77b4; stroke: #1f77b4\"/>\n     <use xlink:href=\"#m09b839bab9\" x=\"135.099283\" y=\"74.96615\" style=\"fill: #1f77b4; stroke: #1f77b4\"/>\n     <use xlink:href=\"#m09b839bab9\" x=\"162.517779\" y=\"91.059822\" style=\"fill: #1f77b4; stroke: #1f77b4\"/>\n     <use xlink:href=\"#m09b839bab9\" x=\"112.412979\" y=\"53.995096\" style=\"fill: #1f77b4; stroke: #1f77b4\"/>\n     <use xlink:href=\"#m09b839bab9\" x=\"124.633464\" y=\"50.99512\" style=\"fill: #1f77b4; stroke: #1f77b4\"/>\n     <use xlink:href=\"#m09b839bab9\" x=\"162.297666\" y=\"86.042143\" style=\"fill: #1f77b4; stroke: #1f77b4\"/>\n     <use xlink:href=\"#m09b839bab9\" x=\"103.045838\" y=\"70.851688\" style=\"fill: #1f77b4; stroke: #1f77b4\"/>\n     <use xlink:href=\"#m09b839bab9\" x=\"116.30063\" y=\"80.474143\" style=\"fill: #1f77b4; stroke: #1f77b4\"/>\n     <use xlink:href=\"#m09b839bab9\" x=\"109.754602\" y=\"50.541654\" style=\"fill: #1f77b4; stroke: #1f77b4\"/>\n     <use xlink:href=\"#m09b839bab9\" x=\"148.424979\" y=\"77.928896\" style=\"fill: #1f77b4; stroke: #1f77b4\"/>\n     <use xlink:href=\"#m09b839bab9\" x=\"158.856906\" y=\"93.129186\" style=\"fill: #1f77b4; stroke: #1f77b4\"/>\n     <use xlink:href=\"#m09b839bab9\" x=\"136.741184\" y=\"62.734231\" style=\"fill: #1f77b4; stroke: #1f77b4\"/>\n     <use xlink:href=\"#m09b839bab9\" x=\"102.684385\" y=\"49.500557\" style=\"fill: #1f77b4; stroke: #1f77b4\"/>\n     <use xlink:href=\"#m09b839bab9\" x=\"120.272072\" y=\"51.864382\" style=\"fill: #1f77b4; stroke: #1f77b4\"/>\n     <use xlink:href=\"#m09b839bab9\" x=\"113.386174\" y=\"36.207312\" style=\"fill: #1f77b4; stroke: #1f77b4\"/>\n     <use xlink:href=\"#m09b839bab9\" x=\"125.30176\" y=\"39.599689\" style=\"fill: #1f77b4; stroke: #1f77b4\"/>\n     <use xlink:href=\"#m09b839bab9\" x=\"146.564987\" y=\"77.213743\" style=\"fill: #1f77b4; stroke: #1f77b4\"/>\n     <use xlink:href=\"#m09b839bab9\" x=\"131.520516\" y=\"83.807819\" style=\"fill: #1f77b4; stroke: #1f77b4\"/>\n     <use xlink:href=\"#m09b839bab9\" x=\"128.36501\" y=\"72.695186\" style=\"fill: #1f77b4; stroke: #1f77b4\"/>\n     <use xlink:href=\"#m09b839bab9\" x=\"125.976715\" y=\"64.880007\" style=\"fill: #1f77b4; stroke: #1f77b4\"/>\n     <use xlink:href=\"#m09b839bab9\" x=\"112.104024\" y=\"57.567811\" style=\"fill: #1f77b4; stroke: #1f77b4\"/>\n     <use xlink:href=\"#m09b839bab9\" x=\"123.308035\" y=\"66.698413\" style=\"fill: #1f77b4; stroke: #1f77b4\"/>\n     <use xlink:href=\"#m09b839bab9\" x=\"103.022819\" y=\"43.128872\" style=\"fill: #1f77b4; stroke: #1f77b4\"/>\n     <use xlink:href=\"#m09b839bab9\" x=\"117.143161\" y=\"72.883839\" style=\"fill: #1f77b4; stroke: #1f77b4\"/>\n     <use xlink:href=\"#m09b839bab9\" x=\"95.16693\" y=\"42.059179\" style=\"fill: #1f77b4; stroke: #1f77b4\"/>\n     <use xlink:href=\"#m09b839bab9\" x=\"148.525949\" y=\"67.323635\" style=\"fill: #1f77b4; stroke: #1f77b4\"/>\n     <use xlink:href=\"#m09b839bab9\" x=\"158.620936\" y=\"93.913829\" style=\"fill: #1f77b4; stroke: #1f77b4\"/>\n     <use xlink:href=\"#m09b839bab9\" x=\"135.663982\" y=\"60.839786\" style=\"fill: #1f77b4; stroke: #1f77b4\"/>\n     <use xlink:href=\"#m09b839bab9\" x=\"125.435177\" y=\"55.518407\" style=\"fill: #1f77b4; stroke: #1f77b4\"/>\n     <use xlink:href=\"#m09b839bab9\" x=\"157.413036\" y=\"89.839442\" style=\"fill: #1f77b4; stroke: #1f77b4\"/>\n     <use xlink:href=\"#m09b839bab9\" x=\"188.950869\" y=\"101.513935\" style=\"fill: #1f77b4; stroke: #1f77b4\"/>\n     <use xlink:href=\"#m09b839bab9\" x=\"140.827157\" y=\"80.064915\" style=\"fill: #1f77b4; stroke: #1f77b4\"/>\n     <use xlink:href=\"#m09b839bab9\" x=\"116.715392\" y=\"64.315895\" style=\"fill: #1f77b4; stroke: #1f77b4\"/>\n     <use xlink:href=\"#m09b839bab9\" x=\"139.882369\" y=\"64.91401\" style=\"fill: #1f77b4; stroke: #1f77b4\"/>\n     <use xlink:href=\"#m09b839bab9\" x=\"127.159298\" y=\"66.753142\" style=\"fill: #1f77b4; stroke: #1f77b4\"/>\n     <use xlink:href=\"#m09b839bab9\" x=\"65.203972\" y=\"24.530576\" style=\"fill: #1f77b4; stroke: #1f77b4\"/>\n     <use xlink:href=\"#m09b839bab9\" x=\"156.260867\" y=\"77.844887\" style=\"fill: #1f77b4; stroke: #1f77b4\"/>\n     <use xlink:href=\"#m09b839bab9\" x=\"123.314933\" y=\"62.429909\" style=\"fill: #1f77b4; stroke: #1f77b4\"/>\n     <use xlink:href=\"#m09b839bab9\" x=\"103.869239\" y=\"60.091674\" style=\"fill: #1f77b4; stroke: #1f77b4\"/>\n     <use xlink:href=\"#m09b839bab9\" x=\"135.530914\" y=\"72.239139\" style=\"fill: #1f77b4; stroke: #1f77b4\"/>\n     <use xlink:href=\"#m09b839bab9\" x=\"153.099324\" y=\"107.643375\" style=\"fill: #1f77b4; stroke: #1f77b4\"/>\n     <use xlink:href=\"#m09b839bab9\" x=\"149.964578\" y=\"83.522297\" style=\"fill: #1f77b4; stroke: #1f77b4\"/>\n     <use xlink:href=\"#m09b839bab9\" x=\"134.785366\" y=\"62.354213\" style=\"fill: #1f77b4; stroke: #1f77b4\"/>\n     <use xlink:href=\"#m09b839bab9\" x=\"122.958659\" y=\"47.179214\" style=\"fill: #1f77b4; stroke: #1f77b4\"/>\n     <use xlink:href=\"#m09b839bab9\" x=\"104.486531\" y=\"59.43589\" style=\"fill: #1f77b4; stroke: #1f77b4\"/>\n     <use xlink:href=\"#m09b839bab9\" x=\"132.94806\" y=\"80.194088\" style=\"fill: #1f77b4; stroke: #1f77b4\"/>\n     <use xlink:href=\"#m09b839bab9\" x=\"118.968571\" y=\"69.560872\" style=\"fill: #1f77b4; stroke: #1f77b4\"/>\n     <use xlink:href=\"#m09b839bab9\" x=\"141.41691\" y=\"80.255983\" style=\"fill: #1f77b4; stroke: #1f77b4\"/>\n     <use xlink:href=\"#m09b839bab9\" x=\"119.434807\" y=\"56.131326\" style=\"fill: #1f77b4; stroke: #1f77b4\"/>\n     <use xlink:href=\"#m09b839bab9\" x=\"141.806988\" y=\"78.289073\" style=\"fill: #1f77b4; stroke: #1f77b4\"/>\n     <use xlink:href=\"#m09b839bab9\" x=\"115.974061\" y=\"60.518889\" style=\"fill: #1f77b4; stroke: #1f77b4\"/>\n     <use xlink:href=\"#m09b839bab9\" x=\"153.470947\" y=\"93.056844\" style=\"fill: #1f77b4; stroke: #1f77b4\"/>\n     <use xlink:href=\"#m09b839bab9\" x=\"143.472941\" y=\"77.522528\" style=\"fill: #1f77b4; stroke: #1f77b4\"/>\n     <use xlink:href=\"#m09b839bab9\" x=\"116.344055\" y=\"66.4214\" style=\"fill: #1f77b4; stroke: #1f77b4\"/>\n     <use xlink:href=\"#m09b839bab9\" x=\"116.222003\" y=\"51.911687\" style=\"fill: #1f77b4; stroke: #1f77b4\"/>\n     <use xlink:href=\"#m09b839bab9\" x=\"137.67441\" y=\"70.380578\" style=\"fill: #1f77b4; stroke: #1f77b4\"/>\n     <use xlink:href=\"#m09b839bab9\" x=\"148.138568\" y=\"77.897924\" style=\"fill: #1f77b4; stroke: #1f77b4\"/>\n     <use xlink:href=\"#m09b839bab9\" x=\"117.074849\" y=\"63.564356\" style=\"fill: #1f77b4; stroke: #1f77b4\"/>\n     <use xlink:href=\"#m09b839bab9\" x=\"140.74343\" y=\"81.024906\" style=\"fill: #1f77b4; stroke: #1f77b4\"/>\n     <use xlink:href=\"#m09b839bab9\" x=\"115.554075\" y=\"53.763548\" style=\"fill: #1f77b4; stroke: #1f77b4\"/>\n     <use xlink:href=\"#m09b839bab9\" x=\"157.407927\" y=\"91.149553\" style=\"fill: #1f77b4; stroke: #1f77b4\"/>\n     <use xlink:href=\"#m09b839bab9\" x=\"152.101201\" y=\"85.08404\" style=\"fill: #1f77b4; stroke: #1f77b4\"/>\n     <use xlink:href=\"#m09b839bab9\" x=\"110.047533\" y=\"63.8806\" style=\"fill: #1f77b4; stroke: #1f77b4\"/>\n     <use xlink:href=\"#m09b839bab9\" x=\"151.026568\" y=\"100.925251\" style=\"fill: #1f77b4; stroke: #1f77b4\"/>\n     <use xlink:href=\"#m09b839bab9\" x=\"181.626938\" y=\"87.005673\" style=\"fill: #1f77b4; stroke: #1f77b4\"/>\n     <use xlink:href=\"#m09b839bab9\" x=\"128.144073\" y=\"54.576364\" style=\"fill: #1f77b4; stroke: #1f77b4\"/>\n     <use xlink:href=\"#m09b839bab9\" x=\"154.079731\" y=\"84.053667\" style=\"fill: #1f77b4; stroke: #1f77b4\"/>\n     <use xlink:href=\"#m09b839bab9\" x=\"155.817102\" y=\"84.187864\" style=\"fill: #1f77b4; stroke: #1f77b4\"/>\n     <use xlink:href=\"#m09b839bab9\" x=\"93.645255\" y=\"41.543898\" style=\"fill: #1f77b4; stroke: #1f77b4\"/>\n     <use xlink:href=\"#m09b839bab9\" x=\"157.07733\" y=\"90.688515\" style=\"fill: #1f77b4; stroke: #1f77b4\"/>\n     <use xlink:href=\"#m09b839bab9\" x=\"120.728479\" y=\"51.060405\" style=\"fill: #1f77b4; stroke: #1f77b4\"/>\n     <use xlink:href=\"#m09b839bab9\" x=\"149.144747\" y=\"66.061526\" style=\"fill: #1f77b4; stroke: #1f77b4\"/>\n     <use xlink:href=\"#m09b839bab9\" x=\"136.430982\" y=\"66.325747\" style=\"fill: #1f77b4; stroke: #1f77b4\"/>\n     <use xlink:href=\"#m09b839bab9\" x=\"120.691368\" y=\"77.637865\" style=\"fill: #1f77b4; stroke: #1f77b4\"/>\n     <use xlink:href=\"#m09b839bab9\" x=\"117.107773\" y=\"65.380229\" style=\"fill: #1f77b4; stroke: #1f77b4\"/>\n     <use xlink:href=\"#m09b839bab9\" x=\"175.971507\" y=\"97.859492\" style=\"fill: #1f77b4; stroke: #1f77b4\"/>\n     <use xlink:href=\"#m09b839bab9\" x=\"145.868342\" y=\"68.956861\" style=\"fill: #1f77b4; stroke: #1f77b4\"/>\n     <use xlink:href=\"#m09b839bab9\" x=\"148.593845\" y=\"90.413268\" style=\"fill: #1f77b4; stroke: #1f77b4\"/>\n     <use xlink:href=\"#m09b839bab9\" x=\"118.616289\" y=\"52.109004\" style=\"fill: #1f77b4; stroke: #1f77b4\"/>\n     <use xlink:href=\"#m09b839bab9\" x=\"138.77538\" y=\"61.581123\" style=\"fill: #1f77b4; stroke: #1f77b4\"/>\n     <use xlink:href=\"#m09b839bab9\" x=\"137.606206\" y=\"71.952536\" style=\"fill: #1f77b4; stroke: #1f77b4\"/>\n     <use xlink:href=\"#m09b839bab9\" x=\"123.34906\" y=\"68.399541\" style=\"fill: #1f77b4; stroke: #1f77b4\"/>\n     <use xlink:href=\"#m09b839bab9\" x=\"133.343606\" y=\"72.941762\" style=\"fill: #1f77b4; stroke: #1f77b4\"/>\n     <use xlink:href=\"#m09b839bab9\" x=\"100.515473\" y=\"67.174927\" style=\"fill: #1f77b4; stroke: #1f77b4\"/>\n     <use xlink:href=\"#m09b839bab9\" x=\"145.943205\" y=\"63.408985\" style=\"fill: #1f77b4; stroke: #1f77b4\"/>\n     <use xlink:href=\"#m09b839bab9\" x=\"140.343724\" y=\"75.827581\" style=\"fill: #1f77b4; stroke: #1f77b4\"/>\n     <use xlink:href=\"#m09b839bab9\" x=\"158.644872\" y=\"81.218888\" style=\"fill: #1f77b4; stroke: #1f77b4\"/>\n     <use xlink:href=\"#m09b839bab9\" x=\"121.691299\" y=\"67.522573\" style=\"fill: #1f77b4; stroke: #1f77b4\"/>\n     <use xlink:href=\"#m09b839bab9\" x=\"82.137812\" y=\"59.345765\" style=\"fill: #1f77b4; stroke: #1f77b4\"/>\n     <use xlink:href=\"#m09b839bab9\" x=\"117.23051\" y=\"64.751362\" style=\"fill: #1f77b4; stroke: #1f77b4\"/>\n     <use xlink:href=\"#m09b839bab9\" x=\"168.338583\" y=\"100.433854\" style=\"fill: #1f77b4; stroke: #1f77b4\"/>\n     <use xlink:href=\"#m09b839bab9\" x=\"127.581068\" y=\"57.025635\" style=\"fill: #1f77b4; stroke: #1f77b4\"/>\n     <use xlink:href=\"#m09b839bab9\" x=\"100.819142\" y=\"53.036199\" style=\"fill: #1f77b4; stroke: #1f77b4\"/>\n     <use xlink:href=\"#m09b839bab9\" x=\"97.013717\" y=\"28.346207\" style=\"fill: #1f77b4; stroke: #1f77b4\"/>\n     <use xlink:href=\"#m09b839bab9\" x=\"170.289534\" y=\"96.761984\" style=\"fill: #1f77b4; stroke: #1f77b4\"/>\n     <use xlink:href=\"#m09b839bab9\" x=\"112.13381\" y=\"53.658447\" style=\"fill: #1f77b4; stroke: #1f77b4\"/>\n     <use xlink:href=\"#m09b839bab9\" x=\"147.986391\" y=\"73.07834\" style=\"fill: #1f77b4; stroke: #1f77b4\"/>\n     <use xlink:href=\"#m09b839bab9\" x=\"144.965524\" y=\"75.941058\" style=\"fill: #1f77b4; stroke: #1f77b4\"/>\n     <use xlink:href=\"#m09b839bab9\" x=\"127.632874\" y=\"65.023818\" style=\"fill: #1f77b4; stroke: #1f77b4\"/>\n     <use xlink:href=\"#m09b839bab9\" x=\"124.546325\" y=\"64.314073\" style=\"fill: #1f77b4; stroke: #1f77b4\"/>\n     <use xlink:href=\"#m09b839bab9\" x=\"126.839307\" y=\"65.454573\" style=\"fill: #1f77b4; stroke: #1f77b4\"/>\n     <use xlink:href=\"#m09b839bab9\" x=\"112.339204\" y=\"45.649857\" style=\"fill: #1f77b4; stroke: #1f77b4\"/>\n     <use xlink:href=\"#m09b839bab9\" x=\"172.885054\" y=\"78.294102\" style=\"fill: #1f77b4; stroke: #1f77b4\"/>\n     <use xlink:href=\"#m09b839bab9\" x=\"94.396086\" y=\"46.661571\" style=\"fill: #1f77b4; stroke: #1f77b4\"/>\n     <use xlink:href=\"#m09b839bab9\" x=\"95.549698\" y=\"65.931815\" style=\"fill: #1f77b4; stroke: #1f77b4\"/>\n     <use xlink:href=\"#m09b839bab9\" x=\"156.750521\" y=\"81.587333\" style=\"fill: #1f77b4; stroke: #1f77b4\"/>\n     <use xlink:href=\"#m09b839bab9\" x=\"116.733721\" y=\"59.578889\" style=\"fill: #1f77b4; stroke: #1f77b4\"/>\n     <use xlink:href=\"#m09b839bab9\" x=\"113.595418\" y=\"60.325615\" style=\"fill: #1f77b4; stroke: #1f77b4\"/>\n     <use xlink:href=\"#m09b839bab9\" x=\"145.85777\" y=\"78.957366\" style=\"fill: #1f77b4; stroke: #1f77b4\"/>\n     <use xlink:href=\"#m09b839bab9\" x=\"153.294286\" y=\"77.895728\" style=\"fill: #1f77b4; stroke: #1f77b4\"/>\n     <use xlink:href=\"#m09b839bab9\" x=\"160.01612\" y=\"82.781575\" style=\"fill: #1f77b4; stroke: #1f77b4\"/>\n     <use xlink:href=\"#m09b839bab9\" x=\"122.481708\" y=\"59.806479\" style=\"fill: #1f77b4; stroke: #1f77b4\"/>\n     <use xlink:href=\"#m09b839bab9\" x=\"90.740609\" y=\"40.275881\" style=\"fill: #1f77b4; stroke: #1f77b4\"/>\n     <use xlink:href=\"#m09b839bab9\" x=\"117.887114\" y=\"46.423287\" style=\"fill: #1f77b4; stroke: #1f77b4\"/>\n     <use xlink:href=\"#m09b839bab9\" x=\"140.75661\" y=\"79.582448\" style=\"fill: #1f77b4; stroke: #1f77b4\"/>\n     <use xlink:href=\"#m09b839bab9\" x=\"155.371242\" y=\"82.415593\" style=\"fill: #1f77b4; stroke: #1f77b4\"/>\n     <use xlink:href=\"#m09b839bab9\" x=\"108.812993\" y=\"54.550299\" style=\"fill: #1f77b4; stroke: #1f77b4\"/>\n     <use xlink:href=\"#m09b839bab9\" x=\"135.247793\" y=\"65.722148\" style=\"fill: #1f77b4; stroke: #1f77b4\"/>\n     <use xlink:href=\"#m09b839bab9\" x=\"114.605168\" y=\"51.402164\" style=\"fill: #1f77b4; stroke: #1f77b4\"/>\n     <use xlink:href=\"#m09b839bab9\" x=\"149.046433\" y=\"74.738114\" style=\"fill: #1f77b4; stroke: #1f77b4\"/>\n     <use xlink:href=\"#m09b839bab9\" x=\"127.54934\" y=\"60.447421\" style=\"fill: #1f77b4; stroke: #1f77b4\"/>\n     <use xlink:href=\"#m09b839bab9\" x=\"164.013532\" y=\"90.438259\" style=\"fill: #1f77b4; stroke: #1f77b4\"/>\n     <use xlink:href=\"#m09b839bab9\" x=\"145.209456\" y=\"76.327186\" style=\"fill: #1f77b4; stroke: #1f77b4\"/>\n     <use xlink:href=\"#m09b839bab9\" x=\"153.391214\" y=\"78.959053\" style=\"fill: #1f77b4; stroke: #1f77b4\"/>\n     <use xlink:href=\"#m09b839bab9\" x=\"127.829938\" y=\"75.193745\" style=\"fill: #1f77b4; stroke: #1f77b4\"/>\n     <use xlink:href=\"#m09b839bab9\" x=\"157.36985\" y=\"59.012561\" style=\"fill: #1f77b4; stroke: #1f77b4\"/>\n     <use xlink:href=\"#m09b839bab9\" x=\"141.007912\" y=\"75.456633\" style=\"fill: #1f77b4; stroke: #1f77b4\"/>\n     <use xlink:href=\"#m09b839bab9\" x=\"120.911852\" y=\"63.384604\" style=\"fill: #1f77b4; stroke: #1f77b4\"/>\n     <use xlink:href=\"#m09b839bab9\" x=\"132.078459\" y=\"80.376219\" style=\"fill: #1f77b4; stroke: #1f77b4\"/>\n     <use xlink:href=\"#m09b839bab9\" x=\"131.93071\" y=\"81.136366\" style=\"fill: #1f77b4; stroke: #1f77b4\"/>\n     <use xlink:href=\"#m09b839bab9\" x=\"174.847365\" y=\"96.795344\" style=\"fill: #1f77b4; stroke: #1f77b4\"/>\n     <use xlink:href=\"#m09b839bab9\" x=\"153.650876\" y=\"69.586806\" style=\"fill: #1f77b4; stroke: #1f77b4\"/>\n     <use xlink:href=\"#m09b839bab9\" x=\"127.101977\" y=\"78.171351\" style=\"fill: #1f77b4; stroke: #1f77b4\"/>\n     <use xlink:href=\"#m09b839bab9\" x=\"139.753796\" y=\"76.763391\" style=\"fill: #1f77b4; stroke: #1f77b4\"/>\n     <use xlink:href=\"#m09b839bab9\" x=\"146.822906\" y=\"87.231163\" style=\"fill: #1f77b4; stroke: #1f77b4\"/>\n     <use xlink:href=\"#m09b839bab9\" x=\"99.060379\" y=\"61.075466\" style=\"fill: #1f77b4; stroke: #1f77b4\"/>\n     <use xlink:href=\"#m09b839bab9\" x=\"104.197518\" y=\"37.720071\" style=\"fill: #1f77b4; stroke: #1f77b4\"/>\n     <use xlink:href=\"#m09b839bab9\" x=\"156.780836\" y=\"81.036446\" style=\"fill: #1f77b4; stroke: #1f77b4\"/>\n     <use xlink:href=\"#m09b839bab9\" x=\"145.835251\" y=\"57.906339\" style=\"fill: #1f77b4; stroke: #1f77b4\"/>\n     <use xlink:href=\"#m09b839bab9\" x=\"81.761395\" y=\"36.843872\" style=\"fill: #1f77b4; stroke: #1f77b4\"/>\n     <use xlink:href=\"#m09b839bab9\" x=\"68.037223\" y=\"37.609993\" style=\"fill: #1f77b4; stroke: #1f77b4\"/>\n     <use xlink:href=\"#m09b839bab9\" x=\"174.514502\" y=\"100.549942\" style=\"fill: #1f77b4; stroke: #1f77b4\"/>\n     <use xlink:href=\"#m09b839bab9\" x=\"152.242753\" y=\"72.941857\" style=\"fill: #1f77b4; stroke: #1f77b4\"/>\n     <use xlink:href=\"#m09b839bab9\" x=\"110.53166\" y=\"53.135396\" style=\"fill: #1f77b4; stroke: #1f77b4\"/>\n     <use xlink:href=\"#m09b839bab9\" x=\"193.656778\" y=\"93.899195\" style=\"fill: #1f77b4; stroke: #1f77b4\"/>\n     <use xlink:href=\"#m09b839bab9\" x=\"122.583113\" y=\"51.524463\" style=\"fill: #1f77b4; stroke: #1f77b4\"/>\n     <use xlink:href=\"#m09b839bab9\" x=\"169.879263\" y=\"89.913019\" style=\"fill: #1f77b4; stroke: #1f77b4\"/>\n     <use xlink:href=\"#m09b839bab9\" x=\"170.151479\" y=\"97.516643\" style=\"fill: #1f77b4; stroke: #1f77b4\"/>\n     <use xlink:href=\"#m09b839bab9\" x=\"129.739105\" y=\"55.472817\" style=\"fill: #1f77b4; stroke: #1f77b4\"/>\n     <use xlink:href=\"#m09b839bab9\" x=\"116.348099\" y=\"70.855229\" style=\"fill: #1f77b4; stroke: #1f77b4\"/>\n     <use xlink:href=\"#m09b839bab9\" x=\"131.389436\" y=\"78.862595\" style=\"fill: #1f77b4; stroke: #1f77b4\"/>\n     <use xlink:href=\"#m09b839bab9\" x=\"127.550439\" y=\"58.442223\" style=\"fill: #1f77b4; stroke: #1f77b4\"/>\n     <use xlink:href=\"#m09b839bab9\" x=\"135.247036\" y=\"69.397505\" style=\"fill: #1f77b4; stroke: #1f77b4\"/>\n     <use xlink:href=\"#m09b839bab9\" x=\"116.408319\" y=\"68.148159\" style=\"fill: #1f77b4; stroke: #1f77b4\"/>\n     <use xlink:href=\"#m09b839bab9\" x=\"75.233023\" y=\"19.712731\" style=\"fill: #1f77b4; stroke: #1f77b4\"/>\n     <use xlink:href=\"#m09b839bab9\" x=\"77.434255\" y=\"17.976594\" style=\"fill: #1f77b4; stroke: #1f77b4\"/>\n     <use xlink:href=\"#m09b839bab9\" x=\"143.638533\" y=\"76.358415\" style=\"fill: #1f77b4; stroke: #1f77b4\"/>\n     <use xlink:href=\"#m09b839bab9\" x=\"115.762615\" y=\"63.923775\" style=\"fill: #1f77b4; stroke: #1f77b4\"/>\n     <use xlink:href=\"#m09b839bab9\" x=\"184.87599\" y=\"87.372387\" style=\"fill: #1f77b4; stroke: #1f77b4\"/>\n     <use xlink:href=\"#m09b839bab9\" x=\"180.336866\" y=\"109.986491\" style=\"fill: #1f77b4; stroke: #1f77b4\"/>\n     <use xlink:href=\"#m09b839bab9\" x=\"112.250003\" y=\"53.400935\" style=\"fill: #1f77b4; stroke: #1f77b4\"/>\n     <use xlink:href=\"#m09b839bab9\" x=\"163.05403\" y=\"75.071507\" style=\"fill: #1f77b4; stroke: #1f77b4\"/>\n     <use xlink:href=\"#m09b839bab9\" x=\"104.539984\" y=\"51.284498\" style=\"fill: #1f77b4; stroke: #1f77b4\"/>\n     <use xlink:href=\"#m09b839bab9\" x=\"164.661947\" y=\"94.492189\" style=\"fill: #1f77b4; stroke: #1f77b4\"/>\n     <use xlink:href=\"#m09b839bab9\" x=\"88.803756\" y=\"42.490008\" style=\"fill: #1f77b4; stroke: #1f77b4\"/>\n     <use xlink:href=\"#m09b839bab9\" x=\"122.429136\" y=\"63.528986\" style=\"fill: #1f77b4; stroke: #1f77b4\"/>\n     <use xlink:href=\"#m09b839bab9\" x=\"95.452806\" y=\"33.008875\" style=\"fill: #1f77b4; stroke: #1f77b4\"/>\n     <use xlink:href=\"#m09b839bab9\" x=\"95.88071\" y=\"60.354128\" style=\"fill: #1f77b4; stroke: #1f77b4\"/>\n     <use xlink:href=\"#m09b839bab9\" x=\"113.885285\" y=\"45.150598\" style=\"fill: #1f77b4; stroke: #1f77b4\"/>\n     <use xlink:href=\"#m09b839bab9\" x=\"120.797914\" y=\"52.617404\" style=\"fill: #1f77b4; stroke: #1f77b4\"/>\n     <use xlink:href=\"#m09b839bab9\" x=\"151.945889\" y=\"73.678501\" style=\"fill: #1f77b4; stroke: #1f77b4\"/>\n     <use xlink:href=\"#m09b839bab9\" x=\"133.729204\" y=\"74.254092\" style=\"fill: #1f77b4; stroke: #1f77b4\"/>\n     <use xlink:href=\"#m09b839bab9\" x=\"140.880244\" y=\"94.505967\" style=\"fill: #1f77b4; stroke: #1f77b4\"/>\n     <use xlink:href=\"#m09b839bab9\" x=\"111.126869\" y=\"72.916923\" style=\"fill: #1f77b4; stroke: #1f77b4\"/>\n     <use xlink:href=\"#m09b839bab9\" x=\"119.760168\" y=\"65.523235\" style=\"fill: #1f77b4; stroke: #1f77b4\"/>\n     <use xlink:href=\"#m09b839bab9\" x=\"153.169785\" y=\"69.718497\" style=\"fill: #1f77b4; stroke: #1f77b4\"/>\n     <use xlink:href=\"#m09b839bab9\" x=\"122.15463\" y=\"52.474621\" style=\"fill: #1f77b4; stroke: #1f77b4\"/>\n     <use xlink:href=\"#m09b839bab9\" x=\"63.825519\" y=\"19.2876\" style=\"fill: #1f77b4; stroke: #1f77b4\"/>\n     <use xlink:href=\"#m09b839bab9\" x=\"94.920694\" y=\"48.361357\" style=\"fill: #1f77b4; stroke: #1f77b4\"/>\n     <use xlink:href=\"#m09b839bab9\" x=\"122.807734\" y=\"62.061138\" style=\"fill: #1f77b4; stroke: #1f77b4\"/>\n     <use xlink:href=\"#m09b839bab9\" x=\"148.436235\" y=\"73.261779\" style=\"fill: #1f77b4; stroke: #1f77b4\"/>\n     <use xlink:href=\"#m09b839bab9\" x=\"178.52174\" y=\"91.516778\" style=\"fill: #1f77b4; stroke: #1f77b4\"/>\n     <use xlink:href=\"#m09b839bab9\" x=\"121.281342\" y=\"57.990138\" style=\"fill: #1f77b4; stroke: #1f77b4\"/>\n     <use xlink:href=\"#m09b839bab9\" x=\"132.810879\" y=\"76.988693\" style=\"fill: #1f77b4; stroke: #1f77b4\"/>\n     <use xlink:href=\"#m09b839bab9\" x=\"148.08698\" y=\"86.628122\" style=\"fill: #1f77b4; stroke: #1f77b4\"/>\n     <use xlink:href=\"#m09b839bab9\" x=\"111.802072\" y=\"54.479294\" style=\"fill: #1f77b4; stroke: #1f77b4\"/>\n     <use xlink:href=\"#m09b839bab9\" x=\"142.052522\" y=\"78.686071\" style=\"fill: #1f77b4; stroke: #1f77b4\"/>\n     <use xlink:href=\"#m09b839bab9\" x=\"113.402846\" y=\"42.446888\" style=\"fill: #1f77b4; stroke: #1f77b4\"/>\n     <use xlink:href=\"#m09b839bab9\" x=\"118.717064\" y=\"69.02999\" style=\"fill: #1f77b4; stroke: #1f77b4\"/>\n     <use xlink:href=\"#m09b839bab9\" x=\"104.899859\" y=\"61.218767\" style=\"fill: #1f77b4; stroke: #1f77b4\"/>\n     <use xlink:href=\"#m09b839bab9\" x=\"185.374836\" y=\"119.564304\" style=\"fill: #1f77b4; stroke: #1f77b4\"/>\n     <use xlink:href=\"#m09b839bab9\" x=\"120.266534\" y=\"68.204176\" style=\"fill: #1f77b4; stroke: #1f77b4\"/>\n     <use xlink:href=\"#m09b839bab9\" x=\"109.114994\" y=\"72.260802\" style=\"fill: #1f77b4; stroke: #1f77b4\"/>\n     <use xlink:href=\"#m09b839bab9\" x=\"155.317686\" y=\"79.175212\" style=\"fill: #1f77b4; stroke: #1f77b4\"/>\n     <use xlink:href=\"#m09b839bab9\" x=\"96.646891\" y=\"46.866006\" style=\"fill: #1f77b4; stroke: #1f77b4\"/>\n     <use xlink:href=\"#m09b839bab9\" x=\"179.61743\" y=\"119.440214\" style=\"fill: #1f77b4; stroke: #1f77b4\"/>\n     <use xlink:href=\"#m09b839bab9\" x=\"161.465372\" y=\"92.273618\" style=\"fill: #1f77b4; stroke: #1f77b4\"/>\n     <use xlink:href=\"#m09b839bab9\" x=\"166.072497\" y=\"82.539357\" style=\"fill: #1f77b4; stroke: #1f77b4\"/>\n     <use xlink:href=\"#m09b839bab9\" x=\"136.330128\" y=\"66.647733\" style=\"fill: #1f77b4; stroke: #1f77b4\"/>\n     <use xlink:href=\"#m09b839bab9\" x=\"153.240693\" y=\"81.637897\" style=\"fill: #1f77b4; stroke: #1f77b4\"/>\n     <use xlink:href=\"#m09b839bab9\" x=\"142.285985\" y=\"85.146587\" style=\"fill: #1f77b4; stroke: #1f77b4\"/>\n     <use xlink:href=\"#m09b839bab9\" x=\"158.501889\" y=\"94.68887\" style=\"fill: #1f77b4; stroke: #1f77b4\"/>\n     <use xlink:href=\"#m09b839bab9\" x=\"92.037263\" y=\"36.368929\" style=\"fill: #1f77b4; stroke: #1f77b4\"/>\n     <use xlink:href=\"#m09b839bab9\" x=\"122.434691\" y=\"55.538569\" style=\"fill: #1f77b4; stroke: #1f77b4\"/>\n     <use xlink:href=\"#m09b839bab9\" x=\"147.933381\" y=\"73.405521\" style=\"fill: #1f77b4; stroke: #1f77b4\"/>\n     <use xlink:href=\"#m09b839bab9\" x=\"146.462103\" y=\"50.545858\" style=\"fill: #1f77b4; stroke: #1f77b4\"/>\n     <use xlink:href=\"#m09b839bab9\" x=\"139.036593\" y=\"74.409145\" style=\"fill: #1f77b4; stroke: #1f77b4\"/>\n     <use xlink:href=\"#m09b839bab9\" x=\"113.05522\" y=\"55.538583\" style=\"fill: #1f77b4; stroke: #1f77b4\"/>\n     <use xlink:href=\"#m09b839bab9\" x=\"137.944281\" y=\"78.7219\" style=\"fill: #1f77b4; stroke: #1f77b4\"/>\n     <use xlink:href=\"#m09b839bab9\" x=\"167.849379\" y=\"108.333325\" style=\"fill: #1f77b4; stroke: #1f77b4\"/>\n     <use xlink:href=\"#m09b839bab9\" x=\"106.062841\" y=\"67.618773\" style=\"fill: #1f77b4; stroke: #1f77b4\"/>\n     <use xlink:href=\"#m09b839bab9\" x=\"106.04239\" y=\"50.343551\" style=\"fill: #1f77b4; stroke: #1f77b4\"/>\n     <use xlink:href=\"#m09b839bab9\" x=\"161.775497\" y=\"80.293201\" style=\"fill: #1f77b4; stroke: #1f77b4\"/>\n     <use xlink:href=\"#m09b839bab9\" x=\"168.652739\" y=\"96.230635\" style=\"fill: #1f77b4; stroke: #1f77b4\"/>\n     <use xlink:href=\"#m09b839bab9\" x=\"127.816151\" y=\"88.81426\" style=\"fill: #1f77b4; stroke: #1f77b4\"/>\n     <use xlink:href=\"#m09b839bab9\" x=\"207.633185\" y=\"139.5\" style=\"fill: #1f77b4; stroke: #1f77b4\"/>\n     <use xlink:href=\"#m09b839bab9\" x=\"177.85847\" y=\"87.135455\" style=\"fill: #1f77b4; stroke: #1f77b4\"/>\n     <use xlink:href=\"#m09b839bab9\" x=\"146.191859\" y=\"87.858535\" style=\"fill: #1f77b4; stroke: #1f77b4\"/>\n     <use xlink:href=\"#m09b839bab9\" x=\"111.324339\" y=\"50.715689\" style=\"fill: #1f77b4; stroke: #1f77b4\"/>\n     <use xlink:href=\"#m09b839bab9\" x=\"121.601004\" y=\"71.56404\" style=\"fill: #1f77b4; stroke: #1f77b4\"/>\n     <use xlink:href=\"#m09b839bab9\" x=\"131.320536\" y=\"71.979705\" style=\"fill: #1f77b4; stroke: #1f77b4\"/>\n     <use xlink:href=\"#m09b839bab9\" x=\"109.386581\" y=\"57.778437\" style=\"fill: #1f77b4; stroke: #1f77b4\"/>\n     <use xlink:href=\"#m09b839bab9\" x=\"138.206804\" y=\"79.915367\" style=\"fill: #1f77b4; stroke: #1f77b4\"/>\n     <use xlink:href=\"#m09b839bab9\" x=\"120.836569\" y=\"71.082349\" style=\"fill: #1f77b4; stroke: #1f77b4\"/>\n     <use xlink:href=\"#m09b839bab9\" x=\"146.396826\" y=\"83.169251\" style=\"fill: #1f77b4; stroke: #1f77b4\"/>\n     <use xlink:href=\"#m09b839bab9\" x=\"156.371852\" y=\"85.062952\" style=\"fill: #1f77b4; stroke: #1f77b4\"/>\n     <use xlink:href=\"#m09b839bab9\" x=\"135.411959\" y=\"69.785901\" style=\"fill: #1f77b4; stroke: #1f77b4\"/>\n     <use xlink:href=\"#m09b839bab9\" x=\"92.046219\" y=\"56.369817\" style=\"fill: #1f77b4; stroke: #1f77b4\"/>\n     <use xlink:href=\"#m09b839bab9\" x=\"132.259834\" y=\"85.333174\" style=\"fill: #1f77b4; stroke: #1f77b4\"/>\n     <use xlink:href=\"#m09b839bab9\" x=\"136.095766\" y=\"65.997842\" style=\"fill: #1f77b4; stroke: #1f77b4\"/>\n     <use xlink:href=\"#m09b839bab9\" x=\"133.235248\" y=\"87.55606\" style=\"fill: #1f77b4; stroke: #1f77b4\"/>\n     <use xlink:href=\"#m09b839bab9\" x=\"85.896485\" y=\"39.837635\" style=\"fill: #1f77b4; stroke: #1f77b4\"/>\n     <use xlink:href=\"#m09b839bab9\" x=\"134.328661\" y=\"77.432867\" style=\"fill: #1f77b4; stroke: #1f77b4\"/>\n     <use xlink:href=\"#m09b839bab9\" x=\"147.935889\" y=\"75.83963\" style=\"fill: #1f77b4; stroke: #1f77b4\"/>\n     <use xlink:href=\"#m09b839bab9\" x=\"128.86289\" y=\"73.891699\" style=\"fill: #1f77b4; stroke: #1f77b4\"/>\n     <use xlink:href=\"#m09b839bab9\" x=\"179.667887\" y=\"120.035314\" style=\"fill: #1f77b4; stroke: #1f77b4\"/>\n     <use xlink:href=\"#m09b839bab9\" x=\"117.196048\" y=\"63.266751\" style=\"fill: #1f77b4; stroke: #1f77b4\"/>\n     <use xlink:href=\"#m09b839bab9\" x=\"96.060118\" y=\"56.994001\" style=\"fill: #1f77b4; stroke: #1f77b4\"/>\n     <use xlink:href=\"#m09b839bab9\" x=\"149.902711\" y=\"84.667\" style=\"fill: #1f77b4; stroke: #1f77b4\"/>\n     <use xlink:href=\"#m09b839bab9\" x=\"105.387432\" y=\"65.641895\" style=\"fill: #1f77b4; stroke: #1f77b4\"/>\n     <use xlink:href=\"#m09b839bab9\" x=\"152.202317\" y=\"94.759763\" style=\"fill: #1f77b4; stroke: #1f77b4\"/>\n     <use xlink:href=\"#m09b839bab9\" x=\"138.242205\" y=\"71.471076\" style=\"fill: #1f77b4; stroke: #1f77b4\"/>\n     <use xlink:href=\"#m09b839bab9\" x=\"152.342119\" y=\"60.293643\" style=\"fill: #1f77b4; stroke: #1f77b4\"/>\n     <use xlink:href=\"#m09b839bab9\" x=\"133.415497\" y=\"86.794788\" style=\"fill: #1f77b4; stroke: #1f77b4\"/>\n     <use xlink:href=\"#m09b839bab9\" x=\"126.24126\" y=\"61.155152\" style=\"fill: #1f77b4; stroke: #1f77b4\"/>\n     <use xlink:href=\"#m09b839bab9\" x=\"96.86428\" y=\"61.71272\" style=\"fill: #1f77b4; stroke: #1f77b4\"/>\n     <use xlink:href=\"#m09b839bab9\" x=\"155.783312\" y=\"96.900088\" style=\"fill: #1f77b4; stroke: #1f77b4\"/>\n     <use xlink:href=\"#m09b839bab9\" x=\"96.914063\" y=\"49.837766\" style=\"fill: #1f77b4; stroke: #1f77b4\"/>\n     <use xlink:href=\"#m09b839bab9\" x=\"165.134104\" y=\"84.35358\" style=\"fill: #1f77b4; stroke: #1f77b4\"/>\n     <use xlink:href=\"#m09b839bab9\" x=\"98.765331\" y=\"29.46353\" style=\"fill: #1f77b4; stroke: #1f77b4\"/>\n     <use xlink:href=\"#m09b839bab9\" x=\"138.515498\" y=\"52.602753\" style=\"fill: #1f77b4; stroke: #1f77b4\"/>\n     <use xlink:href=\"#m09b839bab9\" x=\"94.527399\" y=\"43.169449\" style=\"fill: #1f77b4; stroke: #1f77b4\"/>\n     <use xlink:href=\"#m09b839bab9\" x=\"106.438329\" y=\"45.717702\" style=\"fill: #1f77b4; stroke: #1f77b4\"/>\n     <use xlink:href=\"#m09b839bab9\" x=\"108.487115\" y=\"46.71812\" style=\"fill: #1f77b4; stroke: #1f77b4\"/>\n     <use xlink:href=\"#m09b839bab9\" x=\"119.471998\" y=\"60.753494\" style=\"fill: #1f77b4; stroke: #1f77b4\"/>\n     <use xlink:href=\"#m09b839bab9\" x=\"182.919299\" y=\"101.486348\" style=\"fill: #1f77b4; stroke: #1f77b4\"/>\n     <use xlink:href=\"#m09b839bab9\" x=\"96.509453\" y=\"54.68932\" style=\"fill: #1f77b4; stroke: #1f77b4\"/>\n     <use xlink:href=\"#m09b839bab9\" x=\"134.026176\" y=\"61.263547\" style=\"fill: #1f77b4; stroke: #1f77b4\"/>\n     <use xlink:href=\"#m09b839bab9\" x=\"148.539747\" y=\"78.228449\" style=\"fill: #1f77b4; stroke: #1f77b4\"/>\n     <use xlink:href=\"#m09b839bab9\" x=\"96.82008\" y=\"37.02477\" style=\"fill: #1f77b4; stroke: #1f77b4\"/>\n     <use xlink:href=\"#m09b839bab9\" x=\"155.222975\" y=\"84.931126\" style=\"fill: #1f77b4; stroke: #1f77b4\"/>\n     <use xlink:href=\"#m09b839bab9\" x=\"77.685231\" y=\"41.992783\" style=\"fill: #1f77b4; stroke: #1f77b4\"/>\n     <use xlink:href=\"#m09b839bab9\" x=\"121.730287\" y=\"50.763259\" style=\"fill: #1f77b4; stroke: #1f77b4\"/>\n     <use xlink:href=\"#m09b839bab9\" x=\"121.14758\" y=\"60.693403\" style=\"fill: #1f77b4; stroke: #1f77b4\"/>\n     <use xlink:href=\"#m09b839bab9\" x=\"140.109685\" y=\"57.333805\" style=\"fill: #1f77b4; stroke: #1f77b4\"/>\n     <use xlink:href=\"#m09b839bab9\" x=\"129.155055\" y=\"61.305908\" style=\"fill: #1f77b4; stroke: #1f77b4\"/>\n     <use xlink:href=\"#m09b839bab9\" x=\"104.158892\" y=\"51.905827\" style=\"fill: #1f77b4; stroke: #1f77b4\"/>\n     <use xlink:href=\"#m09b839bab9\" x=\"141.146595\" y=\"81.470731\" style=\"fill: #1f77b4; stroke: #1f77b4\"/>\n     <use xlink:href=\"#m09b839bab9\" x=\"127.765957\" y=\"69.691323\" style=\"fill: #1f77b4; stroke: #1f77b4\"/>\n     <use xlink:href=\"#m09b839bab9\" x=\"134.001277\" y=\"72.550149\" style=\"fill: #1f77b4; stroke: #1f77b4\"/>\n     <use xlink:href=\"#m09b839bab9\" x=\"116.715816\" y=\"63.915724\" style=\"fill: #1f77b4; stroke: #1f77b4\"/>\n     <use xlink:href=\"#m09b839bab9\" x=\"156.807511\" y=\"105.636603\" style=\"fill: #1f77b4; stroke: #1f77b4\"/>\n     <use xlink:href=\"#m09b839bab9\" x=\"170.519389\" y=\"84.101252\" style=\"fill: #1f77b4; stroke: #1f77b4\"/>\n     <use xlink:href=\"#m09b839bab9\" x=\"139.808264\" y=\"82.158909\" style=\"fill: #1f77b4; stroke: #1f77b4\"/>\n     <use xlink:href=\"#m09b839bab9\" x=\"138.860658\" y=\"85.066638\" style=\"fill: #1f77b4; stroke: #1f77b4\"/>\n     <use xlink:href=\"#m09b839bab9\" x=\"152.611267\" y=\"105.354042\" style=\"fill: #1f77b4; stroke: #1f77b4\"/>\n     <use xlink:href=\"#m09b839bab9\" x=\"123.389154\" y=\"51.834492\" style=\"fill: #1f77b4; stroke: #1f77b4\"/>\n     <use xlink:href=\"#m09b839bab9\" x=\"144.875529\" y=\"73.137812\" style=\"fill: #1f77b4; stroke: #1f77b4\"/>\n     <use xlink:href=\"#m09b839bab9\" x=\"151.648092\" y=\"90.77908\" style=\"fill: #1f77b4; stroke: #1f77b4\"/>\n     <use xlink:href=\"#m09b839bab9\" x=\"170.517964\" y=\"95.628749\" style=\"fill: #1f77b4; stroke: #1f77b4\"/>\n     <use xlink:href=\"#m09b839bab9\" x=\"148.143505\" y=\"83.681627\" style=\"fill: #1f77b4; stroke: #1f77b4\"/>\n     <use xlink:href=\"#m09b839bab9\" x=\"92.163628\" y=\"44.234511\" style=\"fill: #1f77b4; stroke: #1f77b4\"/>\n     <use xlink:href=\"#m09b839bab9\" x=\"121.731914\" y=\"74.086516\" style=\"fill: #1f77b4; stroke: #1f77b4\"/>\n     <use xlink:href=\"#m09b839bab9\" x=\"168.542009\" y=\"103.316502\" style=\"fill: #1f77b4; stroke: #1f77b4\"/>\n     <use xlink:href=\"#m09b839bab9\" x=\"164.814672\" y=\"116.994743\" style=\"fill: #1f77b4; stroke: #1f77b4\"/>\n     <use xlink:href=\"#m09b839bab9\" x=\"116.112626\" y=\"67.25585\" style=\"fill: #1f77b4; stroke: #1f77b4\"/>\n     <use xlink:href=\"#m09b839bab9\" x=\"122.519894\" y=\"76.325757\" style=\"fill: #1f77b4; stroke: #1f77b4\"/>\n     <use xlink:href=\"#m09b839bab9\" x=\"167.017106\" y=\"80.804475\" style=\"fill: #1f77b4; stroke: #1f77b4\"/>\n     <use xlink:href=\"#m09b839bab9\" x=\"178.641974\" y=\"89.125688\" style=\"fill: #1f77b4; stroke: #1f77b4\"/>\n     <use xlink:href=\"#m09b839bab9\" x=\"94.216174\" y=\"68.974721\" style=\"fill: #1f77b4; stroke: #1f77b4\"/>\n     <use xlink:href=\"#m09b839bab9\" x=\"166.949035\" y=\"79.914255\" style=\"fill: #1f77b4; stroke: #1f77b4\"/>\n     <use xlink:href=\"#m09b839bab9\" x=\"127.535575\" y=\"62.865754\" style=\"fill: #1f77b4; stroke: #1f77b4\"/>\n     <use xlink:href=\"#m09b839bab9\" x=\"116.173883\" y=\"72.833858\" style=\"fill: #1f77b4; stroke: #1f77b4\"/>\n     <use xlink:href=\"#m09b839bab9\" x=\"124.100344\" y=\"74.64285\" style=\"fill: #1f77b4; stroke: #1f77b4\"/>\n     <use xlink:href=\"#m09b839bab9\" x=\"84.116707\" y=\"32.606413\" style=\"fill: #1f77b4; stroke: #1f77b4\"/>\n     <use xlink:href=\"#m09b839bab9\" x=\"126.104703\" y=\"62.011522\" style=\"fill: #1f77b4; stroke: #1f77b4\"/>\n     <use xlink:href=\"#m09b839bab9\" x=\"142.162498\" y=\"84.985714\" style=\"fill: #1f77b4; stroke: #1f77b4\"/>\n     <use xlink:href=\"#m09b839bab9\" x=\"117.798108\" y=\"63.122067\" style=\"fill: #1f77b4; stroke: #1f77b4\"/>\n     <use xlink:href=\"#m09b839bab9\" x=\"91.454054\" y=\"33.241096\" style=\"fill: #1f77b4; stroke: #1f77b4\"/>\n     <use xlink:href=\"#m09b839bab9\" x=\"113.294048\" y=\"70.539449\" style=\"fill: #1f77b4; stroke: #1f77b4\"/>\n     <use xlink:href=\"#m09b839bab9\" x=\"125.423591\" y=\"45.134936\" style=\"fill: #1f77b4; stroke: #1f77b4\"/>\n     <use xlink:href=\"#m09b839bab9\" x=\"103.843496\" y=\"45.943025\" style=\"fill: #1f77b4; stroke: #1f77b4\"/>\n     <use xlink:href=\"#m09b839bab9\" x=\"178.367402\" y=\"96.061564\" style=\"fill: #1f77b4; stroke: #1f77b4\"/>\n     <use xlink:href=\"#m09b839bab9\" x=\"95.175795\" y=\"51.142814\" style=\"fill: #1f77b4; stroke: #1f77b4\"/>\n     <use xlink:href=\"#m09b839bab9\" x=\"124.478226\" y=\"63.165154\" style=\"fill: #1f77b4; stroke: #1f77b4\"/>\n     <use xlink:href=\"#m09b839bab9\" x=\"133.435418\" y=\"59.584645\" style=\"fill: #1f77b4; stroke: #1f77b4\"/>\n     <use xlink:href=\"#m09b839bab9\" x=\"172.855859\" y=\"110.509371\" style=\"fill: #1f77b4; stroke: #1f77b4\"/>\n     <use xlink:href=\"#m09b839bab9\" x=\"122.925096\" y=\"64.557059\" style=\"fill: #1f77b4; stroke: #1f77b4\"/>\n     <use xlink:href=\"#m09b839bab9\" x=\"99.390148\" y=\"52.903872\" style=\"fill: #1f77b4; stroke: #1f77b4\"/>\n     <use xlink:href=\"#m09b839bab9\" x=\"176.623335\" y=\"90.233765\" style=\"fill: #1f77b4; stroke: #1f77b4\"/>\n     <use xlink:href=\"#m09b839bab9\" x=\"115.395818\" y=\"75.990407\" style=\"fill: #1f77b4; stroke: #1f77b4\"/>\n     <use xlink:href=\"#m09b839bab9\" x=\"142.320712\" y=\"75.13468\" style=\"fill: #1f77b4; stroke: #1f77b4\"/>\n     <use xlink:href=\"#m09b839bab9\" x=\"121.837757\" y=\"57.221247\" style=\"fill: #1f77b4; stroke: #1f77b4\"/>\n     <use xlink:href=\"#m09b839bab9\" x=\"102.185392\" y=\"49.033512\" style=\"fill: #1f77b4; stroke: #1f77b4\"/>\n     <use xlink:href=\"#m09b839bab9\" x=\"146.892025\" y=\"86.317552\" style=\"fill: #1f77b4; stroke: #1f77b4\"/>\n     <use xlink:href=\"#m09b839bab9\" x=\"170.912277\" y=\"94.836832\" style=\"fill: #1f77b4; stroke: #1f77b4\"/>\n     <use xlink:href=\"#m09b839bab9\" x=\"142.512217\" y=\"77.556775\" style=\"fill: #1f77b4; stroke: #1f77b4\"/>\n     <use xlink:href=\"#m09b839bab9\" x=\"108.251935\" y=\"43.901857\" style=\"fill: #1f77b4; stroke: #1f77b4\"/>\n     <use xlink:href=\"#m09b839bab9\" x=\"187.2656\" y=\"102.365723\" style=\"fill: #1f77b4; stroke: #1f77b4\"/>\n     <use xlink:href=\"#m09b839bab9\" x=\"132.979922\" y=\"65.139807\" style=\"fill: #1f77b4; stroke: #1f77b4\"/>\n     <use xlink:href=\"#m09b839bab9\" x=\"100.736877\" y=\"63.731016\" style=\"fill: #1f77b4; stroke: #1f77b4\"/>\n     <use xlink:href=\"#m09b839bab9\" x=\"141.283873\" y=\"60.100261\" style=\"fill: #1f77b4; stroke: #1f77b4\"/>\n     <use xlink:href=\"#m09b839bab9\" x=\"127.380023\" y=\"56.095795\" style=\"fill: #1f77b4; stroke: #1f77b4\"/>\n     <use xlink:href=\"#m09b839bab9\" x=\"154.113395\" y=\"70.649944\" style=\"fill: #1f77b4; stroke: #1f77b4\"/>\n     <use xlink:href=\"#m09b839bab9\" x=\"118.449024\" y=\"52.41309\" style=\"fill: #1f77b4; stroke: #1f77b4\"/>\n     <use xlink:href=\"#m09b839bab9\" x=\"196.382352\" y=\"107.787668\" style=\"fill: #1f77b4; stroke: #1f77b4\"/>\n     <use xlink:href=\"#m09b839bab9\" x=\"129.716181\" y=\"75.588831\" style=\"fill: #1f77b4; stroke: #1f77b4\"/>\n     <use xlink:href=\"#m09b839bab9\" x=\"114.559148\" y=\"55.150779\" style=\"fill: #1f77b4; stroke: #1f77b4\"/>\n     <use xlink:href=\"#m09b839bab9\" x=\"129.829693\" y=\"60.619333\" style=\"fill: #1f77b4; stroke: #1f77b4\"/>\n     <use xlink:href=\"#m09b839bab9\" x=\"158.118373\" y=\"88.060206\" style=\"fill: #1f77b4; stroke: #1f77b4\"/>\n     <use xlink:href=\"#m09b839bab9\" x=\"123.063841\" y=\"65.479753\" style=\"fill: #1f77b4; stroke: #1f77b4\"/>\n     <use xlink:href=\"#m09b839bab9\" x=\"112.645643\" y=\"44.605992\" style=\"fill: #1f77b4; stroke: #1f77b4\"/>\n     <use xlink:href=\"#m09b839bab9\" x=\"107.687697\" y=\"56.273659\" style=\"fill: #1f77b4; stroke: #1f77b4\"/>\n     <use xlink:href=\"#m09b839bab9\" x=\"188.032646\" y=\"110.96991\" style=\"fill: #1f77b4; stroke: #1f77b4\"/>\n     <use xlink:href=\"#m09b839bab9\" x=\"122.40856\" y=\"51.784014\" style=\"fill: #1f77b4; stroke: #1f77b4\"/>\n     <use xlink:href=\"#m09b839bab9\" x=\"146.713961\" y=\"100.053625\" style=\"fill: #1f77b4; stroke: #1f77b4\"/>\n     <use xlink:href=\"#m09b839bab9\" x=\"129.508787\" y=\"68.284414\" style=\"fill: #1f77b4; stroke: #1f77b4\"/>\n     <use xlink:href=\"#m09b839bab9\" x=\"151.319562\" y=\"59.04048\" style=\"fill: #1f77b4; stroke: #1f77b4\"/>\n     <use xlink:href=\"#m09b839bab9\" x=\"158.364445\" y=\"77.474238\" style=\"fill: #1f77b4; stroke: #1f77b4\"/>\n     <use xlink:href=\"#m09b839bab9\" x=\"162.66188\" y=\"87.332108\" style=\"fill: #1f77b4; stroke: #1f77b4\"/>\n     <use xlink:href=\"#m09b839bab9\" x=\"127.603759\" y=\"66.936467\" style=\"fill: #1f77b4; stroke: #1f77b4\"/>\n     <use xlink:href=\"#m09b839bab9\" x=\"143.111713\" y=\"64.09824\" style=\"fill: #1f77b4; stroke: #1f77b4\"/>\n     <use xlink:href=\"#m09b839bab9\" x=\"138.926812\" y=\"54.842166\" style=\"fill: #1f77b4; stroke: #1f77b4\"/>\n     <use xlink:href=\"#m09b839bab9\" x=\"125.631417\" y=\"73.938082\" style=\"fill: #1f77b4; stroke: #1f77b4\"/>\n     <use xlink:href=\"#m09b839bab9\" x=\"148.085848\" y=\"88.05766\" style=\"fill: #1f77b4; stroke: #1f77b4\"/>\n     <use xlink:href=\"#m09b839bab9\" x=\"127.053076\" y=\"64.908682\" style=\"fill: #1f77b4; stroke: #1f77b4\"/>\n     <use xlink:href=\"#m09b839bab9\" x=\"133.515596\" y=\"57.217102\" style=\"fill: #1f77b4; stroke: #1f77b4\"/>\n     <use xlink:href=\"#m09b839bab9\" x=\"157.667536\" y=\"97.899823\" style=\"fill: #1f77b4; stroke: #1f77b4\"/>\n     <use xlink:href=\"#m09b839bab9\" x=\"136.29728\" y=\"80.192186\" style=\"fill: #1f77b4; stroke: #1f77b4\"/>\n     <use xlink:href=\"#m09b839bab9\" x=\"124.014004\" y=\"69.690801\" style=\"fill: #1f77b4; stroke: #1f77b4\"/>\n     <use xlink:href=\"#m09b839bab9\" x=\"169.16589\" y=\"99.939514\" style=\"fill: #1f77b4; stroke: #1f77b4\"/>\n     <use xlink:href=\"#m09b839bab9\" x=\"162.832505\" y=\"79.739246\" style=\"fill: #1f77b4; stroke: #1f77b4\"/>\n     <use xlink:href=\"#m09b839bab9\" x=\"87.778034\" y=\"51.826499\" style=\"fill: #1f77b4; stroke: #1f77b4\"/>\n     <use xlink:href=\"#m09b839bab9\" x=\"142.978299\" y=\"73.715586\" style=\"fill: #1f77b4; stroke: #1f77b4\"/>\n     <use xlink:href=\"#m09b839bab9\" x=\"154.833098\" y=\"74.089355\" style=\"fill: #1f77b4; stroke: #1f77b4\"/>\n     <use xlink:href=\"#m09b839bab9\" x=\"100.650218\" y=\"47.933058\" style=\"fill: #1f77b4; stroke: #1f77b4\"/>\n     <use xlink:href=\"#m09b839bab9\" x=\"135.742975\" y=\"56.408627\" style=\"fill: #1f77b4; stroke: #1f77b4\"/>\n     <use xlink:href=\"#m09b839bab9\" x=\"130.229154\" y=\"69.871847\" style=\"fill: #1f77b4; stroke: #1f77b4\"/>\n     <use xlink:href=\"#m09b839bab9\" x=\"168.272301\" y=\"109.66962\" style=\"fill: #1f77b4; stroke: #1f77b4\"/>\n     <use xlink:href=\"#m09b839bab9\" x=\"129.099534\" y=\"70.222817\" style=\"fill: #1f77b4; stroke: #1f77b4\"/>\n     <use xlink:href=\"#m09b839bab9\" x=\"109.310754\" y=\"66.142065\" style=\"fill: #1f77b4; stroke: #1f77b4\"/>\n     <use xlink:href=\"#m09b839bab9\" x=\"122.296389\" y=\"60.156267\" style=\"fill: #1f77b4; stroke: #1f77b4\"/>\n     <use xlink:href=\"#m09b839bab9\" x=\"170.541262\" y=\"95.001393\" style=\"fill: #1f77b4; stroke: #1f77b4\"/>\n     <use xlink:href=\"#m09b839bab9\" x=\"113.396164\" y=\"74.378423\" style=\"fill: #1f77b4; stroke: #1f77b4\"/>\n     <use xlink:href=\"#m09b839bab9\" x=\"145.234784\" y=\"79.633833\" style=\"fill: #1f77b4; stroke: #1f77b4\"/>\n     <use xlink:href=\"#m09b839bab9\" x=\"116.563656\" y=\"41.630974\" style=\"fill: #1f77b4; stroke: #1f77b4\"/>\n     <use xlink:href=\"#m09b839bab9\" x=\"99.973426\" y=\"56.669877\" style=\"fill: #1f77b4; stroke: #1f77b4\"/>\n     <use xlink:href=\"#m09b839bab9\" x=\"121.636393\" y=\"66.019973\" style=\"fill: #1f77b4; stroke: #1f77b4\"/>\n     <use xlink:href=\"#m09b839bab9\" x=\"152.55423\" y=\"57.14646\" style=\"fill: #1f77b4; stroke: #1f77b4\"/>\n     <use xlink:href=\"#m09b839bab9\" x=\"118.723213\" y=\"64.786578\" style=\"fill: #1f77b4; stroke: #1f77b4\"/>\n     <use xlink:href=\"#m09b839bab9\" x=\"118.050816\" y=\"44.517206\" style=\"fill: #1f77b4; stroke: #1f77b4\"/>\n     <use xlink:href=\"#m09b839bab9\" x=\"104.302949\" y=\"44.056912\" style=\"fill: #1f77b4; stroke: #1f77b4\"/>\n     <use xlink:href=\"#m09b839bab9\" x=\"117.627777\" y=\"72.136437\" style=\"fill: #1f77b4; stroke: #1f77b4\"/>\n     <use xlink:href=\"#m09b839bab9\" x=\"122.261277\" y=\"55.362694\" style=\"fill: #1f77b4; stroke: #1f77b4\"/>\n     <use xlink:href=\"#m09b839bab9\" x=\"125.680861\" y=\"62.242992\" style=\"fill: #1f77b4; stroke: #1f77b4\"/>\n     <use xlink:href=\"#m09b839bab9\" x=\"147.727246\" y=\"70.582198\" style=\"fill: #1f77b4; stroke: #1f77b4\"/>\n     <use xlink:href=\"#m09b839bab9\" x=\"130.865496\" y=\"74.561824\" style=\"fill: #1f77b4; stroke: #1f77b4\"/>\n     <use xlink:href=\"#m09b839bab9\" x=\"130.415689\" y=\"62.536902\" style=\"fill: #1f77b4; stroke: #1f77b4\"/>\n     <use xlink:href=\"#m09b839bab9\" x=\"129.240214\" y=\"90.626551\" style=\"fill: #1f77b4; stroke: #1f77b4\"/>\n     <use xlink:href=\"#m09b839bab9\" x=\"110.593773\" y=\"58.917548\" style=\"fill: #1f77b4; stroke: #1f77b4\"/>\n     <use xlink:href=\"#m09b839bab9\" x=\"130.944772\" y=\"73.703535\" style=\"fill: #1f77b4; stroke: #1f77b4\"/>\n     <use xlink:href=\"#m09b839bab9\" x=\"124.277617\" y=\"50.818341\" style=\"fill: #1f77b4; stroke: #1f77b4\"/>\n     <use xlink:href=\"#m09b839bab9\" x=\"113.5275\" y=\"68.900231\" style=\"fill: #1f77b4; stroke: #1f77b4\"/>\n     <use xlink:href=\"#m09b839bab9\" x=\"188.122386\" y=\"107.54204\" style=\"fill: #1f77b4; stroke: #1f77b4\"/>\n     <use xlink:href=\"#m09b839bab9\" x=\"156.517456\" y=\"81.474612\" style=\"fill: #1f77b4; stroke: #1f77b4\"/>\n     <use xlink:href=\"#m09b839bab9\" x=\"155.681\" y=\"73.375084\" style=\"fill: #1f77b4; stroke: #1f77b4\"/>\n     <use xlink:href=\"#m09b839bab9\" x=\"162.250967\" y=\"81.052029\" style=\"fill: #1f77b4; stroke: #1f77b4\"/>\n     <use xlink:href=\"#m09b839bab9\" x=\"115.630054\" y=\"45.402086\" style=\"fill: #1f77b4; stroke: #1f77b4\"/>\n     <use xlink:href=\"#m09b839bab9\" x=\"102.265077\" y=\"56.315309\" style=\"fill: #1f77b4; stroke: #1f77b4\"/>\n     <use xlink:href=\"#m09b839bab9\" x=\"193.241685\" y=\"111.794675\" style=\"fill: #1f77b4; stroke: #1f77b4\"/>\n     <use xlink:href=\"#m09b839bab9\" x=\"196.471998\" y=\"98.500205\" style=\"fill: #1f77b4; stroke: #1f77b4\"/>\n     <use xlink:href=\"#m09b839bab9\" x=\"155.028437\" y=\"73.173384\" style=\"fill: #1f77b4; stroke: #1f77b4\"/>\n     <use xlink:href=\"#m09b839bab9\" x=\"119.967578\" y=\"51.112147\" style=\"fill: #1f77b4; stroke: #1f77b4\"/>\n     <use xlink:href=\"#m09b839bab9\" x=\"93.180266\" y=\"36.880556\" style=\"fill: #1f77b4; stroke: #1f77b4\"/>\n     <use xlink:href=\"#m09b839bab9\" x=\"150.676921\" y=\"80.810216\" style=\"fill: #1f77b4; stroke: #1f77b4\"/>\n     <use xlink:href=\"#m09b839bab9\" x=\"167.294258\" y=\"88.40195\" style=\"fill: #1f77b4; stroke: #1f77b4\"/>\n     <use xlink:href=\"#m09b839bab9\" x=\"129.72265\" y=\"83.088681\" style=\"fill: #1f77b4; stroke: #1f77b4\"/>\n     <use xlink:href=\"#m09b839bab9\" x=\"143.485065\" y=\"88.920053\" style=\"fill: #1f77b4; stroke: #1f77b4\"/>\n     <use xlink:href=\"#m09b839bab9\" x=\"154.889495\" y=\"76.250705\" style=\"fill: #1f77b4; stroke: #1f77b4\"/>\n     <use xlink:href=\"#m09b839bab9\" x=\"178.488275\" y=\"108.093158\" style=\"fill: #1f77b4; stroke: #1f77b4\"/>\n     <use xlink:href=\"#m09b839bab9\" x=\"140.924911\" y=\"74.147462\" style=\"fill: #1f77b4; stroke: #1f77b4\"/>\n     <use xlink:href=\"#m09b839bab9\" x=\"126.882625\" y=\"60.278013\" style=\"fill: #1f77b4; stroke: #1f77b4\"/>\n     <use xlink:href=\"#m09b839bab9\" x=\"105.495888\" y=\"63.746914\" style=\"fill: #1f77b4; stroke: #1f77b4\"/>\n     <use xlink:href=\"#m09b839bab9\" x=\"124.920295\" y=\"80.461199\" style=\"fill: #1f77b4; stroke: #1f77b4\"/>\n     <use xlink:href=\"#m09b839bab9\" x=\"85.164462\" y=\"35.526354\" style=\"fill: #1f77b4; stroke: #1f77b4\"/>\n     <use xlink:href=\"#m09b839bab9\" x=\"125.00184\" y=\"73.084428\" style=\"fill: #1f77b4; stroke: #1f77b4\"/>\n     <use xlink:href=\"#m09b839bab9\" x=\"176.331165\" y=\"94.126964\" style=\"fill: #1f77b4; stroke: #1f77b4\"/>\n     <use xlink:href=\"#m09b839bab9\" x=\"114.026797\" y=\"49.830444\" style=\"fill: #1f77b4; stroke: #1f77b4\"/>\n     <use xlink:href=\"#m09b839bab9\" x=\"126.257639\" y=\"66.119941\" style=\"fill: #1f77b4; stroke: #1f77b4\"/>\n     <use xlink:href=\"#m09b839bab9\" x=\"121.114032\" y=\"51.23682\" style=\"fill: #1f77b4; stroke: #1f77b4\"/>\n     <use xlink:href=\"#m09b839bab9\" x=\"74.965908\" y=\"44.77765\" style=\"fill: #1f77b4; stroke: #1f77b4\"/>\n     <use xlink:href=\"#m09b839bab9\" x=\"118.137495\" y=\"69.253102\" style=\"fill: #1f77b4; stroke: #1f77b4\"/>\n     <use xlink:href=\"#m09b839bab9\" x=\"170.106728\" y=\"102.678776\" style=\"fill: #1f77b4; stroke: #1f77b4\"/>\n     <use xlink:href=\"#m09b839bab9\" x=\"128.7953\" y=\"75.048371\" style=\"fill: #1f77b4; stroke: #1f77b4\"/>\n     <use xlink:href=\"#m09b839bab9\" x=\"153.642812\" y=\"90.329286\" style=\"fill: #1f77b4; stroke: #1f77b4\"/>\n     <use xlink:href=\"#m09b839bab9\" x=\"118.368993\" y=\"68.531374\" style=\"fill: #1f77b4; stroke: #1f77b4\"/>\n     <use xlink:href=\"#m09b839bab9\" x=\"126.162203\" y=\"57.054744\" style=\"fill: #1f77b4; stroke: #1f77b4\"/>\n     <use xlink:href=\"#m09b839bab9\" x=\"93.565204\" y=\"50.725837\" style=\"fill: #1f77b4; stroke: #1f77b4\"/>\n     <use xlink:href=\"#m09b839bab9\" x=\"152.402571\" y=\"73.906572\" style=\"fill: #1f77b4; stroke: #1f77b4\"/>\n     <use xlink:href=\"#m09b839bab9\" x=\"89.353713\" y=\"46.697372\" style=\"fill: #1f77b4; stroke: #1f77b4\"/>\n     <use xlink:href=\"#m09b839bab9\" x=\"101.906167\" y=\"39.634667\" style=\"fill: #1f77b4; stroke: #1f77b4\"/>\n     <use xlink:href=\"#m09b839bab9\" x=\"97.206133\" y=\"46.85957\" style=\"fill: #1f77b4; stroke: #1f77b4\"/>\n     <use xlink:href=\"#m09b839bab9\" x=\"124.221386\" y=\"66.991594\" style=\"fill: #1f77b4; stroke: #1f77b4\"/>\n     <use xlink:href=\"#m09b839bab9\" x=\"159.222351\" y=\"80.591076\" style=\"fill: #1f77b4; stroke: #1f77b4\"/>\n     <use xlink:href=\"#m09b839bab9\" x=\"137.116344\" y=\"71.86236\" style=\"fill: #1f77b4; stroke: #1f77b4\"/>\n     <use xlink:href=\"#m09b839bab9\" x=\"98.784489\" y=\"46.175228\" style=\"fill: #1f77b4; stroke: #1f77b4\"/>\n     <use xlink:href=\"#m09b839bab9\" x=\"156.915159\" y=\"74.059799\" style=\"fill: #1f77b4; stroke: #1f77b4\"/>\n     <use xlink:href=\"#m09b839bab9\" x=\"126.616943\" y=\"76.229512\" style=\"fill: #1f77b4; stroke: #1f77b4\"/>\n     <use xlink:href=\"#m09b839bab9\" x=\"141.771791\" y=\"75.371026\" style=\"fill: #1f77b4; stroke: #1f77b4\"/>\n     <use xlink:href=\"#m09b839bab9\" x=\"95.393434\" y=\"42.56572\" style=\"fill: #1f77b4; stroke: #1f77b4\"/>\n     <use xlink:href=\"#m09b839bab9\" x=\"156.724154\" y=\"76.898305\" style=\"fill: #1f77b4; stroke: #1f77b4\"/>\n     <use xlink:href=\"#m09b839bab9\" x=\"152.874215\" y=\"86.620305\" style=\"fill: #1f77b4; stroke: #1f77b4\"/>\n     <use xlink:href=\"#m09b839bab9\" x=\"153.067507\" y=\"76.549615\" style=\"fill: #1f77b4; stroke: #1f77b4\"/>\n     <use xlink:href=\"#m09b839bab9\" x=\"154.774821\" y=\"82.544282\" style=\"fill: #1f77b4; stroke: #1f77b4\"/>\n     <use xlink:href=\"#m09b839bab9\" x=\"137.106277\" y=\"67.707523\" style=\"fill: #1f77b4; stroke: #1f77b4\"/>\n     <use xlink:href=\"#m09b839bab9\" x=\"203.409382\" y=\"117.710224\" style=\"fill: #1f77b4; stroke: #1f77b4\"/>\n     <use xlink:href=\"#m09b839bab9\" x=\"116.668671\" y=\"64.037571\" style=\"fill: #1f77b4; stroke: #1f77b4\"/>\n     <use xlink:href=\"#m09b839bab9\" x=\"166.999019\" y=\"82.895321\" style=\"fill: #1f77b4; stroke: #1f77b4\"/>\n     <use xlink:href=\"#m09b839bab9\" x=\"107.941672\" y=\"21.900202\" style=\"fill: #1f77b4; stroke: #1f77b4\"/>\n     <use xlink:href=\"#m09b839bab9\" x=\"119.367859\" y=\"54.715605\" style=\"fill: #1f77b4; stroke: #1f77b4\"/>\n     <use xlink:href=\"#m09b839bab9\" x=\"134.996348\" y=\"74.584026\" style=\"fill: #1f77b4; stroke: #1f77b4\"/>\n     <use xlink:href=\"#m09b839bab9\" x=\"153.991395\" y=\"83.804686\" style=\"fill: #1f77b4; stroke: #1f77b4\"/>\n     <use xlink:href=\"#m09b839bab9\" x=\"127.927444\" y=\"61.997309\" style=\"fill: #1f77b4; stroke: #1f77b4\"/>\n     <use xlink:href=\"#m09b839bab9\" x=\"134.284756\" y=\"56.813191\" style=\"fill: #1f77b4; stroke: #1f77b4\"/>\n     <use xlink:href=\"#m09b839bab9\" x=\"116.153801\" y=\"59.310674\" style=\"fill: #1f77b4; stroke: #1f77b4\"/>\n     <use xlink:href=\"#m09b839bab9\" x=\"163.083954\" y=\"91.515841\" style=\"fill: #1f77b4; stroke: #1f77b4\"/>\n     <use xlink:href=\"#m09b839bab9\" x=\"141.027251\" y=\"69.203894\" style=\"fill: #1f77b4; stroke: #1f77b4\"/>\n     <use xlink:href=\"#m09b839bab9\" x=\"116.566285\" y=\"48.185779\" style=\"fill: #1f77b4; stroke: #1f77b4\"/>\n     <use xlink:href=\"#m09b839bab9\" x=\"133.8001\" y=\"79.121174\" style=\"fill: #1f77b4; stroke: #1f77b4\"/>\n     <use xlink:href=\"#m09b839bab9\" x=\"117.998548\" y=\"55.892248\" style=\"fill: #1f77b4; stroke: #1f77b4\"/>\n     <use xlink:href=\"#m09b839bab9\" x=\"118.415341\" y=\"52.788885\" style=\"fill: #1f77b4; stroke: #1f77b4\"/>\n     <use xlink:href=\"#m09b839bab9\" x=\"72.85322\" y=\"39.001063\" style=\"fill: #1f77b4; stroke: #1f77b4\"/>\n     <use xlink:href=\"#m09b839bab9\" x=\"129.283835\" y=\"63.120512\" style=\"fill: #1f77b4; stroke: #1f77b4\"/>\n     <use xlink:href=\"#m09b839bab9\" x=\"105.046186\" y=\"45.963727\" style=\"fill: #1f77b4; stroke: #1f77b4\"/>\n     <use xlink:href=\"#m09b839bab9\" x=\"100.944251\" y=\"56.399383\" style=\"fill: #1f77b4; stroke: #1f77b4\"/>\n     <use xlink:href=\"#m09b839bab9\" x=\"148.420946\" y=\"91.408893\" style=\"fill: #1f77b4; stroke: #1f77b4\"/>\n     <use xlink:href=\"#m09b839bab9\" x=\"133.234894\" y=\"55.011799\" style=\"fill: #1f77b4; stroke: #1f77b4\"/>\n     <use xlink:href=\"#m09b839bab9\" x=\"170.039707\" y=\"90.048691\" style=\"fill: #1f77b4; stroke: #1f77b4\"/>\n     <use xlink:href=\"#m09b839bab9\" x=\"105.637752\" y=\"55.849529\" style=\"fill: #1f77b4; stroke: #1f77b4\"/>\n     <use xlink:href=\"#m09b839bab9\" x=\"139.017508\" y=\"77.461447\" style=\"fill: #1f77b4; stroke: #1f77b4\"/>\n     <use xlink:href=\"#m09b839bab9\" x=\"141.358195\" y=\"69.032699\" style=\"fill: #1f77b4; stroke: #1f77b4\"/>\n     <use xlink:href=\"#m09b839bab9\" x=\"136.014989\" y=\"81.800799\" style=\"fill: #1f77b4; stroke: #1f77b4\"/>\n     <use xlink:href=\"#m09b839bab9\" x=\"115.139102\" y=\"59.263817\" style=\"fill: #1f77b4; stroke: #1f77b4\"/>\n     <use xlink:href=\"#m09b839bab9\" x=\"85.064782\" y=\"44.025746\" style=\"fill: #1f77b4; stroke: #1f77b4\"/>\n     <use xlink:href=\"#m09b839bab9\" x=\"155.238649\" y=\"84.825528\" style=\"fill: #1f77b4; stroke: #1f77b4\"/>\n     <use xlink:href=\"#m09b839bab9\" x=\"122.480421\" y=\"53.223534\" style=\"fill: #1f77b4; stroke: #1f77b4\"/>\n     <use xlink:href=\"#m09b839bab9\" x=\"156.744106\" y=\"88.427141\" style=\"fill: #1f77b4; stroke: #1f77b4\"/>\n     <use xlink:href=\"#m09b839bab9\" x=\"129.793594\" y=\"72.102623\" style=\"fill: #1f77b4; stroke: #1f77b4\"/>\n     <use xlink:href=\"#m09b839bab9\" x=\"133.286331\" y=\"72.703743\" style=\"fill: #1f77b4; stroke: #1f77b4\"/>\n     <use xlink:href=\"#m09b839bab9\" x=\"134.194128\" y=\"71.264767\" style=\"fill: #1f77b4; stroke: #1f77b4\"/>\n     <use xlink:href=\"#m09b839bab9\" x=\"118.397672\" y=\"64.745585\" style=\"fill: #1f77b4; stroke: #1f77b4\"/>\n     <use xlink:href=\"#m09b839bab9\" x=\"93.18903\" y=\"52.909442\" style=\"fill: #1f77b4; stroke: #1f77b4\"/>\n     <use xlink:href=\"#m09b839bab9\" x=\"172.172536\" y=\"99.766851\" style=\"fill: #1f77b4; stroke: #1f77b4\"/>\n     <use xlink:href=\"#m09b839bab9\" x=\"135.675822\" y=\"90.613575\" style=\"fill: #1f77b4; stroke: #1f77b4\"/>\n     <use xlink:href=\"#m09b839bab9\" x=\"143.524288\" y=\"80.166449\" style=\"fill: #1f77b4; stroke: #1f77b4\"/>\n     <use xlink:href=\"#m09b839bab9\" x=\"141.475297\" y=\"84.463939\" style=\"fill: #1f77b4; stroke: #1f77b4\"/>\n     <use xlink:href=\"#m09b839bab9\" x=\"140.648845\" y=\"84.015338\" style=\"fill: #1f77b4; stroke: #1f77b4\"/>\n     <use xlink:href=\"#m09b839bab9\" x=\"138.146251\" y=\"59.762941\" style=\"fill: #1f77b4; stroke: #1f77b4\"/>\n     <use xlink:href=\"#m09b839bab9\" x=\"130.466422\" y=\"73.999447\" style=\"fill: #1f77b4; stroke: #1f77b4\"/>\n     <use xlink:href=\"#m09b839bab9\" x=\"156.520523\" y=\"76.086033\" style=\"fill: #1f77b4; stroke: #1f77b4\"/>\n     <use xlink:href=\"#m09b839bab9\" x=\"126.443405\" y=\"81.791431\" style=\"fill: #1f77b4; stroke: #1f77b4\"/>\n     <use xlink:href=\"#m09b839bab9\" x=\"156.4986\" y=\"101.211562\" style=\"fill: #1f77b4; stroke: #1f77b4\"/>\n     <use xlink:href=\"#m09b839bab9\" x=\"148.481246\" y=\"76.824335\" style=\"fill: #1f77b4; stroke: #1f77b4\"/>\n     <use xlink:href=\"#m09b839bab9\" x=\"134.116891\" y=\"78.50406\" style=\"fill: #1f77b4; stroke: #1f77b4\"/>\n     <use xlink:href=\"#m09b839bab9\" x=\"89.259689\" y=\"52.549788\" style=\"fill: #1f77b4; stroke: #1f77b4\"/>\n     <use xlink:href=\"#m09b839bab9\" x=\"124.404265\" y=\"70.034097\" style=\"fill: #1f77b4; stroke: #1f77b4\"/>\n     <use xlink:href=\"#m09b839bab9\" x=\"97.325104\" y=\"53.560107\" style=\"fill: #1f77b4; stroke: #1f77b4\"/>\n     <use xlink:href=\"#m09b839bab9\" x=\"145.227355\" y=\"91.847005\" style=\"fill: #1f77b4; stroke: #1f77b4\"/>\n     <use xlink:href=\"#m09b839bab9\" x=\"189.758905\" y=\"107.618682\" style=\"fill: #1f77b4; stroke: #1f77b4\"/>\n     <use xlink:href=\"#m09b839bab9\" x=\"142.891782\" y=\"58.948798\" style=\"fill: #1f77b4; stroke: #1f77b4\"/>\n     <use xlink:href=\"#m09b839bab9\" x=\"123.313571\" y=\"62.347125\" style=\"fill: #1f77b4; stroke: #1f77b4\"/>\n     <use xlink:href=\"#m09b839bab9\" x=\"106.389173\" y=\"66.687322\" style=\"fill: #1f77b4; stroke: #1f77b4\"/>\n     <use xlink:href=\"#m09b839bab9\" x=\"126.164172\" y=\"53.496024\" style=\"fill: #1f77b4; stroke: #1f77b4\"/>\n     <use xlink:href=\"#m09b839bab9\" x=\"148.109313\" y=\"62.600692\" style=\"fill: #1f77b4; stroke: #1f77b4\"/>\n     <use xlink:href=\"#m09b839bab9\" x=\"92.445042\" y=\"42.973929\" style=\"fill: #1f77b4; stroke: #1f77b4\"/>\n     <use xlink:href=\"#m09b839bab9\" x=\"100.001233\" y=\"52.081794\" style=\"fill: #1f77b4; stroke: #1f77b4\"/>\n     <use xlink:href=\"#m09b839bab9\" x=\"159.442133\" y=\"92.930687\" style=\"fill: #1f77b4; stroke: #1f77b4\"/>\n     <use xlink:href=\"#m09b839bab9\" x=\"99.918366\" y=\"43.231772\" style=\"fill: #1f77b4; stroke: #1f77b4\"/>\n     <use xlink:href=\"#m09b839bab9\" x=\"161.80342\" y=\"99.19029\" style=\"fill: #1f77b4; stroke: #1f77b4\"/>\n     <use xlink:href=\"#m09b839bab9\" x=\"161.850491\" y=\"91.32205\" style=\"fill: #1f77b4; stroke: #1f77b4\"/>\n     <use xlink:href=\"#m09b839bab9\" x=\"140.394311\" y=\"62.422166\" style=\"fill: #1f77b4; stroke: #1f77b4\"/>\n     <use xlink:href=\"#m09b839bab9\" x=\"119.914488\" y=\"64.392584\" style=\"fill: #1f77b4; stroke: #1f77b4\"/>\n     <use xlink:href=\"#m09b839bab9\" x=\"137.282172\" y=\"97.843787\" style=\"fill: #1f77b4; stroke: #1f77b4\"/>\n     <use xlink:href=\"#m09b839bab9\" x=\"163.120613\" y=\"75.02857\" style=\"fill: #1f77b4; stroke: #1f77b4\"/>\n     <use xlink:href=\"#m09b839bab9\" x=\"120.711808\" y=\"71.806178\" style=\"fill: #1f77b4; stroke: #1f77b4\"/>\n     <use xlink:href=\"#m09b839bab9\" x=\"44.18196\" y=\"14.352247\" style=\"fill: #1f77b4; stroke: #1f77b4\"/>\n     <use xlink:href=\"#m09b839bab9\" x=\"144.181301\" y=\"83.853884\" style=\"fill: #1f77b4; stroke: #1f77b4\"/>\n     <use xlink:href=\"#m09b839bab9\" x=\"152.98511\" y=\"86.968819\" style=\"fill: #1f77b4; stroke: #1f77b4\"/>\n     <use xlink:href=\"#m09b839bab9\" x=\"143.043183\" y=\"77.42677\" style=\"fill: #1f77b4; stroke: #1f77b4\"/>\n     <use xlink:href=\"#m09b839bab9\" x=\"165.264418\" y=\"94.57945\" style=\"fill: #1f77b4; stroke: #1f77b4\"/>\n     <use xlink:href=\"#m09b839bab9\" x=\"145.571206\" y=\"86.948432\" style=\"fill: #1f77b4; stroke: #1f77b4\"/>\n     <use xlink:href=\"#m09b839bab9\" x=\"159.774995\" y=\"93.241225\" style=\"fill: #1f77b4; stroke: #1f77b4\"/>\n     <use xlink:href=\"#m09b839bab9\" x=\"155.835704\" y=\"96.662497\" style=\"fill: #1f77b4; stroke: #1f77b4\"/>\n     <use xlink:href=\"#m09b839bab9\" x=\"116.078409\" y=\"61.726266\" style=\"fill: #1f77b4; stroke: #1f77b4\"/>\n     <use xlink:href=\"#m09b839bab9\" x=\"125.393203\" y=\"71.764629\" style=\"fill: #1f77b4; stroke: #1f77b4\"/>\n     <use xlink:href=\"#m09b839bab9\" x=\"160.799674\" y=\"85.240854\" style=\"fill: #1f77b4; stroke: #1f77b4\"/>\n     <use xlink:href=\"#m09b839bab9\" x=\"105.838305\" y=\"70.277318\" style=\"fill: #1f77b4; stroke: #1f77b4\"/>\n     <use xlink:href=\"#m09b839bab9\" x=\"134.883529\" y=\"78.733084\" style=\"fill: #1f77b4; stroke: #1f77b4\"/>\n     <use xlink:href=\"#m09b839bab9\" x=\"144.58817\" y=\"66.977969\" style=\"fill: #1f77b4; stroke: #1f77b4\"/>\n     <use xlink:href=\"#m09b839bab9\" x=\"198.569574\" y=\"104.452027\" style=\"fill: #1f77b4; stroke: #1f77b4\"/>\n     <use xlink:href=\"#m09b839bab9\" x=\"111.286574\" y=\"41.460157\" style=\"fill: #1f77b4; stroke: #1f77b4\"/>\n     <use xlink:href=\"#m09b839bab9\" x=\"133.311669\" y=\"55.454603\" style=\"fill: #1f77b4; stroke: #1f77b4\"/>\n     <use xlink:href=\"#m09b839bab9\" x=\"121.315979\" y=\"45.838869\" style=\"fill: #1f77b4; stroke: #1f77b4\"/>\n     <use xlink:href=\"#m09b839bab9\" x=\"174.961661\" y=\"116.018048\" style=\"fill: #1f77b4; stroke: #1f77b4\"/>\n     <use xlink:href=\"#m09b839bab9\" x=\"115.329111\" y=\"57.067881\" style=\"fill: #1f77b4; stroke: #1f77b4\"/>\n     <use xlink:href=\"#m09b839bab9\" x=\"170.346284\" y=\"103.929162\" style=\"fill: #1f77b4; stroke: #1f77b4\"/>\n     <use xlink:href=\"#m09b839bab9\" x=\"93.659184\" y=\"24.250109\" style=\"fill: #1f77b4; stroke: #1f77b4\"/>\n     <use xlink:href=\"#m09b839bab9\" x=\"149.393979\" y=\"84.67635\" style=\"fill: #1f77b4; stroke: #1f77b4\"/>\n     <use xlink:href=\"#m09b839bab9\" x=\"130.677256\" y=\"51.090914\" style=\"fill: #1f77b4; stroke: #1f77b4\"/>\n     <use xlink:href=\"#m09b839bab9\" x=\"112.893315\" y=\"51.904817\" style=\"fill: #1f77b4; stroke: #1f77b4\"/>\n     <use xlink:href=\"#m09b839bab9\" x=\"174.858397\" y=\"94.481151\" style=\"fill: #1f77b4; stroke: #1f77b4\"/>\n     <use xlink:href=\"#m09b839bab9\" x=\"108.937728\" y=\"50.128557\" style=\"fill: #1f77b4; stroke: #1f77b4\"/>\n     <use xlink:href=\"#m09b839bab9\" x=\"118.555465\" y=\"81.447757\" style=\"fill: #1f77b4; stroke: #1f77b4\"/>\n     <use xlink:href=\"#m09b839bab9\" x=\"121.307491\" y=\"72.040109\" style=\"fill: #1f77b4; stroke: #1f77b4\"/>\n     <use xlink:href=\"#m09b839bab9\" x=\"96.587472\" y=\"40.881874\" style=\"fill: #1f77b4; stroke: #1f77b4\"/>\n     <use xlink:href=\"#m09b839bab9\" x=\"102.561603\" y=\"27.131593\" style=\"fill: #1f77b4; stroke: #1f77b4\"/>\n     <use xlink:href=\"#m09b839bab9\" x=\"107.473839\" y=\"59.559876\" style=\"fill: #1f77b4; stroke: #1f77b4\"/>\n     <use xlink:href=\"#m09b839bab9\" x=\"141.651793\" y=\"68.940328\" style=\"fill: #1f77b4; stroke: #1f77b4\"/>\n     <use xlink:href=\"#m09b839bab9\" x=\"104.33866\" y=\"41.4741\" style=\"fill: #1f77b4; stroke: #1f77b4\"/>\n     <use xlink:href=\"#m09b839bab9\" x=\"113.169778\" y=\"72.820241\" style=\"fill: #1f77b4; stroke: #1f77b4\"/>\n     <use xlink:href=\"#m09b839bab9\" x=\"132.015113\" y=\"77.72855\" style=\"fill: #1f77b4; stroke: #1f77b4\"/>\n     <use xlink:href=\"#m09b839bab9\" x=\"138.240883\" y=\"69.955613\" style=\"fill: #1f77b4; stroke: #1f77b4\"/>\n     <use xlink:href=\"#m09b839bab9\" x=\"155.853517\" y=\"62.176225\" style=\"fill: #1f77b4; stroke: #1f77b4\"/>\n     <use xlink:href=\"#m09b839bab9\" x=\"161.554291\" y=\"81.778961\" style=\"fill: #1f77b4; stroke: #1f77b4\"/>\n     <use xlink:href=\"#m09b839bab9\" x=\"177.532631\" y=\"105.999835\" style=\"fill: #1f77b4; stroke: #1f77b4\"/>\n     <use xlink:href=\"#m09b839bab9\" x=\"156.709632\" y=\"78.025902\" style=\"fill: #1f77b4; stroke: #1f77b4\"/>\n     <use xlink:href=\"#m09b839bab9\" x=\"170.639391\" y=\"106.785103\" style=\"fill: #1f77b4; stroke: #1f77b4\"/>\n     <use xlink:href=\"#m09b839bab9\" x=\"116.131611\" y=\"52.059013\" style=\"fill: #1f77b4; stroke: #1f77b4\"/>\n     <use xlink:href=\"#m09b839bab9\" x=\"156.804041\" y=\"88.292781\" style=\"fill: #1f77b4; stroke: #1f77b4\"/>\n     <use xlink:href=\"#m09b839bab9\" x=\"99.676452\" y=\"65.135968\" style=\"fill: #1f77b4; stroke: #1f77b4\"/>\n     <use xlink:href=\"#m09b839bab9\" x=\"132.48347\" y=\"84.339621\" style=\"fill: #1f77b4; stroke: #1f77b4\"/>\n     <use xlink:href=\"#m09b839bab9\" x=\"139.763878\" y=\"80.89603\" style=\"fill: #1f77b4; stroke: #1f77b4\"/>\n     <use xlink:href=\"#m09b839bab9\" x=\"164.297733\" y=\"99.473167\" style=\"fill: #1f77b4; stroke: #1f77b4\"/>\n     <use xlink:href=\"#m09b839bab9\" x=\"74.113619\" y=\"29.411783\" style=\"fill: #1f77b4; stroke: #1f77b4\"/>\n     <use xlink:href=\"#m09b839bab9\" x=\"168.394097\" y=\"90.651233\" style=\"fill: #1f77b4; stroke: #1f77b4\"/>\n     <use xlink:href=\"#m09b839bab9\" x=\"101.752938\" y=\"73.221101\" style=\"fill: #1f77b4; stroke: #1f77b4\"/>\n     <use xlink:href=\"#m09b839bab9\" x=\"159.347436\" y=\"84.249276\" style=\"fill: #1f77b4; stroke: #1f77b4\"/>\n     <use xlink:href=\"#m09b839bab9\" x=\"132.449926\" y=\"76.563516\" style=\"fill: #1f77b4; stroke: #1f77b4\"/>\n     <use xlink:href=\"#m09b839bab9\" x=\"104.940601\" y=\"48.172926\" style=\"fill: #1f77b4; stroke: #1f77b4\"/>\n     <use xlink:href=\"#m09b839bab9\" x=\"131.359134\" y=\"81.651571\" style=\"fill: #1f77b4; stroke: #1f77b4\"/>\n     <use xlink:href=\"#m09b839bab9\" x=\"107.910104\" y=\"60.490428\" style=\"fill: #1f77b4; stroke: #1f77b4\"/>\n     <use xlink:href=\"#m09b839bab9\" x=\"140.453828\" y=\"72.704002\" style=\"fill: #1f77b4; stroke: #1f77b4\"/>\n     <use xlink:href=\"#m09b839bab9\" x=\"162.229965\" y=\"74.087724\" style=\"fill: #1f77b4; stroke: #1f77b4\"/>\n     <use xlink:href=\"#m09b839bab9\" x=\"140.591603\" y=\"56.881061\" style=\"fill: #1f77b4; stroke: #1f77b4\"/>\n     <use xlink:href=\"#m09b839bab9\" x=\"102.077036\" y=\"58.085369\" style=\"fill: #1f77b4; stroke: #1f77b4\"/>\n     <use xlink:href=\"#m09b839bab9\" x=\"121.785246\" y=\"62.301411\" style=\"fill: #1f77b4; stroke: #1f77b4\"/>\n     <use xlink:href=\"#m09b839bab9\" x=\"167.11025\" y=\"81.67899\" style=\"fill: #1f77b4; stroke: #1f77b4\"/>\n     <use xlink:href=\"#m09b839bab9\" x=\"97.675171\" y=\"32.117874\" style=\"fill: #1f77b4; stroke: #1f77b4\"/>\n     <use xlink:href=\"#m09b839bab9\" x=\"128.157126\" y=\"75.105323\" style=\"fill: #1f77b4; stroke: #1f77b4\"/>\n     <use xlink:href=\"#m09b839bab9\" x=\"160.002652\" y=\"69.650621\" style=\"fill: #1f77b4; stroke: #1f77b4\"/>\n     <use xlink:href=\"#m09b839bab9\" x=\"141.949655\" y=\"64.734555\" style=\"fill: #1f77b4; stroke: #1f77b4\"/>\n     <use xlink:href=\"#m09b839bab9\" x=\"163.620083\" y=\"86.93423\" style=\"fill: #1f77b4; stroke: #1f77b4\"/>\n     <use xlink:href=\"#m09b839bab9\" x=\"146.250706\" y=\"78.12653\" style=\"fill: #1f77b4; stroke: #1f77b4\"/>\n     <use xlink:href=\"#m09b839bab9\" x=\"109.322217\" y=\"67.470641\" style=\"fill: #1f77b4; stroke: #1f77b4\"/>\n     <use xlink:href=\"#m09b839bab9\" x=\"142.766845\" y=\"80.143244\" style=\"fill: #1f77b4; stroke: #1f77b4\"/>\n     <use xlink:href=\"#m09b839bab9\" x=\"159.092429\" y=\"81.522276\" style=\"fill: #1f77b4; stroke: #1f77b4\"/>\n     <use xlink:href=\"#m09b839bab9\" x=\"129.980235\" y=\"71.06154\" style=\"fill: #1f77b4; stroke: #1f77b4\"/>\n     <use xlink:href=\"#m09b839bab9\" x=\"152.147666\" y=\"89.909334\" style=\"fill: #1f77b4; stroke: #1f77b4\"/>\n     <use xlink:href=\"#m09b839bab9\" x=\"94.293877\" y=\"43.61084\" style=\"fill: #1f77b4; stroke: #1f77b4\"/>\n     <use xlink:href=\"#m09b839bab9\" x=\"137.88903\" y=\"78.432308\" style=\"fill: #1f77b4; stroke: #1f77b4\"/>\n     <use xlink:href=\"#m09b839bab9\" x=\"103.513533\" y=\"64.967215\" style=\"fill: #1f77b4; stroke: #1f77b4\"/>\n     <use xlink:href=\"#m09b839bab9\" x=\"137.115352\" y=\"68.401544\" style=\"fill: #1f77b4; stroke: #1f77b4\"/>\n     <use xlink:href=\"#m09b839bab9\" x=\"117.207618\" y=\"62.445294\" style=\"fill: #1f77b4; stroke: #1f77b4\"/>\n     <use xlink:href=\"#m09b839bab9\" x=\"100.874004\" y=\"56.391773\" style=\"fill: #1f77b4; stroke: #1f77b4\"/>\n     <use xlink:href=\"#m09b839bab9\" x=\"157.695878\" y=\"100.03133\" style=\"fill: #1f77b4; stroke: #1f77b4\"/>\n     <use xlink:href=\"#m09b839bab9\" x=\"101.877934\" y=\"35.386563\" style=\"fill: #1f77b4; stroke: #1f77b4\"/>\n     <use xlink:href=\"#m09b839bab9\" x=\"113.117667\" y=\"58.603987\" style=\"fill: #1f77b4; stroke: #1f77b4\"/>\n     <use xlink:href=\"#m09b839bab9\" x=\"135.987572\" y=\"74.178913\" style=\"fill: #1f77b4; stroke: #1f77b4\"/>\n     <use xlink:href=\"#m09b839bab9\" x=\"156.705222\" y=\"90.080943\" style=\"fill: #1f77b4; stroke: #1f77b4\"/>\n     <use xlink:href=\"#m09b839bab9\" x=\"138.978099\" y=\"69.526191\" style=\"fill: #1f77b4; stroke: #1f77b4\"/>\n     <use xlink:href=\"#m09b839bab9\" x=\"182.196116\" y=\"93.729624\" style=\"fill: #1f77b4; stroke: #1f77b4\"/>\n     <use xlink:href=\"#m09b839bab9\" x=\"174.614554\" y=\"105.925737\" style=\"fill: #1f77b4; stroke: #1f77b4\"/>\n     <use xlink:href=\"#m09b839bab9\" x=\"158.304751\" y=\"85.018107\" style=\"fill: #1f77b4; stroke: #1f77b4\"/>\n     <use xlink:href=\"#m09b839bab9\" x=\"117.07432\" y=\"65.821508\" style=\"fill: #1f77b4; stroke: #1f77b4\"/>\n     <use xlink:href=\"#m09b839bab9\" x=\"93.415967\" y=\"66.43697\" style=\"fill: #1f77b4; stroke: #1f77b4\"/>\n     <use xlink:href=\"#m09b839bab9\" x=\"189.587372\" y=\"102.840111\" style=\"fill: #1f77b4; stroke: #1f77b4\"/>\n     <use xlink:href=\"#m09b839bab9\" x=\"138.52666\" y=\"64.222238\" style=\"fill: #1f77b4; stroke: #1f77b4\"/>\n     <use xlink:href=\"#m09b839bab9\" x=\"162.894572\" y=\"94.398186\" style=\"fill: #1f77b4; stroke: #1f77b4\"/>\n     <use xlink:href=\"#m09b839bab9\" x=\"132.38225\" y=\"57.760169\" style=\"fill: #1f77b4; stroke: #1f77b4\"/>\n     <use xlink:href=\"#m09b839bab9\" x=\"161.238288\" y=\"85.784055\" style=\"fill: #1f77b4; stroke: #1f77b4\"/>\n     <use xlink:href=\"#m09b839bab9\" x=\"137.430603\" y=\"70.885818\" style=\"fill: #1f77b4; stroke: #1f77b4\"/>\n     <use xlink:href=\"#m09b839bab9\" x=\"177.463013\" y=\"112.392761\" style=\"fill: #1f77b4; stroke: #1f77b4\"/>\n     <use xlink:href=\"#m09b839bab9\" x=\"119.791055\" y=\"68.788628\" style=\"fill: #1f77b4; stroke: #1f77b4\"/>\n     <use xlink:href=\"#m09b839bab9\" x=\"133.411585\" y=\"81.714444\" style=\"fill: #1f77b4; stroke: #1f77b4\"/>\n     <use xlink:href=\"#m09b839bab9\" x=\"110.208287\" y=\"57.134005\" style=\"fill: #1f77b4; stroke: #1f77b4\"/>\n     <use xlink:href=\"#m09b839bab9\" x=\"90.94788\" y=\"45.171494\" style=\"fill: #1f77b4; stroke: #1f77b4\"/>\n     <use xlink:href=\"#m09b839bab9\" x=\"136.019176\" y=\"86.549255\" style=\"fill: #1f77b4; stroke: #1f77b4\"/>\n     <use xlink:href=\"#m09b839bab9\" x=\"180.90393\" y=\"107.383789\" style=\"fill: #1f77b4; stroke: #1f77b4\"/>\n     <use xlink:href=\"#m09b839bab9\" x=\"173.650749\" y=\"102.43866\" style=\"fill: #1f77b4; stroke: #1f77b4\"/>\n     <use xlink:href=\"#m09b839bab9\" x=\"133.686336\" y=\"63.807516\" style=\"fill: #1f77b4; stroke: #1f77b4\"/>\n     <use xlink:href=\"#m09b839bab9\" x=\"134.420427\" y=\"75.824915\" style=\"fill: #1f77b4; stroke: #1f77b4\"/>\n     <use xlink:href=\"#m09b839bab9\" x=\"91.582313\" y=\"34.423892\" style=\"fill: #1f77b4; stroke: #1f77b4\"/>\n     <use xlink:href=\"#m09b839bab9\" x=\"149.380028\" y=\"78.224016\" style=\"fill: #1f77b4; stroke: #1f77b4\"/>\n     <use xlink:href=\"#m09b839bab9\" x=\"109.217806\" y=\"48.943021\" style=\"fill: #1f77b4; stroke: #1f77b4\"/>\n     <use xlink:href=\"#m09b839bab9\" x=\"172.242009\" y=\"87.910251\" style=\"fill: #1f77b4; stroke: #1f77b4\"/>\n     <use xlink:href=\"#m09b839bab9\" x=\"142.739757\" y=\"63.066094\" style=\"fill: #1f77b4; stroke: #1f77b4\"/>\n     <use xlink:href=\"#m09b839bab9\" x=\"165.283842\" y=\"89.393417\" style=\"fill: #1f77b4; stroke: #1f77b4\"/>\n     <use xlink:href=\"#m09b839bab9\" x=\"120.676496\" y=\"55.352118\" style=\"fill: #1f77b4; stroke: #1f77b4\"/>\n     <use xlink:href=\"#m09b839bab9\" x=\"132.073804\" y=\"68.395367\" style=\"fill: #1f77b4; stroke: #1f77b4\"/>\n     <use xlink:href=\"#m09b839bab9\" x=\"158.580901\" y=\"84.097637\" style=\"fill: #1f77b4; stroke: #1f77b4\"/>\n     <use xlink:href=\"#m09b839bab9\" x=\"193.053525\" y=\"114.724612\" style=\"fill: #1f77b4; stroke: #1f77b4\"/>\n     <use xlink:href=\"#m09b839bab9\" x=\"131.486495\" y=\"75.570627\" style=\"fill: #1f77b4; stroke: #1f77b4\"/>\n     <use xlink:href=\"#m09b839bab9\" x=\"98.446071\" y=\"30.557648\" style=\"fill: #1f77b4; stroke: #1f77b4\"/>\n     <use xlink:href=\"#m09b839bab9\" x=\"134.738772\" y=\"65.650783\" style=\"fill: #1f77b4; stroke: #1f77b4\"/>\n     <use xlink:href=\"#m09b839bab9\" x=\"111.75597\" y=\"75.097644\" style=\"fill: #1f77b4; stroke: #1f77b4\"/>\n     <use xlink:href=\"#m09b839bab9\" x=\"121.428253\" y=\"63.60482\" style=\"fill: #1f77b4; stroke: #1f77b4\"/>\n     <use xlink:href=\"#m09b839bab9\" x=\"131.654555\" y=\"54.501907\" style=\"fill: #1f77b4; stroke: #1f77b4\"/>\n     <use xlink:href=\"#m09b839bab9\" x=\"128.680502\" y=\"68.442633\" style=\"fill: #1f77b4; stroke: #1f77b4\"/>\n     <use xlink:href=\"#m09b839bab9\" x=\"96.345483\" y=\"38.784908\" style=\"fill: #1f77b4; stroke: #1f77b4\"/>\n     <use xlink:href=\"#m09b839bab9\" x=\"118.076816\" y=\"60.29016\" style=\"fill: #1f77b4; stroke: #1f77b4\"/>\n     <use xlink:href=\"#m09b839bab9\" x=\"133.30126\" y=\"59.135728\" style=\"fill: #1f77b4; stroke: #1f77b4\"/>\n     <use xlink:href=\"#m09b839bab9\" x=\"88.677554\" y=\"40.925466\" style=\"fill: #1f77b4; stroke: #1f77b4\"/>\n     <use xlink:href=\"#m09b839bab9\" x=\"114.485218\" y=\"58.030011\" style=\"fill: #1f77b4; stroke: #1f77b4\"/>\n     <use xlink:href=\"#m09b839bab9\" x=\"145.935278\" y=\"69.264729\" style=\"fill: #1f77b4; stroke: #1f77b4\"/>\n     <use xlink:href=\"#m09b839bab9\" x=\"116.362137\" y=\"51.549794\" style=\"fill: #1f77b4; stroke: #1f77b4\"/>\n     <use xlink:href=\"#m09b839bab9\" x=\"132.805826\" y=\"73.132226\" style=\"fill: #1f77b4; stroke: #1f77b4\"/>\n     <use xlink:href=\"#m09b839bab9\" x=\"130.257322\" y=\"81.790233\" style=\"fill: #1f77b4; stroke: #1f77b4\"/>\n     <use xlink:href=\"#m09b839bab9\" x=\"132.783464\" y=\"66.097942\" style=\"fill: #1f77b4; stroke: #1f77b4\"/>\n     <use xlink:href=\"#m09b839bab9\" x=\"97.078528\" y=\"56.07773\" style=\"fill: #1f77b4; stroke: #1f77b4\"/>\n     <use xlink:href=\"#m09b839bab9\" x=\"158.160503\" y=\"77.055115\" style=\"fill: #1f77b4; stroke: #1f77b4\"/>\n     <use xlink:href=\"#m09b839bab9\" x=\"98.749023\" y=\"55.471683\" style=\"fill: #1f77b4; stroke: #1f77b4\"/>\n     <use xlink:href=\"#m09b839bab9\" x=\"136.193179\" y=\"74.193284\" style=\"fill: #1f77b4; stroke: #1f77b4\"/>\n     <use xlink:href=\"#m09b839bab9\" x=\"146.988153\" y=\"76.397825\" style=\"fill: #1f77b4; stroke: #1f77b4\"/>\n     <use xlink:href=\"#m09b839bab9\" x=\"145.494643\" y=\"71.249991\" style=\"fill: #1f77b4; stroke: #1f77b4\"/>\n     <use xlink:href=\"#m09b839bab9\" x=\"143.683109\" y=\"82.105997\" style=\"fill: #1f77b4; stroke: #1f77b4\"/>\n     <use xlink:href=\"#m09b839bab9\" x=\"111.453666\" y=\"76.986137\" style=\"fill: #1f77b4; stroke: #1f77b4\"/>\n     <use xlink:href=\"#m09b839bab9\" x=\"131.203269\" y=\"75.614789\" style=\"fill: #1f77b4; stroke: #1f77b4\"/>\n     <use xlink:href=\"#m09b839bab9\" x=\"139.292783\" y=\"77.337062\" style=\"fill: #1f77b4; stroke: #1f77b4\"/>\n     <use xlink:href=\"#m09b839bab9\" x=\"150.977845\" y=\"61.117978\" style=\"fill: #1f77b4; stroke: #1f77b4\"/>\n     <use xlink:href=\"#m09b839bab9\" x=\"124.74074\" y=\"82.282724\" style=\"fill: #1f77b4; stroke: #1f77b4\"/>\n     <use xlink:href=\"#m09b839bab9\" x=\"137.533852\" y=\"84.278255\" style=\"fill: #1f77b4; stroke: #1f77b4\"/>\n     <use xlink:href=\"#m09b839bab9\" x=\"158.473268\" y=\"84.89371\" style=\"fill: #1f77b4; stroke: #1f77b4\"/>\n     <use xlink:href=\"#m09b839bab9\" x=\"113.261348\" y=\"70.618333\" style=\"fill: #1f77b4; stroke: #1f77b4\"/>\n     <use xlink:href=\"#m09b839bab9\" x=\"156.230688\" y=\"80.445164\" style=\"fill: #1f77b4; stroke: #1f77b4\"/>\n     <use xlink:href=\"#m09b839bab9\" x=\"91.416906\" y=\"36.535313\" style=\"fill: #1f77b4; stroke: #1f77b4\"/>\n     <use xlink:href=\"#m09b839bab9\" x=\"143.378623\" y=\"84.782517\" style=\"fill: #1f77b4; stroke: #1f77b4\"/>\n     <use xlink:href=\"#m09b839bab9\" x=\"128.770798\" y=\"48.951612\" style=\"fill: #1f77b4; stroke: #1f77b4\"/>\n     <use xlink:href=\"#m09b839bab9\" x=\"164.514019\" y=\"86.003334\" style=\"fill: #1f77b4; stroke: #1f77b4\"/>\n     <use xlink:href=\"#m09b839bab9\" x=\"161.556148\" y=\"74.048809\" style=\"fill: #1f77b4; stroke: #1f77b4\"/>\n     <use xlink:href=\"#m09b839bab9\" x=\"156.759243\" y=\"77.510029\" style=\"fill: #1f77b4; stroke: #1f77b4\"/>\n     <use xlink:href=\"#m09b839bab9\" x=\"131.546316\" y=\"56.964521\" style=\"fill: #1f77b4; stroke: #1f77b4\"/>\n     <use xlink:href=\"#m09b839bab9\" x=\"117.069027\" y=\"62.866717\" style=\"fill: #1f77b4; stroke: #1f77b4\"/>\n     <use xlink:href=\"#m09b839bab9\" x=\"122.03636\" y=\"68.010308\" style=\"fill: #1f77b4; stroke: #1f77b4\"/>\n     <use xlink:href=\"#m09b839bab9\" x=\"126.49158\" y=\"46.617299\" style=\"fill: #1f77b4; stroke: #1f77b4\"/>\n     <use xlink:href=\"#m09b839bab9\" x=\"113.746415\" y=\"62.87264\" style=\"fill: #1f77b4; stroke: #1f77b4\"/>\n     <use xlink:href=\"#m09b839bab9\" x=\"129.341677\" y=\"66.155342\" style=\"fill: #1f77b4; stroke: #1f77b4\"/>\n     <use xlink:href=\"#m09b839bab9\" x=\"165.006192\" y=\"85.165985\" style=\"fill: #1f77b4; stroke: #1f77b4\"/>\n     <use xlink:href=\"#m09b839bab9\" x=\"154.205615\" y=\"78.351735\" style=\"fill: #1f77b4; stroke: #1f77b4\"/>\n     <use xlink:href=\"#m09b839bab9\" x=\"112.791374\" y=\"55.314901\" style=\"fill: #1f77b4; stroke: #1f77b4\"/>\n     <use xlink:href=\"#m09b839bab9\" x=\"105.172808\" y=\"55.708709\" style=\"fill: #1f77b4; stroke: #1f77b4\"/>\n     <use xlink:href=\"#m09b839bab9\" x=\"140.751593\" y=\"74.572595\" style=\"fill: #1f77b4; stroke: #1f77b4\"/>\n     <use xlink:href=\"#m09b839bab9\" x=\"142.601982\" y=\"75.450595\" style=\"fill: #1f77b4; stroke: #1f77b4\"/>\n     <use xlink:href=\"#m09b839bab9\" x=\"111.84826\" y=\"49.513091\" style=\"fill: #1f77b4; stroke: #1f77b4\"/>\n     <use xlink:href=\"#m09b839bab9\" x=\"100.1775\" y=\"38.403968\" style=\"fill: #1f77b4; stroke: #1f77b4\"/>\n     <use xlink:href=\"#m09b839bab9\" x=\"131.651892\" y=\"63.677233\" style=\"fill: #1f77b4; stroke: #1f77b4\"/>\n     <use xlink:href=\"#m09b839bab9\" x=\"111.591528\" y=\"64.778207\" style=\"fill: #1f77b4; stroke: #1f77b4\"/>\n     <use xlink:href=\"#m09b839bab9\" x=\"145.527494\" y=\"80.440824\" style=\"fill: #1f77b4; stroke: #1f77b4\"/>\n     <use xlink:href=\"#m09b839bab9\" x=\"137.989573\" y=\"66.165484\" style=\"fill: #1f77b4; stroke: #1f77b4\"/>\n     <use xlink:href=\"#m09b839bab9\" x=\"123.249431\" y=\"68.545749\" style=\"fill: #1f77b4; stroke: #1f77b4\"/>\n     <use xlink:href=\"#m09b839bab9\" x=\"115.722924\" y=\"68.728922\" style=\"fill: #1f77b4; stroke: #1f77b4\"/>\n     <use xlink:href=\"#m09b839bab9\" x=\"130.282921\" y=\"61.586681\" style=\"fill: #1f77b4; stroke: #1f77b4\"/>\n     <use xlink:href=\"#m09b839bab9\" x=\"141.530587\" y=\"58.322958\" style=\"fill: #1f77b4; stroke: #1f77b4\"/>\n     <use xlink:href=\"#m09b839bab9\" x=\"93.608292\" y=\"57.479178\" style=\"fill: #1f77b4; stroke: #1f77b4\"/>\n     <use xlink:href=\"#m09b839bab9\" x=\"124.002011\" y=\"86.575896\" style=\"fill: #1f77b4; stroke: #1f77b4\"/>\n     <use xlink:href=\"#m09b839bab9\" x=\"142.741774\" y=\"83.571943\" style=\"fill: #1f77b4; stroke: #1f77b4\"/>\n     <use xlink:href=\"#m09b839bab9\" x=\"126.237238\" y=\"67.764331\" style=\"fill: #1f77b4; stroke: #1f77b4\"/>\n     <use xlink:href=\"#m09b839bab9\" x=\"145.336419\" y=\"61.762923\" style=\"fill: #1f77b4; stroke: #1f77b4\"/>\n     <use xlink:href=\"#m09b839bab9\" x=\"103.749701\" y=\"64.516944\" style=\"fill: #1f77b4; stroke: #1f77b4\"/>\n     <use xlink:href=\"#m09b839bab9\" x=\"80.971534\" y=\"49.960027\" style=\"fill: #1f77b4; stroke: #1f77b4\"/>\n     <use xlink:href=\"#m09b839bab9\" x=\"98.334571\" y=\"49.010659\" style=\"fill: #1f77b4; stroke: #1f77b4\"/>\n     <use xlink:href=\"#m09b839bab9\" x=\"123.606085\" y=\"75.312915\" style=\"fill: #1f77b4; stroke: #1f77b4\"/>\n     <use xlink:href=\"#m09b839bab9\" x=\"95.548974\" y=\"54.458462\" style=\"fill: #1f77b4; stroke: #1f77b4\"/>\n     <use xlink:href=\"#m09b839bab9\" x=\"127.457629\" y=\"76.862012\" style=\"fill: #1f77b4; stroke: #1f77b4\"/>\n     <use xlink:href=\"#m09b839bab9\" x=\"177.885178\" y=\"89.881343\" style=\"fill: #1f77b4; stroke: #1f77b4\"/>\n     <use xlink:href=\"#m09b839bab9\" x=\"137.390725\" y=\"86.684571\" style=\"fill: #1f77b4; stroke: #1f77b4\"/>\n     <use xlink:href=\"#m09b839bab9\" x=\"143.597477\" y=\"69.290283\" style=\"fill: #1f77b4; stroke: #1f77b4\"/>\n     <use xlink:href=\"#m09b839bab9\" x=\"136.650364\" y=\"67.083031\" style=\"fill: #1f77b4; stroke: #1f77b4\"/>\n     <use xlink:href=\"#m09b839bab9\" x=\"127.971519\" y=\"58.936862\" style=\"fill: #1f77b4; stroke: #1f77b4\"/>\n     <use xlink:href=\"#m09b839bab9\" x=\"161.873438\" y=\"90.290511\" style=\"fill: #1f77b4; stroke: #1f77b4\"/>\n     <use xlink:href=\"#m09b839bab9\" x=\"139.443124\" y=\"79.22902\" style=\"fill: #1f77b4; stroke: #1f77b4\"/>\n     <use xlink:href=\"#m09b839bab9\" x=\"136.970308\" y=\"70.903179\" style=\"fill: #1f77b4; stroke: #1f77b4\"/>\n     <use xlink:href=\"#m09b839bab9\" x=\"168.232497\" y=\"107.675692\" style=\"fill: #1f77b4; stroke: #1f77b4\"/>\n     <use xlink:href=\"#m09b839bab9\" x=\"75.004004\" y=\"13.5\" style=\"fill: #1f77b4; stroke: #1f77b4\"/>\n     <use xlink:href=\"#m09b839bab9\" x=\"146.93752\" y=\"82.712079\" style=\"fill: #1f77b4; stroke: #1f77b4\"/>\n     <use xlink:href=\"#m09b839bab9\" x=\"137.910752\" y=\"69.597917\" style=\"fill: #1f77b4; stroke: #1f77b4\"/>\n     <use xlink:href=\"#m09b839bab9\" x=\"170.681389\" y=\"92.95729\" style=\"fill: #1f77b4; stroke: #1f77b4\"/>\n     <use xlink:href=\"#m09b839bab9\" x=\"116.969568\" y=\"65.782932\" style=\"fill: #1f77b4; stroke: #1f77b4\"/>\n     <use xlink:href=\"#m09b839bab9\" x=\"86.681984\" y=\"54.646054\" style=\"fill: #1f77b4; stroke: #1f77b4\"/>\n     <use xlink:href=\"#m09b839bab9\" x=\"98.272857\" y=\"63.589088\" style=\"fill: #1f77b4; stroke: #1f77b4\"/>\n     <use xlink:href=\"#m09b839bab9\" x=\"141.349928\" y=\"66.199321\" style=\"fill: #1f77b4; stroke: #1f77b4\"/>\n     <use xlink:href=\"#m09b839bab9\" x=\"130.917201\" y=\"77.162241\" style=\"fill: #1f77b4; stroke: #1f77b4\"/>\n     <use xlink:href=\"#m09b839bab9\" x=\"221.727415\" y=\"119.855939\" style=\"fill: #1f77b4; stroke: #1f77b4\"/>\n     <use xlink:href=\"#m09b839bab9\" x=\"132.597607\" y=\"70.693028\" style=\"fill: #1f77b4; stroke: #1f77b4\"/>\n     <use xlink:href=\"#m09b839bab9\" x=\"99.717587\" y=\"47.643644\" style=\"fill: #1f77b4; stroke: #1f77b4\"/>\n     <use xlink:href=\"#m09b839bab9\" x=\"162.863149\" y=\"88.000554\" style=\"fill: #1f77b4; stroke: #1f77b4\"/>\n     <use xlink:href=\"#m09b839bab9\" x=\"89.446957\" y=\"52.708062\" style=\"fill: #1f77b4; stroke: #1f77b4\"/>\n     <use xlink:href=\"#m09b839bab9\" x=\"179.367478\" y=\"95.961558\" style=\"fill: #1f77b4; stroke: #1f77b4\"/>\n     <use xlink:href=\"#m09b839bab9\" x=\"130.460092\" y=\"76.577818\" style=\"fill: #1f77b4; stroke: #1f77b4\"/>\n     <use xlink:href=\"#m09b839bab9\" x=\"119.483058\" y=\"71.721067\" style=\"fill: #1f77b4; stroke: #1f77b4\"/>\n     <use xlink:href=\"#m09b839bab9\" x=\"132.238396\" y=\"58.040945\" style=\"fill: #1f77b4; stroke: #1f77b4\"/>\n     <use xlink:href=\"#m09b839bab9\" x=\"82.179588\" y=\"45.32114\" style=\"fill: #1f77b4; stroke: #1f77b4\"/>\n     <use xlink:href=\"#m09b839bab9\" x=\"127.666501\" y=\"61.607154\" style=\"fill: #1f77b4; stroke: #1f77b4\"/>\n     <use xlink:href=\"#m09b839bab9\" x=\"117.719122\" y=\"47.113619\" style=\"fill: #1f77b4; stroke: #1f77b4\"/>\n     <use xlink:href=\"#m09b839bab9\" x=\"151.072589\" y=\"96.412888\" style=\"fill: #1f77b4; stroke: #1f77b4\"/>\n     <use xlink:href=\"#m09b839bab9\" x=\"166.081807\" y=\"76.913604\" style=\"fill: #1f77b4; stroke: #1f77b4\"/>\n     <use xlink:href=\"#m09b839bab9\" x=\"140.112954\" y=\"75.223049\" style=\"fill: #1f77b4; stroke: #1f77b4\"/>\n     <use xlink:href=\"#m09b839bab9\" x=\"135.246928\" y=\"77.064857\" style=\"fill: #1f77b4; stroke: #1f77b4\"/>\n     <use xlink:href=\"#m09b839bab9\" x=\"105.85167\" y=\"51.710338\" style=\"fill: #1f77b4; stroke: #1f77b4\"/>\n     <use xlink:href=\"#m09b839bab9\" x=\"173.251948\" y=\"97.806991\" style=\"fill: #1f77b4; stroke: #1f77b4\"/>\n     <use xlink:href=\"#m09b839bab9\" x=\"86.35239\" y=\"49.160971\" style=\"fill: #1f77b4; stroke: #1f77b4\"/>\n     <use xlink:href=\"#m09b839bab9\" x=\"114.318485\" y=\"53.720788\" style=\"fill: #1f77b4; stroke: #1f77b4\"/>\n     <use xlink:href=\"#m09b839bab9\" x=\"102.773083\" y=\"66.591112\" style=\"fill: #1f77b4; stroke: #1f77b4\"/>\n     <use xlink:href=\"#m09b839bab9\" x=\"100.375709\" y=\"48.452412\" style=\"fill: #1f77b4; stroke: #1f77b4\"/>\n     <use xlink:href=\"#m09b839bab9\" x=\"94.835113\" y=\"44.148547\" style=\"fill: #1f77b4; stroke: #1f77b4\"/>\n    </g>\n   </g>\n   <g id=\"matplotlib.axis_1\">\n    <g id=\"xtick_1\">\n     <g id=\"line2d_1\">\n      <defs>\n       <path id=\"m30526e5edf\" d=\"M 0 0 \nL 0 3.5 \n\" style=\"stroke: #000000; stroke-width: 0.8\"/>\n      </defs>\n      <g>\n       <use xlink:href=\"#m30526e5edf\" x=\"79.223706\" y=\"145.8\" style=\"stroke: #000000; stroke-width: 0.8\"/>\n      </g>\n     </g>\n     <g id=\"text_1\">\n      <!-- −2 -->\n      <g transform=\"translate(71.852612 160.398438) scale(0.1 -0.1)\">\n       <defs>\n        <path id=\"DejaVuSans-2212\" d=\"M 678 2272 \nL 4684 2272 \nL 4684 1741 \nL 678 1741 \nL 678 2272 \nz\n\" transform=\"scale(0.015625)\"/>\n        <path id=\"DejaVuSans-32\" d=\"M 1228 531 \nL 3431 531 \nL 3431 0 \nL 469 0 \nL 469 531 \nQ 828 903 1448 1529 \nQ 2069 2156 2228 2338 \nQ 2531 2678 2651 2914 \nQ 2772 3150 2772 3378 \nQ 2772 3750 2511 3984 \nQ 2250 4219 1831 4219 \nQ 1534 4219 1204 4116 \nQ 875 4013 500 3803 \nL 500 4441 \nQ 881 4594 1212 4672 \nQ 1544 4750 1819 4750 \nQ 2544 4750 2975 4387 \nQ 3406 4025 3406 3419 \nQ 3406 3131 3298 2873 \nQ 3191 2616 2906 2266 \nQ 2828 2175 2409 1742 \nQ 1991 1309 1228 531 \nz\n\" transform=\"scale(0.015625)\"/>\n       </defs>\n       <use xlink:href=\"#DejaVuSans-2212\"/>\n       <use xlink:href=\"#DejaVuSans-32\" x=\"83.789062\"/>\n      </g>\n     </g>\n    </g>\n    <g id=\"xtick_2\">\n     <g id=\"line2d_2\">\n      <g>\n       <use xlink:href=\"#m30526e5edf\" x=\"131.760061\" y=\"145.8\" style=\"stroke: #000000; stroke-width: 0.8\"/>\n      </g>\n     </g>\n     <g id=\"text_2\">\n      <!-- 0 -->\n      <g transform=\"translate(128.578811 160.398438) scale(0.1 -0.1)\">\n       <defs>\n        <path id=\"DejaVuSans-30\" d=\"M 2034 4250 \nQ 1547 4250 1301 3770 \nQ 1056 3291 1056 2328 \nQ 1056 1369 1301 889 \nQ 1547 409 2034 409 \nQ 2525 409 2770 889 \nQ 3016 1369 3016 2328 \nQ 3016 3291 2770 3770 \nQ 2525 4250 2034 4250 \nz\nM 2034 4750 \nQ 2819 4750 3233 4129 \nQ 3647 3509 3647 2328 \nQ 3647 1150 3233 529 \nQ 2819 -91 2034 -91 \nQ 1250 -91 836 529 \nQ 422 1150 422 2328 \nQ 422 3509 836 4129 \nQ 1250 4750 2034 4750 \nz\n\" transform=\"scale(0.015625)\"/>\n       </defs>\n       <use xlink:href=\"#DejaVuSans-30\"/>\n      </g>\n     </g>\n    </g>\n    <g id=\"xtick_3\">\n     <g id=\"line2d_3\">\n      <g>\n       <use xlink:href=\"#m30526e5edf\" x=\"184.296415\" y=\"145.8\" style=\"stroke: #000000; stroke-width: 0.8\"/>\n      </g>\n     </g>\n     <g id=\"text_3\">\n      <!-- 2 -->\n      <g transform=\"translate(181.115165 160.398438) scale(0.1 -0.1)\">\n       <use xlink:href=\"#DejaVuSans-32\"/>\n      </g>\n     </g>\n    </g>\n   </g>\n   <g id=\"matplotlib.axis_2\">\n    <g id=\"ytick_1\">\n     <g id=\"line2d_4\">\n      <defs>\n       <path id=\"m83013c46dc\" d=\"M 0 0 \nL -3.5 0 \n\" style=\"stroke: #000000; stroke-width: 0.8\"/>\n      </defs>\n      <g>\n       <use xlink:href=\"#m83013c46dc\" x=\"35.304688\" y=\"136.460368\" style=\"stroke: #000000; stroke-width: 0.8\"/>\n      </g>\n     </g>\n     <g id=\"text_4\">\n      <!-- −10 -->\n      <g transform=\"translate(7.2 140.259587) scale(0.1 -0.1)\">\n       <defs>\n        <path id=\"DejaVuSans-31\" d=\"M 794 531 \nL 1825 531 \nL 1825 4091 \nL 703 3866 \nL 703 4441 \nL 1819 4666 \nL 2450 4666 \nL 2450 531 \nL 3481 531 \nL 3481 0 \nL 794 0 \nL 794 531 \nz\n\" transform=\"scale(0.015625)\"/>\n       </defs>\n       <use xlink:href=\"#DejaVuSans-2212\"/>\n       <use xlink:href=\"#DejaVuSans-31\" x=\"83.789062\"/>\n       <use xlink:href=\"#DejaVuSans-30\" x=\"147.412109\"/>\n      </g>\n     </g>\n    </g>\n    <g id=\"ytick_2\">\n     <g id=\"line2d_5\">\n      <g>\n       <use xlink:href=\"#m83013c46dc\" x=\"35.304688\" y=\"112.86476\" style=\"stroke: #000000; stroke-width: 0.8\"/>\n      </g>\n     </g>\n     <g id=\"text_5\">\n      <!-- −5 -->\n      <g transform=\"translate(13.5625 116.663979) scale(0.1 -0.1)\">\n       <defs>\n        <path id=\"DejaVuSans-35\" d=\"M 691 4666 \nL 3169 4666 \nL 3169 4134 \nL 1269 4134 \nL 1269 2991 \nQ 1406 3038 1543 3061 \nQ 1681 3084 1819 3084 \nQ 2600 3084 3056 2656 \nQ 3513 2228 3513 1497 \nQ 3513 744 3044 326 \nQ 2575 -91 1722 -91 \nQ 1428 -91 1123 -41 \nQ 819 9 494 109 \nL 494 744 \nQ 775 591 1075 516 \nQ 1375 441 1709 441 \nQ 2250 441 2565 725 \nQ 2881 1009 2881 1497 \nQ 2881 1984 2565 2268 \nQ 2250 2553 1709 2553 \nQ 1456 2553 1204 2497 \nQ 953 2441 691 2322 \nL 691 4666 \nz\n\" transform=\"scale(0.015625)\"/>\n       </defs>\n       <use xlink:href=\"#DejaVuSans-2212\"/>\n       <use xlink:href=\"#DejaVuSans-35\" x=\"83.789062\"/>\n      </g>\n     </g>\n    </g>\n    <g id=\"ytick_3\">\n     <g id=\"line2d_6\">\n      <g>\n       <use xlink:href=\"#m83013c46dc\" x=\"35.304688\" y=\"89.269152\" style=\"stroke: #000000; stroke-width: 0.8\"/>\n      </g>\n     </g>\n     <g id=\"text_6\">\n      <!-- 0 -->\n      <g transform=\"translate(21.942187 93.068371) scale(0.1 -0.1)\">\n       <use xlink:href=\"#DejaVuSans-30\"/>\n      </g>\n     </g>\n    </g>\n    <g id=\"ytick_4\">\n     <g id=\"line2d_7\">\n      <g>\n       <use xlink:href=\"#m83013c46dc\" x=\"35.304688\" y=\"65.673545\" style=\"stroke: #000000; stroke-width: 0.8\"/>\n      </g>\n     </g>\n     <g id=\"text_7\">\n      <!-- 5 -->\n      <g transform=\"translate(21.942187 69.472763) scale(0.1 -0.1)\">\n       <use xlink:href=\"#DejaVuSans-35\"/>\n      </g>\n     </g>\n    </g>\n    <g id=\"ytick_5\">\n     <g id=\"line2d_8\">\n      <g>\n       <use xlink:href=\"#m83013c46dc\" x=\"35.304688\" y=\"42.077937\" style=\"stroke: #000000; stroke-width: 0.8\"/>\n      </g>\n     </g>\n     <g id=\"text_8\">\n      <!-- 10 -->\n      <g transform=\"translate(15.579687 45.877156) scale(0.1 -0.1)\">\n       <use xlink:href=\"#DejaVuSans-31\"/>\n       <use xlink:href=\"#DejaVuSans-30\" x=\"63.623047\"/>\n      </g>\n     </g>\n    </g>\n    <g id=\"ytick_6\">\n     <g id=\"line2d_9\">\n      <g>\n       <use xlink:href=\"#m83013c46dc\" x=\"35.304688\" y=\"18.482329\" style=\"stroke: #000000; stroke-width: 0.8\"/>\n      </g>\n     </g>\n     <g id=\"text_9\">\n      <!-- 15 -->\n      <g transform=\"translate(15.579687 22.281548) scale(0.1 -0.1)\">\n       <use xlink:href=\"#DejaVuSans-31\"/>\n       <use xlink:href=\"#DejaVuSans-35\" x=\"63.623047\"/>\n      </g>\n     </g>\n    </g>\n   </g>\n   <g id=\"patch_3\">\n    <path d=\"M 35.304688 145.8 \nL 35.304688 7.2 \n\" style=\"fill: none; stroke: #000000; stroke-width: 0.8; stroke-linejoin: miter; stroke-linecap: square\"/>\n   </g>\n   <g id=\"patch_4\">\n    <path d=\"M 230.604688 145.8 \nL 230.604688 7.2 \n\" style=\"fill: none; stroke: #000000; stroke-width: 0.8; stroke-linejoin: miter; stroke-linecap: square\"/>\n   </g>\n   <g id=\"patch_5\">\n    <path d=\"M 35.304688 145.8 \nL 230.604688 145.8 \n\" style=\"fill: none; stroke: #000000; stroke-width: 0.8; stroke-linejoin: miter; stroke-linecap: square\"/>\n   </g>\n   <g id=\"patch_6\">\n    <path d=\"M 35.304688 7.2 \nL 230.604688 7.2 \n\" style=\"fill: none; stroke: #000000; stroke-width: 0.8; stroke-linejoin: miter; stroke-linecap: square\"/>\n   </g>\n  </g>\n </g>\n <defs>\n  <clipPath id=\"pa8af1c6a05\">\n   <rect x=\"35.304688\" y=\"7.2\" width=\"195.3\" height=\"138.6\"/>\n  </clipPath>\n </defs>\n</svg>\n"
          },
          "metadata": {}
        }
      ]
    },
    {
      "cell_type": "code",
      "source": [
        "def data_iter(batch_size, features, labels):\n",
        "    num_examples = len(features)\n",
        "    indices = list(range(num_examples))\n",
        "    random.shuffle(indices)\n",
        "    for i in range(0, num_examples, batch_size):\n",
        "        batch_indices = torch.tensor(indices[i:min(i +\n",
        "                                                   batch_size, num_examples)])\n",
        "        yield features[batch_indices], labels[batch_indices]\n",
        "\n",
        "batch_size = 10\n",
        "\n",
        "for X, y in data_iter(batch_size, features, labels):\n",
        "    print(X, '\\n', y)\n",
        "    break"
      ],
      "metadata": {
        "id": "uWTVifB7FYqA",
        "outputId": "f1074011-b778-45af-f340-df266ce86759",
        "colab": {
          "base_uri": "https://localhost:8080/"
        }
      },
      "id": "uWTVifB7FYqA",
      "execution_count": 146,
      "outputs": [
        {
          "output_type": "stream",
          "name": "stdout",
          "text": [
            "tensor([[-2.3806, -1.4293],\n",
            "        [ 0.6080, -0.0041],\n",
            "        [-1.2229, -0.1773],\n",
            "        [ 0.4779, -1.1240],\n",
            "        [ 0.0722, -0.5720],\n",
            "        [ 0.0989, -0.1873],\n",
            "        [ 1.3574, -0.6328],\n",
            "        [-0.9636,  0.7571],\n",
            "        [-0.4980,  0.1013],\n",
            "        [-2.3205, -0.2953]]) \n",
            " tensor([[ 4.3005],\n",
            "        [ 5.4230],\n",
            "        [ 2.3517],\n",
            "        [ 8.9753],\n",
            "        [ 6.2915],\n",
            "        [ 5.0464],\n",
            "        [ 9.0746],\n",
            "        [-0.3200],\n",
            "        [ 2.8489],\n",
            "        [ 0.5707]])\n"
          ]
        }
      ]
    },
    {
      "cell_type": "code",
      "source": [
        "w = torch.normal(0, 0.01, size=(2, 1), requires_grad=True)\n",
        "b = torch.zeros(1, requires_grad=True)\n",
        "print(\"w0 is\", w, \"b0 is \", b)"
      ],
      "metadata": {
        "id": "5s1SePC5Fh2l",
        "outputId": "23188ecc-d3fe-4b33-b95a-04759f537aea",
        "colab": {
          "base_uri": "https://localhost:8080/"
        }
      },
      "id": "5s1SePC5Fh2l",
      "execution_count": 147,
      "outputs": [
        {
          "output_type": "stream",
          "name": "stdout",
          "text": [
            "w0 is tensor([[ 0.0259],\n",
            "        [-0.0085]], requires_grad=True) b0 is  tensor([0.], requires_grad=True)\n"
          ]
        }
      ]
    },
    {
      "cell_type": "code",
      "source": [
        "def linreg(X, w, b):\n",
        "    \"\"\"线性回归模型。\"\"\"\n",
        "    return torch.matmul(X, w) + b"
      ],
      "metadata": {
        "id": "IC2QirlxFk6E"
      },
      "id": "IC2QirlxFk6E",
      "execution_count": 148,
      "outputs": []
    },
    {
      "cell_type": "code",
      "source": [
        "def squared_loss(y_hat, y):\n",
        "    \"\"\"均方损失。\"\"\"\n",
        "    return (y_hat - y.reshape(y_hat.shape))**2 / 2"
      ],
      "metadata": {
        "id": "Qs7ytdUZFos2"
      },
      "id": "Qs7ytdUZFos2",
      "execution_count": 149,
      "outputs": []
    },
    {
      "cell_type": "code",
      "source": [
        "def sgd(params, lr, batch_size):\n",
        "    \"\"\"小批量随机梯度下降。\"\"\"\n",
        "    with torch.no_grad():\n",
        "        for param in params:\n",
        "            param -= lr * param.grad / batch_size\n",
        "            param.grad.zero_()"
      ],
      "metadata": {
        "id": "y1nBqjttFp2x"
      },
      "id": "y1nBqjttFp2x",
      "execution_count": 150,
      "outputs": []
    },
    {
      "cell_type": "code",
      "source": [
        "lr = 0.7\n",
        "num_epochs = 3\n",
        "net = linreg\n",
        "loss = squared_loss\n",
        "\n",
        "for epoch in range(num_epochs):\n",
        "    for X, y in data_iter(batch_size, features, labels):\n",
        "        l = loss(net(X, w, b), y)\n",
        "        l.sum().backward()\n",
        "        sgd([w, b], lr, batch_size)\n",
        "    with torch.no_grad():\n",
        "        train_l = loss(net(features, w, b), labels)\n",
        "        print(f'epoch {epoch + 1}, loss {float(train_l.mean()):f}')"
      ],
      "metadata": {
        "id": "XKdYkzPGFwAe",
        "outputId": "d3ddd290-330c-49a4-a1f6-64df1f1de015",
        "colab": {
          "base_uri": "https://localhost:8080/"
        }
      },
      "id": "XKdYkzPGFwAe",
      "execution_count": 151,
      "outputs": [
        {
          "output_type": "stream",
          "name": "stdout",
          "text": [
            "epoch 1, loss 0.000051\n",
            "epoch 2, loss 0.000059\n",
            "epoch 3, loss 0.000055\n"
          ]
        }
      ]
    },
    {
      "cell_type": "code",
      "source": [
        "print(f'w的估计误差: {true_w - w.reshape(true_w.shape)}')\n",
        "print(f'b的估计误差: {true_b - b}')"
      ],
      "metadata": {
        "id": "48FIqWZeF2MJ",
        "outputId": "1247b536-d6cc-4282-f104-6a23bc7fb90c",
        "colab": {
          "base_uri": "https://localhost:8080/"
        }
      },
      "id": "48FIqWZeF2MJ",
      "execution_count": 152,
      "outputs": [
        {
          "output_type": "stream",
          "name": "stdout",
          "text": [
            "w的估计误差: tensor([-0.0007, -0.0025], grad_fn=<SubBackward0>)\n",
            "b的估计误差: tensor([-0.0032], grad_fn=<RsubBackward1>)\n"
          ]
        }
      ]
    },
    {
      "cell_type": "code",
      "source": [],
      "metadata": {
        "id": "CzHK6KX-HpkX"
      },
      "id": "CzHK6KX-HpkX",
      "execution_count": 152,
      "outputs": []
    },
    {
      "cell_type": "markdown",
      "source": [
        "Hyper Parameter adjusting results record\n",
        "lr=0.001, 0.01, 0.05, 0.1\n",
        "lr     loss_1    loss_2  loss_3    w_error_0  w_error_1  b_error\n",
        "0.001   13.7      11.2     9.15     1.53      -2.49       3.1         big error\n",
        "0.01    2.31      0.34     0.05     0.11      -0.19       0.23        big error\n",
        "0.05    .000387   .000053  .000053  -0.0007   0.001       -9.54e-05  -rightsize\n",
        "0.1     .000048   .000048  .000048  -.0008    .0004       .0002      -no change\n",
        "0.7     .000051   .000059  .000055  -.0007    -.0025      -.0032     -bouncing\n",
        "\n",
        "\n",
        "\n",
        "\n",
        "\n"
      ],
      "metadata": {
        "id": "41Y0kMKvHqAS"
      },
      "id": "41Y0kMKvHqAS"
    },
    {
      "cell_type": "markdown",
      "source": [],
      "metadata": {
        "id": "s4XOY44kKDCv"
      },
      "id": "s4XOY44kKDCv"
    },
    {
      "cell_type": "markdown",
      "id": "fdfa896e",
      "metadata": {
        "origin_pos": 1,
        "id": "fdfa896e"
      },
      "source": [
        "# Linear Regression\n",
        ":label:`sec_linear_regression`\n",
        "\n",
        "*Regression* problems pop up whenever we want to predict a numerical value.\n",
        "Common examples include predicting prices (of homes, stocks, etc.),\n",
        "predicting the length of stay (for patients in the hospital),\n",
        "forecasting demand (for retail sales), among numerous others.\n",
        "Not every prediction problem is one of classical regression.\n",
        "Later on, we will introduce classification problems,\n",
        "where the goal is to predict membership among a set of categories.\n",
        "\n",
        "As a running example, suppose that we wish\n",
        "to estimate the prices of houses (in dollars)\n",
        "based on their area (in square feet) and age (in years).\n",
        "To develop a model for predicting house prices,\n",
        "we need to get our hands on data,\n",
        "including the sales price, area, and age for each home.\n",
        "In the terminology of machine learning,\n",
        "the dataset is called a *training dataset* or *training set*,\n",
        "and each row (containing the data corresponding to one sale)\n",
        "is called an *example* (or *data point*, *instance*, *sample*).\n",
        "The thing we are trying to predict (price)\n",
        "is called a *label* (or *target*).\n",
        "The variables (age and area)\n",
        "upon which the predictions are based\n",
        "are called *features* (or *covariates*).\n"
      ]
    },
    {
      "cell_type": "code",
      "execution_count": 153,
      "id": "518bf6ae",
      "metadata": {
        "execution": {
          "iopub.execute_input": "2023-08-18T19:40:22.515904Z",
          "iopub.status.busy": "2023-08-18T19:40:22.515596Z",
          "iopub.status.idle": "2023-08-18T19:40:25.958016Z",
          "shell.execute_reply": "2023-08-18T19:40:25.957007Z"
        },
        "origin_pos": 3,
        "tab": [
          "pytorch"
        ],
        "id": "518bf6ae"
      },
      "outputs": [],
      "source": [
        "%matplotlib inline\n",
        "import math\n",
        "import time\n",
        "import numpy as np\n",
        "import torch\n",
        "from d2l import torch as d2l"
      ]
    },
    {
      "cell_type": "markdown",
      "id": "e5e9b15e",
      "metadata": {
        "origin_pos": 6,
        "id": "e5e9b15e"
      },
      "source": [
        "## Basics\n",
        "\n",
        "*Linear regression* is both the simplest\n",
        "and most popular among the standard tools\n",
        "for tackling regression problems.\n",
        "Dating back to the dawn of the 19th century :cite:`Legendre.1805,Gauss.1809`,\n",
        "linear regression flows from a few simple assumptions.\n",
        "First, we assume that the relationship\n",
        "between features $\\mathbf{x}$ and target $y$\n",
        "is approximately linear,\n",
        "i.e., that the conditional mean $E[Y \\mid X=\\mathbf{x}]$\n",
        "can be expressed as a weighted sum\n",
        "of the features $\\mathbf{x}$.\n",
        "This setup allows that the target value\n",
        "may still deviate from its expected value\n",
        "on account of observation noise.\n",
        "Next, we can impose the assumption that any such noise\n",
        "is well behaved, following a Gaussian distribution.\n",
        "Typically, we will use $n$ to denote\n",
        "the number of examples in our dataset.\n",
        "We use superscripts to enumerate samples and targets,\n",
        "and subscripts to index coordinates.\n",
        "More concretely,\n",
        "$\\mathbf{x}^{(i)}$ denotes the $i^{\\textrm{th}}$ sample\n",
        "and $x_j^{(i)}$ denotes its $j^{\\textrm{th}}$ coordinate.\n",
        "\n",
        "### Model\n",
        ":label:`subsec_linear_model`\n",
        "\n",
        "At the heart of every solution is a model\n",
        "that describes how features can be transformed\n",
        "into an estimate of the target.\n",
        "The assumption of linearity means that\n",
        "the expected value of the target (price) can be expressed\n",
        "as a weighted sum of the features (area and age):\n",
        "\n",
        "$$\\textrm{price} = w_{\\textrm{area}} \\cdot \\textrm{area} + w_{\\textrm{age}} \\cdot \\textrm{age} + b.$$\n",
        ":eqlabel:`eq_price-area`\n",
        "\n",
        "Here $w_{\\textrm{area}}$ and $w_{\\textrm{age}}$\n",
        "are called *weights*, and $b$ is called a *bias*\n",
        "(or *offset* or *intercept*).\n",
        "The weights determine the influence of each feature on our prediction.\n",
        "The bias determines the value of the estimate when all features are zero.\n",
        "Even though we will never see any newly-built homes with precisely zero area,\n",
        "we still need the bias because it allows us\n",
        "to express all linear functions of our features\n",
        "(rather than restricting us to lines that pass through the origin).\n",
        "Strictly speaking, :eqref:`eq_price-area` is an *affine transformation* of input features, which is characterized by a *linear transformation* of features via a weighted sum, combined with a *translation* via the added bias.\n",
        "Given a dataset, our goal is to choose\n",
        "the weights $\\mathbf{w}$ and the bias $b$\n",
        "that, on average, make our model's predictions\n",
        "fit the true prices observed in the data as closely as possible.\n",
        "\n",
        "\n",
        "In disciplines where it is common to focus\n",
        "on datasets with just a few features,\n",
        "explicitly expressing models long-form,\n",
        "as in :eqref:`eq_price-area`, is common.\n",
        "In machine learning, we usually work\n",
        "with high-dimensional datasets,\n",
        "where it is more convenient to employ\n",
        "compact linear algebra notation.\n",
        "When our inputs consist of $d$ features,\n",
        "we can assign each an index (between $1$ and $d$)\n",
        "and express our prediction $\\hat{y}$\n",
        "(in general the \"hat\" symbol denotes an estimate) as\n",
        "\n",
        "$$\\hat{y} = w_1  x_1 + \\cdots + w_d  x_d + b.$$\n",
        "\n",
        "Collecting all features into a vector $\\mathbf{x} \\in \\mathbb{R}^d$\n",
        "and all weights into a vector $\\mathbf{w} \\in \\mathbb{R}^d$,\n",
        "we can express our model compactly via the dot product\n",
        "between $\\mathbf{w}$ and $\\mathbf{x}$:\n",
        "\n",
        "$$\\hat{y} = \\mathbf{w}^\\top \\mathbf{x} + b.$$\n",
        ":eqlabel:`eq_linreg-y`\n",
        "\n",
        "In :eqref:`eq_linreg-y`, the vector $\\mathbf{x}$\n",
        "corresponds to the features of a single example.\n",
        "We will often find it convenient\n",
        "to refer to features of our entire dataset of $n$ examples\n",
        "via the *design matrix* $\\mathbf{X} \\in \\mathbb{R}^{n \\times d}$.\n",
        "Here, $\\mathbf{X}$ contains one row for every example\n",
        "and one column for every feature.\n",
        "For a collection of features $\\mathbf{X}$,\n",
        "the predictions $\\hat{\\mathbf{y}} \\in \\mathbb{R}^n$\n",
        "can be expressed via the matrix--vector product:\n",
        "\n",
        "$${\\hat{\\mathbf{y}}} = \\mathbf{X} \\mathbf{w} + b,$$\n",
        ":eqlabel:`eq_linreg-y-vec`\n",
        "\n",
        "where broadcasting (:numref:`subsec_broadcasting`) is applied during the summation.\n",
        "Given features of a training dataset $\\mathbf{X}$\n",
        "and corresponding (known) labels $\\mathbf{y}$,\n",
        "the goal of linear regression is to find\n",
        "the weight vector $\\mathbf{w}$ and the bias term $b$\n",
        "such that, given features of a new data example\n",
        "sampled from the same distribution as $\\mathbf{X}$,\n",
        "the new example's label will (in expectation)\n",
        "be predicted with the smallest error.\n",
        "\n",
        "Even if we believe that the best model for\n",
        "predicting $y$ given $\\mathbf{x}$ is linear,\n",
        "we would not expect to find a real-world dataset of $n$ examples where\n",
        "$y^{(i)}$ exactly equals $\\mathbf{w}^\\top \\mathbf{x}^{(i)}+b$\n",
        "for all $1 \\leq i \\leq n$.\n",
        "For example, whatever instruments we use to observe\n",
        "the features $\\mathbf{X}$ and labels $\\mathbf{y}$, there might be a small amount of measurement error.\n",
        "Thus, even when we are confident\n",
        "that the underlying relationship is linear,\n",
        "we will incorporate a noise term to account for such errors.\n",
        "\n",
        "Before we can go about searching for the best *parameters*\n",
        "(or *model parameters*) $\\mathbf{w}$ and $b$,\n",
        "we will need two more things:\n",
        "(i) a measure of the quality of some given model;\n",
        "and (ii) a procedure for updating the model to improve its quality.\n",
        "\n",
        "### Loss Function\n",
        ":label:`subsec_linear-regression-loss-function`\n",
        "\n",
        "Naturally, fitting our model to the data requires\n",
        "that we agree on some measure of *fitness*\n",
        "(or, equivalently, of *unfitness*).\n",
        "*Loss functions* quantify the distance\n",
        "between the *real* and *predicted* values of the target.\n",
        "The loss will usually be a nonnegative number\n",
        "where smaller values are better\n",
        "and perfect predictions incur a loss of 0.\n",
        "For regression problems, the most common loss function is the squared error.\n",
        "When our prediction for an example $i$ is $\\hat{y}^{(i)}$\n",
        "and the corresponding true label is $y^{(i)}$,\n",
        "the *squared error* is given by:\n",
        "\n",
        "$$l^{(i)}(\\mathbf{w}, b) = \\frac{1}{2} \\left(\\hat{y}^{(i)} - y^{(i)}\\right)^2.$$\n",
        ":eqlabel:`eq_mse`\n",
        "\n",
        "The constant $\\frac{1}{2}$ makes no real difference\n",
        "but proves to be notationally convenient,\n",
        "since it cancels out when we take the derivative of the loss.\n",
        "Because the training dataset is given to us,\n",
        "and thus is out of our control,\n",
        "the empirical error is only a function of the model parameters.\n",
        "In :numref:`fig_fit_linreg`, we visualize the fit of a linear regression model\n",
        "in a problem with one-dimensional inputs.\n",
        "\n",
        "![Fitting a linear regression model to one-dimensional data.](https://github.com/d2l-ai/d2l-pytorch-colab/blob/master/img/fit-linreg.svg?raw=1)\n",
        ":label:`fig_fit_linreg`\n",
        "\n",
        "Note that large differences between\n",
        "estimates $\\hat{y}^{(i)}$ and targets $y^{(i)}$\n",
        "lead to even larger contributions to the loss,\n",
        "due to its quadratic form\n",
        "(this quadraticity can be a double-edge sword; while it encourages the model to avoid large errors\n",
        "it can also lead to excessive sensitivity to anomalous data).\n",
        "To measure the quality of a model on the entire dataset of $n$ examples,\n",
        "we simply average (or equivalently, sum)\n",
        "the losses on the training set:\n",
        "\n",
        "$$L(\\mathbf{w}, b) =\\frac{1}{n}\\sum_{i=1}^n l^{(i)}(\\mathbf{w}, b) =\\frac{1}{n} \\sum_{i=1}^n \\frac{1}{2}\\left(\\mathbf{w}^\\top \\mathbf{x}^{(i)} + b - y^{(i)}\\right)^2.$$\n",
        "\n",
        "When training the model, we seek parameters ($\\mathbf{w}^*, b^*$)\n",
        "that minimize the total loss across all training examples:\n",
        "\n",
        "$$\\mathbf{w}^*, b^* = \\operatorname*{argmin}_{\\mathbf{w}, b}\\  L(\\mathbf{w}, b).$$\n",
        "\n",
        "### Analytic Solution\n",
        "\n",
        "Unlike most of the models that we will cover,\n",
        "linear regression presents us with\n",
        "a surprisingly easy optimization problem.\n",
        "In particular, we can find the optimal parameters\n",
        "(as assessed on the training data)\n",
        "analytically by applying a simple formula as follows.\n",
        "First, we can subsume the bias $b$ into the parameter $\\mathbf{w}$\n",
        "by appending a column to the design matrix consisting of all 1s.\n",
        "Then our prediction problem is to minimize $\\|\\mathbf{y} - \\mathbf{X}\\mathbf{w}\\|^2$.\n",
        "As long as the design matrix $\\mathbf{X}$ has full rank\n",
        "(no feature is linearly dependent on the others),\n",
        "then there will be just one critical point on the loss surface\n",
        "and it corresponds to the minimum of the loss over the entire domain.\n",
        "Taking the derivative of the loss with respect to $\\mathbf{w}$\n",
        "and setting it equal to zero yields:\n",
        "\n",
        "$$\\begin{aligned}\n",
        "    \\partial_{\\mathbf{w}} \\|\\mathbf{y} - \\mathbf{X}\\mathbf{w}\\|^2 =\n",
        "    2 \\mathbf{X}^\\top (\\mathbf{X} \\mathbf{w} - \\mathbf{y}) = 0\n",
        "    \\textrm{ and hence }\n",
        "    \\mathbf{X}^\\top \\mathbf{y} = \\mathbf{X}^\\top \\mathbf{X} \\mathbf{w}.\n",
        "\\end{aligned}$$\n",
        "\n",
        "Solving for $\\mathbf{w}$ provides us with the optimal solution\n",
        "for the optimization problem.\n",
        "Note that this solution\n",
        "\n",
        "$$\\mathbf{w}^* = (\\mathbf X^\\top \\mathbf X)^{-1}\\mathbf X^\\top \\mathbf{y}$$\n",
        "\n",
        "will only be unique\n",
        "when the matrix $\\mathbf X^\\top \\mathbf X$ is invertible,\n",
        "i.e., when the columns of the design matrix\n",
        "are linearly independent :cite:`Golub.Van-Loan.1996`.\n",
        "\n",
        "\n",
        "\n",
        "While simple problems like linear regression\n",
        "may admit analytic solutions,\n",
        "you should not get used to such good fortune.\n",
        "Although analytic solutions allow for nice mathematical analysis,\n",
        "the requirement of an analytic solution is so restrictive\n",
        "that it would exclude almost all exciting aspects of deep learning.\n",
        "\n",
        "### Minibatch Stochastic Gradient Descent\n",
        "\n",
        "Fortunately, even in cases where we cannot solve the models analytically,\n",
        "we can still often train models effectively in practice.\n",
        "Moreover, for many tasks, those hard-to-optimize models\n",
        "turn out to be so much better that figuring out how to train them\n",
        "ends up being well worth the trouble.\n",
        "\n",
        "The key technique for optimizing nearly every deep learning model,\n",
        "and which we will call upon throughout this book,\n",
        "consists of iteratively reducing the error\n",
        "by updating the parameters in the direction\n",
        "that incrementally lowers the loss function.\n",
        "This algorithm is called *gradient descent*.\n",
        "\n",
        "The most naive application of gradient descent\n",
        "consists of taking the derivative of the loss function,\n",
        "which is an average of the losses computed\n",
        "on every single example in the dataset.\n",
        "In practice, this can be extremely slow:\n",
        "we must pass over the entire dataset before making a single update,\n",
        "even if the update steps might be very powerful :cite:`Liu.Nocedal.1989`.\n",
        "Even worse, if there is a lot of redundancy in the training data,\n",
        "the benefit of a full update is limited.\n",
        "\n",
        "The other extreme is to consider only a single example at a time and to take\n",
        "update steps based on one observation at a time.\n",
        "The resulting algorithm, *stochastic gradient descent* (SGD)\n",
        "can be an effective strategy :cite:`Bottou.2010`, even for large datasets.\n",
        "Unfortunately, SGD has drawbacks, both computational and statistical.\n",
        "One problem arises from the fact that processors are a lot faster\n",
        "multiplying and adding numbers than they are\n",
        "at moving data from main memory to processor cache.\n",
        "It is up to an order of magnitude more efficient to\n",
        "perform a matrix--vector multiplication\n",
        "than a corresponding number of vector--vector operations.\n",
        "This means that it can take a lot longer to process\n",
        "one sample at a time compared to a full batch.\n",
        "A second problem is that some of the layers,\n",
        "such as batch normalization (to be described in :numref:`sec_batch_norm`),\n",
        "only work well when we have access\n",
        "to more than one observation at a time.\n",
        "\n",
        "The solution to both problems is to pick an intermediate strategy:\n",
        "rather than taking a full batch or only a single sample at a time,\n",
        "we take a *minibatch* of observations :cite:`Li.Zhang.Chen.ea.2014`.\n",
        "The specific choice of the size of the said minibatch depends on many factors,\n",
        "such as the amount of memory, the number of accelerators,\n",
        "the choice of layers, and the total dataset size.\n",
        "Despite all that, a number between 32 and 256,\n",
        "preferably a multiple of a large power of $2$, is a good start.\n",
        "This leads us to *minibatch stochastic gradient descent*.\n",
        "\n",
        "In its most basic form, in each iteration $t$,\n",
        "we first randomly sample a minibatch $\\mathcal{B}_t$\n",
        "consisting of a fixed number $|\\mathcal{B}|$ of training examples.\n",
        "We then compute the derivative (gradient) of the average loss\n",
        "on the minibatch with respect to the model parameters.\n",
        "Finally, we multiply the gradient\n",
        "by a predetermined small positive value $\\eta$,\n",
        "called the *learning rate*,\n",
        "and subtract the resulting term from the current parameter values.\n",
        "We can express the update as follows:\n",
        "\n",
        "$$(\\mathbf{w},b) \\leftarrow (\\mathbf{w},b) - \\frac{\\eta}{|\\mathcal{B}|} \\sum_{i \\in \\mathcal{B}_t} \\partial_{(\\mathbf{w},b)} l^{(i)}(\\mathbf{w},b).$$\n",
        "\n",
        "In summary, minibatch SGD proceeds as follows:\n",
        "(i) initialize the values of the model parameters, typically at random;\n",
        "(ii) iteratively sample random minibatches from the data,\n",
        "updating the parameters in the direction of the negative gradient.\n",
        "For quadratic losses and affine transformations,\n",
        "this has a closed-form expansion:\n",
        "\n",
        "$$\\begin{aligned} \\mathbf{w} & \\leftarrow \\mathbf{w} - \\frac{\\eta}{|\\mathcal{B}|} \\sum_{i \\in \\mathcal{B}_t} \\partial_{\\mathbf{w}} l^{(i)}(\\mathbf{w}, b) && = \\mathbf{w} - \\frac{\\eta}{|\\mathcal{B}|} \\sum_{i \\in \\mathcal{B}_t} \\mathbf{x}^{(i)} \\left(\\mathbf{w}^\\top \\mathbf{x}^{(i)} + b - y^{(i)}\\right)\\\\ b &\\leftarrow b -  \\frac{\\eta}{|\\mathcal{B}|} \\sum_{i \\in \\mathcal{B}_t} \\partial_b l^{(i)}(\\mathbf{w}, b) &&  = b - \\frac{\\eta}{|\\mathcal{B}|} \\sum_{i \\in \\mathcal{B}_t} \\left(\\mathbf{w}^\\top \\mathbf{x}^{(i)} + b - y^{(i)}\\right). \\end{aligned}$$\n",
        ":eqlabel:`eq_linreg_batch_update`\n",
        "\n",
        "Since we pick a minibatch $\\mathcal{B}$\n",
        "we need to normalize by its size $|\\mathcal{B}|$.\n",
        "Frequently minibatch size and learning rate are user-defined.\n",
        "Such tunable parameters that are not updated\n",
        "in the training loop are called *hyperparameters*.\n",
        "They can be tuned automatically by a number of techniques, such as Bayesian optimization\n",
        ":cite:`Frazier.2018`. In the end, the quality of the solution is\n",
        "typically assessed on a separate *validation dataset* (or *validation set*).\n",
        "\n",
        "After training for some predetermined number of iterations\n",
        "(or until some other stopping criterion is met),\n",
        "we record the estimated model parameters,\n",
        "denoted $\\hat{\\mathbf{w}}, \\hat{b}$.\n",
        "Note that even if our function is truly linear and noiseless,\n",
        "these parameters will not be the exact minimizers of the loss, nor even deterministic.\n",
        "Although the algorithm converges slowly towards the minimizers\n",
        "it typically will not find them exactly in a finite number of steps.\n",
        "Moreover, the minibatches $\\mathcal{B}$\n",
        "used for updating the parameters are chosen at random.\n",
        "This breaks determinism.\n",
        "\n",
        "Linear regression happens to be a learning problem\n",
        "with a global minimum\n",
        "(whenever $\\mathbf{X}$ is full rank, or equivalently,\n",
        "whenever $\\mathbf{X}^\\top \\mathbf{X}$ is invertible).\n",
        "However, the loss surfaces for deep networks contain many saddle points and minima.\n",
        "Fortunately, we typically do not care about finding\n",
        "an exact set of parameters but merely any set of parameters\n",
        "that leads to accurate predictions (and thus low loss).\n",
        "In practice, deep learning practitioners\n",
        "seldom struggle to find parameters\n",
        "that minimize the loss *on training sets*\n",
        ":cite:`Izmailov.Podoprikhin.Garipov.ea.2018,Frankle.Carbin.2018`.\n",
        "The more formidable task is to find parameters\n",
        "that lead to accurate predictions on previously unseen data,\n",
        "a challenge called *generalization*.\n",
        "We return to these topics throughout the book.\n",
        "\n",
        "### Predictions\n",
        "\n",
        "Given the model $\\hat{\\mathbf{w}}^\\top \\mathbf{x} + \\hat{b}$,\n",
        "we can now make *predictions* for a new example,\n",
        "e.g., predicting the sales price of a previously unseen house\n",
        "given its area $x_1$ and age $x_2$.\n",
        "Deep learning practitioners have taken to calling the prediction phase *inference*\n",
        "but this is a bit of a misnomer---*inference* refers broadly\n",
        "to any conclusion reached on the basis of evidence,\n",
        "including both the values of the parameters\n",
        "and the likely label for an unseen instance.\n",
        "If anything, in the statistics literature\n",
        "*inference* more often denotes parameter inference\n",
        "and this overloading of terminology creates unnecessary confusion\n",
        "when deep learning practitioners talk to statisticians.\n",
        "In the following we will stick to *prediction* whenever possible.\n",
        "\n",
        "\n",
        "\n",
        "## Vectorization for Speed\n",
        "\n",
        "When training our models, we typically want to process\n",
        "whole minibatches of examples simultaneously.\n",
        "Doing this efficiently requires that (**we**) (~~should~~)\n",
        "(**vectorize the calculations and leverage\n",
        "fast linear algebra libraries\n",
        "rather than writing costly for-loops in Python.**)\n",
        "\n",
        "To see why this matters so much,\n",
        "let's (**consider two methods for adding vectors.**)\n",
        "To start, we instantiate two 10,000-dimensional vectors\n",
        "containing all 1s.\n",
        "In the first method, we loop over the vectors with a Python for-loop.\n",
        "In the second, we rely on a single call to `+`.\n"
      ]
    },
    {
      "cell_type": "code",
      "execution_count": 154,
      "id": "e31ed5b7",
      "metadata": {
        "execution": {
          "iopub.execute_input": "2023-08-18T19:40:25.962060Z",
          "iopub.status.busy": "2023-08-18T19:40:25.961577Z",
          "iopub.status.idle": "2023-08-18T19:40:25.986556Z",
          "shell.execute_reply": "2023-08-18T19:40:25.985693Z"
        },
        "origin_pos": 7,
        "tab": [
          "pytorch"
        ],
        "id": "e31ed5b7"
      },
      "outputs": [],
      "source": [
        "n = 10000\n",
        "a = torch.ones(n)\n",
        "b = torch.ones(n)"
      ]
    },
    {
      "cell_type": "markdown",
      "id": "5dd38b29",
      "metadata": {
        "origin_pos": 8,
        "id": "5dd38b29"
      },
      "source": [
        "Now we can benchmark the workloads.\n",
        "First, [**we add them, one coordinate at a time,\n",
        "using a for-loop.**]\n"
      ]
    },
    {
      "cell_type": "code",
      "execution_count": 155,
      "id": "ebf6b45f",
      "metadata": {
        "execution": {
          "iopub.execute_input": "2023-08-18T19:40:25.991235Z",
          "iopub.status.busy": "2023-08-18T19:40:25.990635Z",
          "iopub.status.idle": "2023-08-18T19:40:26.178339Z",
          "shell.execute_reply": "2023-08-18T19:40:26.177087Z"
        },
        "origin_pos": 9,
        "tab": [
          "pytorch"
        ],
        "colab": {
          "base_uri": "https://localhost:8080/",
          "height": 0
        },
        "id": "ebf6b45f",
        "outputId": "abbc2d65-d99b-414d-b551-c0a1c7e75b9a"
      },
      "outputs": [
        {
          "output_type": "execute_result",
          "data": {
            "text/plain": [
              "'0.23864 sec'"
            ],
            "application/vnd.google.colaboratory.intrinsic+json": {
              "type": "string"
            }
          },
          "metadata": {},
          "execution_count": 155
        }
      ],
      "source": [
        "c = torch.zeros(n)\n",
        "t = time.time()\n",
        "for i in range(n):\n",
        "    c[i] = a[i] + b[i]\n",
        "f'{time.time() - t:.5f} sec'"
      ]
    },
    {
      "cell_type": "markdown",
      "id": "c7e31f61",
      "metadata": {
        "origin_pos": 12,
        "id": "c7e31f61"
      },
      "source": [
        "(**Alternatively, we rely on the reloaded `+` operator to compute the elementwise sum.**)\n"
      ]
    },
    {
      "cell_type": "code",
      "execution_count": 156,
      "id": "f23de63f",
      "metadata": {
        "execution": {
          "iopub.execute_input": "2023-08-18T19:40:26.183124Z",
          "iopub.status.busy": "2023-08-18T19:40:26.182348Z",
          "iopub.status.idle": "2023-08-18T19:40:26.190223Z",
          "shell.execute_reply": "2023-08-18T19:40:26.189016Z"
        },
        "origin_pos": 13,
        "tab": [
          "pytorch"
        ],
        "colab": {
          "base_uri": "https://localhost:8080/",
          "height": 0
        },
        "id": "f23de63f",
        "outputId": "0e566e07-6704-4fef-b003-5b721a0a047c"
      },
      "outputs": [
        {
          "output_type": "execute_result",
          "data": {
            "text/plain": [
              "'0.00039 sec'"
            ],
            "application/vnd.google.colaboratory.intrinsic+json": {
              "type": "string"
            }
          },
          "metadata": {},
          "execution_count": 156
        }
      ],
      "source": [
        "t = time.time()\n",
        "d = a + b\n",
        "f'{time.time() - t:.5f} sec'"
      ]
    },
    {
      "cell_type": "markdown",
      "id": "59022167",
      "metadata": {
        "origin_pos": 14,
        "id": "59022167"
      },
      "source": [
        "The second method is dramatically faster than the first.\n",
        "Vectorizing code often yields order-of-magnitude speedups.\n",
        "Moreover, we push more of the mathematics to the library\n",
        "so we do not have to write as many calculations ourselves,\n",
        "reducing the potential for errors and increasing portability of the code.\n",
        "\n",
        "\n",
        "## The Normal Distribution and Squared Loss\n",
        ":label:`subsec_normal_distribution_and_squared_loss`\n",
        "\n",
        "So far we have given a fairly functional motivation\n",
        "of the squared loss objective:\n",
        "the optimal parameters return the conditional expectation $E[Y\\mid X]$\n",
        "whenever the underlying pattern is truly linear,\n",
        "and the loss assigns large penalties for outliers.\n",
        "We can also provide a more formal motivation\n",
        "for the squared loss objective\n",
        "by making probabilistic assumptions\n",
        "about the distribution of noise.\n",
        "\n",
        "Linear regression was invented at the turn of the 19th century.\n",
        "While it has long been debated whether Gauss or Legendre\n",
        "first thought up the idea,\n",
        "it was Gauss who also discovered the normal distribution\n",
        "(also called the *Gaussian*).\n",
        "It turns out that the normal distribution\n",
        "and linear regression with squared loss\n",
        "share a deeper connection than common parentage.\n",
        "\n",
        "To begin, recall that a normal distribution\n",
        "with mean $\\mu$ and variance $\\sigma^2$ (standard deviation $\\sigma$)\n",
        "is given as\n",
        "\n",
        "$$p(x) = \\frac{1}{\\sqrt{2 \\pi \\sigma^2}} \\exp\\left(-\\frac{1}{2 \\sigma^2} (x - \\mu)^2\\right).$$\n",
        "\n",
        "Below [**we define a function to compute the normal distribution**].\n"
      ]
    },
    {
      "cell_type": "code",
      "execution_count": 157,
      "id": "c1c4cb4d",
      "metadata": {
        "execution": {
          "iopub.execute_input": "2023-08-18T19:40:26.194623Z",
          "iopub.status.busy": "2023-08-18T19:40:26.193899Z",
          "iopub.status.idle": "2023-08-18T19:40:26.200266Z",
          "shell.execute_reply": "2023-08-18T19:40:26.199057Z"
        },
        "origin_pos": 15,
        "tab": [
          "pytorch"
        ],
        "id": "c1c4cb4d"
      },
      "outputs": [],
      "source": [
        "def normal(x, mu, sigma):\n",
        "    p = 1 / math.sqrt(2 * math.pi * sigma**2)\n",
        "    return p * np.exp(-0.5 * (x - mu)**2 / sigma**2)"
      ]
    },
    {
      "cell_type": "markdown",
      "id": "a8378d02",
      "metadata": {
        "origin_pos": 16,
        "id": "a8378d02"
      },
      "source": [
        "We can now (**visualize the normal distributions**).\n"
      ]
    },
    {
      "cell_type": "code",
      "execution_count": 158,
      "id": "32081aba",
      "metadata": {
        "execution": {
          "iopub.execute_input": "2023-08-18T19:40:26.204882Z",
          "iopub.status.busy": "2023-08-18T19:40:26.203939Z",
          "iopub.status.idle": "2023-08-18T19:40:26.632371Z",
          "shell.execute_reply": "2023-08-18T19:40:26.631518Z"
        },
        "origin_pos": 18,
        "tab": [
          "pytorch"
        ],
        "colab": {
          "base_uri": "https://localhost:8080/",
          "height": 0
        },
        "id": "32081aba",
        "outputId": "e03ae175-b33a-49aa-bfb9-46a8c599c4a8"
      },
      "outputs": [
        {
          "output_type": "display_data",
          "data": {
            "text/plain": [
              "<Figure size 450x250 with 1 Axes>"
            ],
            "image/svg+xml": "<?xml version=\"1.0\" encoding=\"utf-8\" standalone=\"no\"?>\n<!DOCTYPE svg PUBLIC \"-//W3C//DTD SVG 1.1//EN\"\n  \"http://www.w3.org/Graphics/SVG/1.1/DTD/svg11.dtd\">\n<svg xmlns:xlink=\"http://www.w3.org/1999/xlink\" width=\"302.08125pt\" height=\"183.35625pt\" viewBox=\"0 0 302.08125 183.35625\" xmlns=\"http://www.w3.org/2000/svg\" version=\"1.1\">\n <metadata>\n  <rdf:RDF xmlns:dc=\"http://purl.org/dc/elements/1.1/\" xmlns:cc=\"http://creativecommons.org/ns#\" xmlns:rdf=\"http://www.w3.org/1999/02/22-rdf-syntax-ns#\">\n   <cc:Work>\n    <dc:type rdf:resource=\"http://purl.org/dc/dcmitype/StillImage\"/>\n    <dc:date>2023-11-07T09:53:12.489150</dc:date>\n    <dc:format>image/svg+xml</dc:format>\n    <dc:creator>\n     <cc:Agent>\n      <dc:title>Matplotlib v3.7.1, https://matplotlib.org/</dc:title>\n     </cc:Agent>\n    </dc:creator>\n   </cc:Work>\n  </rdf:RDF>\n </metadata>\n <defs>\n  <style type=\"text/css\">*{stroke-linejoin: round; stroke-linecap: butt}</style>\n </defs>\n <g id=\"figure_1\">\n  <g id=\"patch_1\">\n   <path d=\"M 0 183.35625 \nL 302.08125 183.35625 \nL 302.08125 0 \nL 0 0 \nz\n\" style=\"fill: #ffffff\"/>\n  </g>\n  <g id=\"axes_1\">\n   <g id=\"patch_2\">\n    <path d=\"M 43.78125 145.8 \nL 294.88125 145.8 \nL 294.88125 7.2 \nL 43.78125 7.2 \nz\n\" style=\"fill: #ffffff\"/>\n   </g>\n   <g id=\"matplotlib.axis_1\">\n    <g id=\"xtick_1\">\n     <g id=\"line2d_1\">\n      <path d=\"M 71.511736 145.8 \nL 71.511736 7.2 \n\" clip-path=\"url(#pb5952cfa1d)\" style=\"fill: none; stroke: #b0b0b0; stroke-width: 0.8; stroke-linecap: square\"/>\n     </g>\n     <g id=\"line2d_2\">\n      <defs>\n       <path id=\"md9dddcfc06\" d=\"M 0 0 \nL 0 3.5 \n\" style=\"stroke: #000000; stroke-width: 0.8\"/>\n      </defs>\n      <g>\n       <use xlink:href=\"#md9dddcfc06\" x=\"71.511736\" y=\"145.8\" style=\"stroke: #000000; stroke-width: 0.8\"/>\n      </g>\n     </g>\n     <g id=\"text_1\">\n      <!-- −6 -->\n      <g transform=\"translate(64.140642 160.398438) scale(0.1 -0.1)\">\n       <defs>\n        <path id=\"DejaVuSans-2212\" d=\"M 678 2272 \nL 4684 2272 \nL 4684 1741 \nL 678 1741 \nL 678 2272 \nz\n\" transform=\"scale(0.015625)\"/>\n        <path id=\"DejaVuSans-36\" d=\"M 2113 2584 \nQ 1688 2584 1439 2293 \nQ 1191 2003 1191 1497 \nQ 1191 994 1439 701 \nQ 1688 409 2113 409 \nQ 2538 409 2786 701 \nQ 3034 994 3034 1497 \nQ 3034 2003 2786 2293 \nQ 2538 2584 2113 2584 \nz\nM 3366 4563 \nL 3366 3988 \nQ 3128 4100 2886 4159 \nQ 2644 4219 2406 4219 \nQ 1781 4219 1451 3797 \nQ 1122 3375 1075 2522 \nQ 1259 2794 1537 2939 \nQ 1816 3084 2150 3084 \nQ 2853 3084 3261 2657 \nQ 3669 2231 3669 1497 \nQ 3669 778 3244 343 \nQ 2819 -91 2113 -91 \nQ 1303 -91 875 529 \nQ 447 1150 447 2328 \nQ 447 3434 972 4092 \nQ 1497 4750 2381 4750 \nQ 2619 4750 2861 4703 \nQ 3103 4656 3366 4563 \nz\n\" transform=\"scale(0.015625)\"/>\n       </defs>\n       <use xlink:href=\"#DejaVuSans-2212\"/>\n       <use xlink:href=\"#DejaVuSans-36\" x=\"83.789062\"/>\n      </g>\n     </g>\n    </g>\n    <g id=\"xtick_2\">\n     <g id=\"line2d_3\">\n      <path d=\"M 104.145435 145.8 \nL 104.145435 7.2 \n\" clip-path=\"url(#pb5952cfa1d)\" style=\"fill: none; stroke: #b0b0b0; stroke-width: 0.8; stroke-linecap: square\"/>\n     </g>\n     <g id=\"line2d_4\">\n      <g>\n       <use xlink:href=\"#md9dddcfc06\" x=\"104.145435\" y=\"145.8\" style=\"stroke: #000000; stroke-width: 0.8\"/>\n      </g>\n     </g>\n     <g id=\"text_2\">\n      <!-- −4 -->\n      <g transform=\"translate(96.774342 160.398438) scale(0.1 -0.1)\">\n       <defs>\n        <path id=\"DejaVuSans-34\" d=\"M 2419 4116 \nL 825 1625 \nL 2419 1625 \nL 2419 4116 \nz\nM 2253 4666 \nL 3047 4666 \nL 3047 1625 \nL 3713 1625 \nL 3713 1100 \nL 3047 1100 \nL 3047 0 \nL 2419 0 \nL 2419 1100 \nL 313 1100 \nL 313 1709 \nL 2253 4666 \nz\n\" transform=\"scale(0.015625)\"/>\n       </defs>\n       <use xlink:href=\"#DejaVuSans-2212\"/>\n       <use xlink:href=\"#DejaVuSans-34\" x=\"83.789062\"/>\n      </g>\n     </g>\n    </g>\n    <g id=\"xtick_3\">\n     <g id=\"line2d_5\">\n      <path d=\"M 136.779135 145.8 \nL 136.779135 7.2 \n\" clip-path=\"url(#pb5952cfa1d)\" style=\"fill: none; stroke: #b0b0b0; stroke-width: 0.8; stroke-linecap: square\"/>\n     </g>\n     <g id=\"line2d_6\">\n      <g>\n       <use xlink:href=\"#md9dddcfc06\" x=\"136.779135\" y=\"145.8\" style=\"stroke: #000000; stroke-width: 0.8\"/>\n      </g>\n     </g>\n     <g id=\"text_3\">\n      <!-- −2 -->\n      <g transform=\"translate(129.408041 160.398438) scale(0.1 -0.1)\">\n       <defs>\n        <path id=\"DejaVuSans-32\" d=\"M 1228 531 \nL 3431 531 \nL 3431 0 \nL 469 0 \nL 469 531 \nQ 828 903 1448 1529 \nQ 2069 2156 2228 2338 \nQ 2531 2678 2651 2914 \nQ 2772 3150 2772 3378 \nQ 2772 3750 2511 3984 \nQ 2250 4219 1831 4219 \nQ 1534 4219 1204 4116 \nQ 875 4013 500 3803 \nL 500 4441 \nQ 881 4594 1212 4672 \nQ 1544 4750 1819 4750 \nQ 2544 4750 2975 4387 \nQ 3406 4025 3406 3419 \nQ 3406 3131 3298 2873 \nQ 3191 2616 2906 2266 \nQ 2828 2175 2409 1742 \nQ 1991 1309 1228 531 \nz\n\" transform=\"scale(0.015625)\"/>\n       </defs>\n       <use xlink:href=\"#DejaVuSans-2212\"/>\n       <use xlink:href=\"#DejaVuSans-32\" x=\"83.789062\"/>\n      </g>\n     </g>\n    </g>\n    <g id=\"xtick_4\">\n     <g id=\"line2d_7\">\n      <path d=\"M 169.412834 145.8 \nL 169.412834 7.2 \n\" clip-path=\"url(#pb5952cfa1d)\" style=\"fill: none; stroke: #b0b0b0; stroke-width: 0.8; stroke-linecap: square\"/>\n     </g>\n     <g id=\"line2d_8\">\n      <g>\n       <use xlink:href=\"#md9dddcfc06\" x=\"169.412834\" y=\"145.8\" style=\"stroke: #000000; stroke-width: 0.8\"/>\n      </g>\n     </g>\n     <g id=\"text_4\">\n      <!-- 0 -->\n      <g transform=\"translate(166.231584 160.398438) scale(0.1 -0.1)\">\n       <defs>\n        <path id=\"DejaVuSans-30\" d=\"M 2034 4250 \nQ 1547 4250 1301 3770 \nQ 1056 3291 1056 2328 \nQ 1056 1369 1301 889 \nQ 1547 409 2034 409 \nQ 2525 409 2770 889 \nQ 3016 1369 3016 2328 \nQ 3016 3291 2770 3770 \nQ 2525 4250 2034 4250 \nz\nM 2034 4750 \nQ 2819 4750 3233 4129 \nQ 3647 3509 3647 2328 \nQ 3647 1150 3233 529 \nQ 2819 -91 2034 -91 \nQ 1250 -91 836 529 \nQ 422 1150 422 2328 \nQ 422 3509 836 4129 \nQ 1250 4750 2034 4750 \nz\n\" transform=\"scale(0.015625)\"/>\n       </defs>\n       <use xlink:href=\"#DejaVuSans-30\"/>\n      </g>\n     </g>\n    </g>\n    <g id=\"xtick_5\">\n     <g id=\"line2d_9\">\n      <path d=\"M 202.046534 145.8 \nL 202.046534 7.2 \n\" clip-path=\"url(#pb5952cfa1d)\" style=\"fill: none; stroke: #b0b0b0; stroke-width: 0.8; stroke-linecap: square\"/>\n     </g>\n     <g id=\"line2d_10\">\n      <g>\n       <use xlink:href=\"#md9dddcfc06\" x=\"202.046534\" y=\"145.8\" style=\"stroke: #000000; stroke-width: 0.8\"/>\n      </g>\n     </g>\n     <g id=\"text_5\">\n      <!-- 2 -->\n      <g transform=\"translate(198.865284 160.398438) scale(0.1 -0.1)\">\n       <use xlink:href=\"#DejaVuSans-32\"/>\n      </g>\n     </g>\n    </g>\n    <g id=\"xtick_6\">\n     <g id=\"line2d_11\">\n      <path d=\"M 234.680233 145.8 \nL 234.680233 7.2 \n\" clip-path=\"url(#pb5952cfa1d)\" style=\"fill: none; stroke: #b0b0b0; stroke-width: 0.8; stroke-linecap: square\"/>\n     </g>\n     <g id=\"line2d_12\">\n      <g>\n       <use xlink:href=\"#md9dddcfc06\" x=\"234.680233\" y=\"145.8\" style=\"stroke: #000000; stroke-width: 0.8\"/>\n      </g>\n     </g>\n     <g id=\"text_6\">\n      <!-- 4 -->\n      <g transform=\"translate(231.498983 160.398438) scale(0.1 -0.1)\">\n       <use xlink:href=\"#DejaVuSans-34\"/>\n      </g>\n     </g>\n    </g>\n    <g id=\"xtick_7\">\n     <g id=\"line2d_13\">\n      <path d=\"M 267.313932 145.8 \nL 267.313932 7.2 \n\" clip-path=\"url(#pb5952cfa1d)\" style=\"fill: none; stroke: #b0b0b0; stroke-width: 0.8; stroke-linecap: square\"/>\n     </g>\n     <g id=\"line2d_14\">\n      <g>\n       <use xlink:href=\"#md9dddcfc06\" x=\"267.313932\" y=\"145.8\" style=\"stroke: #000000; stroke-width: 0.8\"/>\n      </g>\n     </g>\n     <g id=\"text_7\">\n      <!-- 6 -->\n      <g transform=\"translate(264.132682 160.398438) scale(0.1 -0.1)\">\n       <use xlink:href=\"#DejaVuSans-36\"/>\n      </g>\n     </g>\n    </g>\n    <g id=\"text_8\">\n     <!-- x -->\n     <g transform=\"translate(166.371875 174.076563) scale(0.1 -0.1)\">\n      <defs>\n       <path id=\"DejaVuSans-78\" d=\"M 3513 3500 \nL 2247 1797 \nL 3578 0 \nL 2900 0 \nL 1881 1375 \nL 863 0 \nL 184 0 \nL 1544 1831 \nL 300 3500 \nL 978 3500 \nL 1906 2253 \nL 2834 3500 \nL 3513 3500 \nz\n\" transform=\"scale(0.015625)\"/>\n      </defs>\n      <use xlink:href=\"#DejaVuSans-78\"/>\n     </g>\n    </g>\n   </g>\n   <g id=\"matplotlib.axis_2\">\n    <g id=\"ytick_1\">\n     <g id=\"line2d_15\">\n      <path d=\"M 43.78125 139.5 \nL 294.88125 139.5 \n\" clip-path=\"url(#pb5952cfa1d)\" style=\"fill: none; stroke: #b0b0b0; stroke-width: 0.8; stroke-linecap: square\"/>\n     </g>\n     <g id=\"line2d_16\">\n      <defs>\n       <path id=\"m41a766a420\" d=\"M 0 0 \nL -3.5 0 \n\" style=\"stroke: #000000; stroke-width: 0.8\"/>\n      </defs>\n      <g>\n       <use xlink:href=\"#m41a766a420\" x=\"43.78125\" y=\"139.5\" style=\"stroke: #000000; stroke-width: 0.8\"/>\n      </g>\n     </g>\n     <g id=\"text_9\">\n      <!-- 0.0 -->\n      <g transform=\"translate(20.878125 143.299219) scale(0.1 -0.1)\">\n       <defs>\n        <path id=\"DejaVuSans-2e\" d=\"M 684 794 \nL 1344 794 \nL 1344 0 \nL 684 0 \nL 684 794 \nz\n\" transform=\"scale(0.015625)\"/>\n       </defs>\n       <use xlink:href=\"#DejaVuSans-30\"/>\n       <use xlink:href=\"#DejaVuSans-2e\" x=\"63.623047\"/>\n       <use xlink:href=\"#DejaVuSans-30\" x=\"95.410156\"/>\n      </g>\n     </g>\n    </g>\n    <g id=\"ytick_2\">\n     <g id=\"line2d_17\">\n      <path d=\"M 43.78125 107.916484 \nL 294.88125 107.916484 \n\" clip-path=\"url(#pb5952cfa1d)\" style=\"fill: none; stroke: #b0b0b0; stroke-width: 0.8; stroke-linecap: square\"/>\n     </g>\n     <g id=\"line2d_18\">\n      <g>\n       <use xlink:href=\"#m41a766a420\" x=\"43.78125\" y=\"107.916484\" style=\"stroke: #000000; stroke-width: 0.8\"/>\n      </g>\n     </g>\n     <g id=\"text_10\">\n      <!-- 0.1 -->\n      <g transform=\"translate(20.878125 111.715702) scale(0.1 -0.1)\">\n       <defs>\n        <path id=\"DejaVuSans-31\" d=\"M 794 531 \nL 1825 531 \nL 1825 4091 \nL 703 3866 \nL 703 4441 \nL 1819 4666 \nL 2450 4666 \nL 2450 531 \nL 3481 531 \nL 3481 0 \nL 794 0 \nL 794 531 \nz\n\" transform=\"scale(0.015625)\"/>\n       </defs>\n       <use xlink:href=\"#DejaVuSans-30\"/>\n       <use xlink:href=\"#DejaVuSans-2e\" x=\"63.623047\"/>\n       <use xlink:href=\"#DejaVuSans-31\" x=\"95.410156\"/>\n      </g>\n     </g>\n    </g>\n    <g id=\"ytick_3\">\n     <g id=\"line2d_19\">\n      <path d=\"M 43.78125 76.332967 \nL 294.88125 76.332967 \n\" clip-path=\"url(#pb5952cfa1d)\" style=\"fill: none; stroke: #b0b0b0; stroke-width: 0.8; stroke-linecap: square\"/>\n     </g>\n     <g id=\"line2d_20\">\n      <g>\n       <use xlink:href=\"#m41a766a420\" x=\"43.78125\" y=\"76.332967\" style=\"stroke: #000000; stroke-width: 0.8\"/>\n      </g>\n     </g>\n     <g id=\"text_11\">\n      <!-- 0.2 -->\n      <g transform=\"translate(20.878125 80.132186) scale(0.1 -0.1)\">\n       <use xlink:href=\"#DejaVuSans-30\"/>\n       <use xlink:href=\"#DejaVuSans-2e\" x=\"63.623047\"/>\n       <use xlink:href=\"#DejaVuSans-32\" x=\"95.410156\"/>\n      </g>\n     </g>\n    </g>\n    <g id=\"ytick_4\">\n     <g id=\"line2d_21\">\n      <path d=\"M 43.78125 44.749451 \nL 294.88125 44.749451 \n\" clip-path=\"url(#pb5952cfa1d)\" style=\"fill: none; stroke: #b0b0b0; stroke-width: 0.8; stroke-linecap: square\"/>\n     </g>\n     <g id=\"line2d_22\">\n      <g>\n       <use xlink:href=\"#m41a766a420\" x=\"43.78125\" y=\"44.749451\" style=\"stroke: #000000; stroke-width: 0.8\"/>\n      </g>\n     </g>\n     <g id=\"text_12\">\n      <!-- 0.3 -->\n      <g transform=\"translate(20.878125 48.54867) scale(0.1 -0.1)\">\n       <defs>\n        <path id=\"DejaVuSans-33\" d=\"M 2597 2516 \nQ 3050 2419 3304 2112 \nQ 3559 1806 3559 1356 \nQ 3559 666 3084 287 \nQ 2609 -91 1734 -91 \nQ 1441 -91 1130 -33 \nQ 819 25 488 141 \nL 488 750 \nQ 750 597 1062 519 \nQ 1375 441 1716 441 \nQ 2309 441 2620 675 \nQ 2931 909 2931 1356 \nQ 2931 1769 2642 2001 \nQ 2353 2234 1838 2234 \nL 1294 2234 \nL 1294 2753 \nL 1863 2753 \nQ 2328 2753 2575 2939 \nQ 2822 3125 2822 3475 \nQ 2822 3834 2567 4026 \nQ 2313 4219 1838 4219 \nQ 1578 4219 1281 4162 \nQ 984 4106 628 3988 \nL 628 4550 \nQ 988 4650 1302 4700 \nQ 1616 4750 1894 4750 \nQ 2613 4750 3031 4423 \nQ 3450 4097 3450 3541 \nQ 3450 3153 3228 2886 \nQ 3006 2619 2597 2516 \nz\n\" transform=\"scale(0.015625)\"/>\n       </defs>\n       <use xlink:href=\"#DejaVuSans-30\"/>\n       <use xlink:href=\"#DejaVuSans-2e\" x=\"63.623047\"/>\n       <use xlink:href=\"#DejaVuSans-33\" x=\"95.410156\"/>\n      </g>\n     </g>\n    </g>\n    <g id=\"ytick_5\">\n     <g id=\"line2d_23\">\n      <path d=\"M 43.78125 13.165935 \nL 294.88125 13.165935 \n\" clip-path=\"url(#pb5952cfa1d)\" style=\"fill: none; stroke: #b0b0b0; stroke-width: 0.8; stroke-linecap: square\"/>\n     </g>\n     <g id=\"line2d_24\">\n      <g>\n       <use xlink:href=\"#m41a766a420\" x=\"43.78125\" y=\"13.165935\" style=\"stroke: #000000; stroke-width: 0.8\"/>\n      </g>\n     </g>\n     <g id=\"text_13\">\n      <!-- 0.4 -->\n      <g transform=\"translate(20.878125 16.965154) scale(0.1 -0.1)\">\n       <use xlink:href=\"#DejaVuSans-30\"/>\n       <use xlink:href=\"#DejaVuSans-2e\" x=\"63.623047\"/>\n       <use xlink:href=\"#DejaVuSans-34\" x=\"95.410156\"/>\n      </g>\n     </g>\n    </g>\n    <g id=\"text_14\">\n     <!-- p(x) -->\n     <g transform=\"translate(14.798438 86.535156) rotate(-90) scale(0.1 -0.1)\">\n      <defs>\n       <path id=\"DejaVuSans-70\" d=\"M 1159 525 \nL 1159 -1331 \nL 581 -1331 \nL 581 3500 \nL 1159 3500 \nL 1159 2969 \nQ 1341 3281 1617 3432 \nQ 1894 3584 2278 3584 \nQ 2916 3584 3314 3078 \nQ 3713 2572 3713 1747 \nQ 3713 922 3314 415 \nQ 2916 -91 2278 -91 \nQ 1894 -91 1617 61 \nQ 1341 213 1159 525 \nz\nM 3116 1747 \nQ 3116 2381 2855 2742 \nQ 2594 3103 2138 3103 \nQ 1681 3103 1420 2742 \nQ 1159 2381 1159 1747 \nQ 1159 1113 1420 752 \nQ 1681 391 2138 391 \nQ 2594 391 2855 752 \nQ 3116 1113 3116 1747 \nz\n\" transform=\"scale(0.015625)\"/>\n       <path id=\"DejaVuSans-28\" d=\"M 1984 4856 \nQ 1566 4138 1362 3434 \nQ 1159 2731 1159 2009 \nQ 1159 1288 1364 580 \nQ 1569 -128 1984 -844 \nL 1484 -844 \nQ 1016 -109 783 600 \nQ 550 1309 550 2009 \nQ 550 2706 781 3412 \nQ 1013 4119 1484 4856 \nL 1984 4856 \nz\n\" transform=\"scale(0.015625)\"/>\n       <path id=\"DejaVuSans-29\" d=\"M 513 4856 \nL 1013 4856 \nQ 1481 4119 1714 3412 \nQ 1947 2706 1947 2009 \nQ 1947 1309 1714 600 \nQ 1481 -109 1013 -844 \nL 513 -844 \nQ 928 -128 1133 580 \nQ 1338 1288 1338 2009 \nQ 1338 2731 1133 3434 \nQ 928 4138 513 4856 \nz\n\" transform=\"scale(0.015625)\"/>\n      </defs>\n      <use xlink:href=\"#DejaVuSans-70\"/>\n      <use xlink:href=\"#DejaVuSans-28\" x=\"63.476562\"/>\n      <use xlink:href=\"#DejaVuSans-78\" x=\"102.490234\"/>\n      <use xlink:href=\"#DejaVuSans-29\" x=\"161.669922\"/>\n     </g>\n    </g>\n   </g>\n   <g id=\"line2d_25\">\n    <path d=\"M 55.194886 139.5 \nL 108.061479 139.392742 \nL 113.44604 139.148719 \nL 117.035747 138.770771 \nL 119.809611 138.25954 \nL 122.09397 137.619981 \nL 124.051992 136.856558 \nL 125.846846 135.932618 \nL 127.478531 134.864093 \nL 129.110215 133.53546 \nL 130.7419 131.902404 \nL 132.373585 129.918522 \nL 133.842102 127.79423 \nL 135.473787 125.01546 \nL 137.105472 121.755388 \nL 138.737157 117.977866 \nL 140.368842 113.655911 \nL 142.163695 108.255858 \nL 144.121717 101.596938 \nL 146.242908 93.525729 \nL 148.690435 83.248545 \nL 151.790637 69.178196 \nL 157.827871 41.57206 \nL 159.949061 33.006718 \nL 161.743915 26.675681 \nL 163.212431 22.276554 \nL 164.517779 19.044317 \nL 165.659959 16.789011 \nL 166.63897 15.307609 \nL 167.454812 14.403942 \nL 168.270655 13.808322 \nL 168.923329 13.556687 \nL 169.576003 13.5063 \nL 170.228677 13.657402 \nL 170.881351 14.009268 \nL 171.697193 14.728769 \nL 172.513036 15.753897 \nL 173.492047 17.376612 \nL 174.634226 19.788832 \nL 175.776406 22.726997 \nL 177.081754 26.675681 \nL 178.713439 32.392617 \nL 180.671461 40.191426 \nL 183.118988 50.957567 \nL 192.256424 92.210802 \nL 194.540783 101.006788 \nL 196.498805 107.731288 \nL 198.456827 113.655911 \nL 200.25168 118.379758 \nL 201.883365 122.104146 \nL 203.51505 125.314336 \nL 205.146735 128.047227 \nL 206.77842 130.345625 \nL 208.410105 132.255577 \nL 210.04179 133.824084 \nL 211.673475 135.097239 \nL 213.468328 136.208702 \nL 215.42635 137.136646 \nL 217.547541 137.875773 \nL 219.8319 138.435791 \nL 222.605764 138.879679 \nL 226.032303 139.193999 \nL 230.927358 139.396705 \nL 239.412119 139.487295 \nL 277.104042 139.5 \nL 283.467614 139.5 \nL 283.467614 139.5 \n\" clip-path=\"url(#pb5952cfa1d)\" style=\"fill: none; stroke: #1f77b4; stroke-width: 1.5; stroke-linecap: square\"/>\n   </g>\n   <g id=\"line2d_26\">\n    <path d=\"M 55.194886 139.362188 \nL 65.63767 139.098708 \nL 72.980253 138.699787 \nL 78.69115 138.178279 \nL 83.586205 137.516853 \nL 87.991754 136.697191 \nL 91.907798 135.745999 \nL 95.497505 134.654637 \nL 98.924044 133.387507 \nL 102.187413 131.951607 \nL 105.450783 130.271147 \nL 108.714153 128.328848 \nL 111.977523 126.112322 \nL 115.240893 123.615644 \nL 118.504263 120.840886 \nL 121.930802 117.640793 \nL 125.683677 113.829699 \nL 130.089226 109.01843 \nL 136.126461 102.052696 \nL 144.448054 92.482389 \nL 148.364098 88.331596 \nL 151.627468 85.194678 \nL 154.401333 82.824913 \nL 157.012028 80.888277 \nL 159.296387 79.455574 \nL 161.580746 78.288522 \nL 163.701937 77.457339 \nL 165.659959 76.915213 \nL 167.617981 76.595215 \nL 169.576003 76.500787 \nL 171.534025 76.632947 \nL 173.492047 76.99027 \nL 175.450069 77.568916 \nL 177.571259 78.438306 \nL 179.69245 79.54932 \nL 181.976809 81.000265 \nL 184.424336 82.824913 \nL 187.035032 85.047175 \nL 189.972065 87.839952 \nL 193.398603 91.412502 \nL 197.804153 96.3499 \nL 212.978823 113.657453 \nL 216.894867 117.640793 \nL 220.484574 120.986092 \nL 223.911112 123.877929 \nL 227.174482 126.346542 \nL 230.437852 128.535259 \nL 233.701222 130.450724 \nL 236.964592 132.105883 \nL 240.227962 133.51842 \nL 243.6545 134.763387 \nL 247.244207 135.834289 \nL 251.160251 136.766392 \nL 255.402632 137.542786 \nL 260.134519 138.178279 \nL 265.682247 138.687887 \nL 272.372156 139.065638 \nL 281.020086 139.318239 \nL 283.467614 139.359757 \nL 283.467614 139.359757 \n\" clip-path=\"url(#pb5952cfa1d)\" style=\"fill: none; stroke-dasharray: 5.55,2.4; stroke-dashoffset: 0; stroke: #bf00bf; stroke-width: 1.5\"/>\n   </g>\n   <g id=\"line2d_27\">\n    <path d=\"M 55.194886 139.5 \nL 157.012028 139.392742 \nL 162.396589 139.148719 \nL 165.986296 138.770771 \nL 168.76016 138.25954 \nL 171.044519 137.619981 \nL 173.002541 136.856558 \nL 174.797395 135.932618 \nL 176.42908 134.864093 \nL 178.060765 133.53546 \nL 179.69245 131.902404 \nL 181.324135 129.918522 \nL 182.792651 127.79423 \nL 184.424336 125.01546 \nL 186.056021 121.755388 \nL 187.687706 117.977866 \nL 189.319391 113.655911 \nL 191.114244 108.255858 \nL 193.072266 101.596938 \nL 195.193457 93.525729 \nL 197.640984 83.248545 \nL 200.741186 69.178196 \nL 206.77842 41.57206 \nL 208.899611 33.006718 \nL 210.694464 26.675681 \nL 212.16298 22.276554 \nL 213.468328 19.044317 \nL 214.610508 16.789011 \nL 215.589519 15.307609 \nL 216.405361 14.403942 \nL 217.221204 13.808322 \nL 217.873878 13.556687 \nL 218.526552 13.5063 \nL 219.179226 13.657402 \nL 219.8319 14.009268 \nL 220.647742 14.728769 \nL 221.463585 15.753897 \nL 222.442596 17.376612 \nL 223.584775 19.788832 \nL 224.726955 22.726997 \nL 226.032303 26.675681 \nL 227.663988 32.392617 \nL 229.62201 40.191426 \nL 232.069537 50.957567 \nL 241.206973 92.210802 \nL 243.491332 101.006788 \nL 245.449354 107.731288 \nL 247.407376 113.655911 \nL 249.202229 118.379758 \nL 250.833914 122.104146 \nL 252.465599 125.314336 \nL 254.097284 128.047227 \nL 255.728969 130.345625 \nL 257.360654 132.255577 \nL 258.992339 133.824084 \nL 260.624024 135.097239 \nL 262.418878 136.208702 \nL 264.376899 137.136646 \nL 266.49809 137.875773 \nL 268.782449 138.435791 \nL 271.556313 138.879679 \nL 274.982852 139.193999 \nL 279.877907 139.396705 \nL 283.467614 139.456009 \nL 283.467614 139.456009 \n\" clip-path=\"url(#pb5952cfa1d)\" style=\"fill: none; stroke-dasharray: 9.6,2.4,1.5,2.4; stroke-dashoffset: 0; stroke: #008000; stroke-width: 1.5\"/>\n   </g>\n   <g id=\"patch_3\">\n    <path d=\"M 43.78125 145.8 \nL 43.78125 7.2 \n\" style=\"fill: none; stroke: #000000; stroke-width: 0.8; stroke-linejoin: miter; stroke-linecap: square\"/>\n   </g>\n   <g id=\"patch_4\">\n    <path d=\"M 294.88125 145.8 \nL 294.88125 7.2 \n\" style=\"fill: none; stroke: #000000; stroke-width: 0.8; stroke-linejoin: miter; stroke-linecap: square\"/>\n   </g>\n   <g id=\"patch_5\">\n    <path d=\"M 43.78125 145.8 \nL 294.88125 145.8 \n\" style=\"fill: none; stroke: #000000; stroke-width: 0.8; stroke-linejoin: miter; stroke-linecap: square\"/>\n   </g>\n   <g id=\"patch_6\">\n    <path d=\"M 43.78125 7.2 \nL 294.88125 7.2 \n\" style=\"fill: none; stroke: #000000; stroke-width: 0.8; stroke-linejoin: miter; stroke-linecap: square\"/>\n   </g>\n   <g id=\"legend_1\">\n    <g id=\"patch_7\">\n     <path d=\"M 50.78125 59.234375 \nL 152.05625 59.234375 \nQ 154.05625 59.234375 154.05625 57.234375 \nL 154.05625 14.2 \nQ 154.05625 12.2 152.05625 12.2 \nL 50.78125 12.2 \nQ 48.78125 12.2 48.78125 14.2 \nL 48.78125 57.234375 \nQ 48.78125 59.234375 50.78125 59.234375 \nz\n\" style=\"fill: #ffffff; opacity: 0.8; stroke: #cccccc; stroke-linejoin: miter\"/>\n    </g>\n    <g id=\"line2d_28\">\n     <path d=\"M 52.78125 20.298438 \nL 62.78125 20.298438 \nL 72.78125 20.298438 \n\" style=\"fill: none; stroke: #1f77b4; stroke-width: 1.5; stroke-linecap: square\"/>\n    </g>\n    <g id=\"text_15\">\n     <!-- mean 0, std 1 -->\n     <g transform=\"translate(80.78125 23.798438) scale(0.1 -0.1)\">\n      <defs>\n       <path id=\"DejaVuSans-6d\" d=\"M 3328 2828 \nQ 3544 3216 3844 3400 \nQ 4144 3584 4550 3584 \nQ 5097 3584 5394 3201 \nQ 5691 2819 5691 2113 \nL 5691 0 \nL 5113 0 \nL 5113 2094 \nQ 5113 2597 4934 2840 \nQ 4756 3084 4391 3084 \nQ 3944 3084 3684 2787 \nQ 3425 2491 3425 1978 \nL 3425 0 \nL 2847 0 \nL 2847 2094 \nQ 2847 2600 2669 2842 \nQ 2491 3084 2119 3084 \nQ 1678 3084 1418 2786 \nQ 1159 2488 1159 1978 \nL 1159 0 \nL 581 0 \nL 581 3500 \nL 1159 3500 \nL 1159 2956 \nQ 1356 3278 1631 3431 \nQ 1906 3584 2284 3584 \nQ 2666 3584 2933 3390 \nQ 3200 3197 3328 2828 \nz\n\" transform=\"scale(0.015625)\"/>\n       <path id=\"DejaVuSans-65\" d=\"M 3597 1894 \nL 3597 1613 \nL 953 1613 \nQ 991 1019 1311 708 \nQ 1631 397 2203 397 \nQ 2534 397 2845 478 \nQ 3156 559 3463 722 \nL 3463 178 \nQ 3153 47 2828 -22 \nQ 2503 -91 2169 -91 \nQ 1331 -91 842 396 \nQ 353 884 353 1716 \nQ 353 2575 817 3079 \nQ 1281 3584 2069 3584 \nQ 2775 3584 3186 3129 \nQ 3597 2675 3597 1894 \nz\nM 3022 2063 \nQ 3016 2534 2758 2815 \nQ 2500 3097 2075 3097 \nQ 1594 3097 1305 2825 \nQ 1016 2553 972 2059 \nL 3022 2063 \nz\n\" transform=\"scale(0.015625)\"/>\n       <path id=\"DejaVuSans-61\" d=\"M 2194 1759 \nQ 1497 1759 1228 1600 \nQ 959 1441 959 1056 \nQ 959 750 1161 570 \nQ 1363 391 1709 391 \nQ 2188 391 2477 730 \nQ 2766 1069 2766 1631 \nL 2766 1759 \nL 2194 1759 \nz\nM 3341 1997 \nL 3341 0 \nL 2766 0 \nL 2766 531 \nQ 2569 213 2275 61 \nQ 1981 -91 1556 -91 \nQ 1019 -91 701 211 \nQ 384 513 384 1019 \nQ 384 1609 779 1909 \nQ 1175 2209 1959 2209 \nL 2766 2209 \nL 2766 2266 \nQ 2766 2663 2505 2880 \nQ 2244 3097 1772 3097 \nQ 1472 3097 1187 3025 \nQ 903 2953 641 2809 \nL 641 3341 \nQ 956 3463 1253 3523 \nQ 1550 3584 1831 3584 \nQ 2591 3584 2966 3190 \nQ 3341 2797 3341 1997 \nz\n\" transform=\"scale(0.015625)\"/>\n       <path id=\"DejaVuSans-6e\" d=\"M 3513 2113 \nL 3513 0 \nL 2938 0 \nL 2938 2094 \nQ 2938 2591 2744 2837 \nQ 2550 3084 2163 3084 \nQ 1697 3084 1428 2787 \nQ 1159 2491 1159 1978 \nL 1159 0 \nL 581 0 \nL 581 3500 \nL 1159 3500 \nL 1159 2956 \nQ 1366 3272 1645 3428 \nQ 1925 3584 2291 3584 \nQ 2894 3584 3203 3211 \nQ 3513 2838 3513 2113 \nz\n\" transform=\"scale(0.015625)\"/>\n       <path id=\"DejaVuSans-20\" transform=\"scale(0.015625)\"/>\n       <path id=\"DejaVuSans-2c\" d=\"M 750 794 \nL 1409 794 \nL 1409 256 \nL 897 -744 \nL 494 -744 \nL 750 256 \nL 750 794 \nz\n\" transform=\"scale(0.015625)\"/>\n       <path id=\"DejaVuSans-73\" d=\"M 2834 3397 \nL 2834 2853 \nQ 2591 2978 2328 3040 \nQ 2066 3103 1784 3103 \nQ 1356 3103 1142 2972 \nQ 928 2841 928 2578 \nQ 928 2378 1081 2264 \nQ 1234 2150 1697 2047 \nL 1894 2003 \nQ 2506 1872 2764 1633 \nQ 3022 1394 3022 966 \nQ 3022 478 2636 193 \nQ 2250 -91 1575 -91 \nQ 1294 -91 989 -36 \nQ 684 19 347 128 \nL 347 722 \nQ 666 556 975 473 \nQ 1284 391 1588 391 \nQ 1994 391 2212 530 \nQ 2431 669 2431 922 \nQ 2431 1156 2273 1281 \nQ 2116 1406 1581 1522 \nL 1381 1569 \nQ 847 1681 609 1914 \nQ 372 2147 372 2553 \nQ 372 3047 722 3315 \nQ 1072 3584 1716 3584 \nQ 2034 3584 2315 3537 \nQ 2597 3491 2834 3397 \nz\n\" transform=\"scale(0.015625)\"/>\n       <path id=\"DejaVuSans-74\" d=\"M 1172 4494 \nL 1172 3500 \nL 2356 3500 \nL 2356 3053 \nL 1172 3053 \nL 1172 1153 \nQ 1172 725 1289 603 \nQ 1406 481 1766 481 \nL 2356 481 \nL 2356 0 \nL 1766 0 \nQ 1100 0 847 248 \nQ 594 497 594 1153 \nL 594 3053 \nL 172 3053 \nL 172 3500 \nL 594 3500 \nL 594 4494 \nL 1172 4494 \nz\n\" transform=\"scale(0.015625)\"/>\n       <path id=\"DejaVuSans-64\" d=\"M 2906 2969 \nL 2906 4863 \nL 3481 4863 \nL 3481 0 \nL 2906 0 \nL 2906 525 \nQ 2725 213 2448 61 \nQ 2172 -91 1784 -91 \nQ 1150 -91 751 415 \nQ 353 922 353 1747 \nQ 353 2572 751 3078 \nQ 1150 3584 1784 3584 \nQ 2172 3584 2448 3432 \nQ 2725 3281 2906 2969 \nz\nM 947 1747 \nQ 947 1113 1208 752 \nQ 1469 391 1925 391 \nQ 2381 391 2643 752 \nQ 2906 1113 2906 1747 \nQ 2906 2381 2643 2742 \nQ 2381 3103 1925 3103 \nQ 1469 3103 1208 2742 \nQ 947 2381 947 1747 \nz\n\" transform=\"scale(0.015625)\"/>\n      </defs>\n      <use xlink:href=\"#DejaVuSans-6d\"/>\n      <use xlink:href=\"#DejaVuSans-65\" x=\"97.412109\"/>\n      <use xlink:href=\"#DejaVuSans-61\" x=\"158.935547\"/>\n      <use xlink:href=\"#DejaVuSans-6e\" x=\"220.214844\"/>\n      <use xlink:href=\"#DejaVuSans-20\" x=\"283.59375\"/>\n      <use xlink:href=\"#DejaVuSans-30\" x=\"315.380859\"/>\n      <use xlink:href=\"#DejaVuSans-2c\" x=\"379.003906\"/>\n      <use xlink:href=\"#DejaVuSans-20\" x=\"410.791016\"/>\n      <use xlink:href=\"#DejaVuSans-73\" x=\"442.578125\"/>\n      <use xlink:href=\"#DejaVuSans-74\" x=\"494.677734\"/>\n      <use xlink:href=\"#DejaVuSans-64\" x=\"533.886719\"/>\n      <use xlink:href=\"#DejaVuSans-20\" x=\"597.363281\"/>\n      <use xlink:href=\"#DejaVuSans-31\" x=\"629.150391\"/>\n     </g>\n    </g>\n    <g id=\"line2d_29\">\n     <path d=\"M 52.78125 34.976563 \nL 62.78125 34.976563 \nL 72.78125 34.976563 \n\" style=\"fill: none; stroke-dasharray: 5.55,2.4; stroke-dashoffset: 0; stroke: #bf00bf; stroke-width: 1.5\"/>\n    </g>\n    <g id=\"text_16\">\n     <!-- mean 0, std 2 -->\n     <g transform=\"translate(80.78125 38.476563) scale(0.1 -0.1)\">\n      <use xlink:href=\"#DejaVuSans-6d\"/>\n      <use xlink:href=\"#DejaVuSans-65\" x=\"97.412109\"/>\n      <use xlink:href=\"#DejaVuSans-61\" x=\"158.935547\"/>\n      <use xlink:href=\"#DejaVuSans-6e\" x=\"220.214844\"/>\n      <use xlink:href=\"#DejaVuSans-20\" x=\"283.59375\"/>\n      <use xlink:href=\"#DejaVuSans-30\" x=\"315.380859\"/>\n      <use xlink:href=\"#DejaVuSans-2c\" x=\"379.003906\"/>\n      <use xlink:href=\"#DejaVuSans-20\" x=\"410.791016\"/>\n      <use xlink:href=\"#DejaVuSans-73\" x=\"442.578125\"/>\n      <use xlink:href=\"#DejaVuSans-74\" x=\"494.677734\"/>\n      <use xlink:href=\"#DejaVuSans-64\" x=\"533.886719\"/>\n      <use xlink:href=\"#DejaVuSans-20\" x=\"597.363281\"/>\n      <use xlink:href=\"#DejaVuSans-32\" x=\"629.150391\"/>\n     </g>\n    </g>\n    <g id=\"line2d_30\">\n     <path d=\"M 52.78125 49.654688 \nL 62.78125 49.654688 \nL 72.78125 49.654688 \n\" style=\"fill: none; stroke-dasharray: 9.6,2.4,1.5,2.4; stroke-dashoffset: 0; stroke: #008000; stroke-width: 1.5\"/>\n    </g>\n    <g id=\"text_17\">\n     <!-- mean 3, std 1 -->\n     <g transform=\"translate(80.78125 53.154688) scale(0.1 -0.1)\">\n      <use xlink:href=\"#DejaVuSans-6d\"/>\n      <use xlink:href=\"#DejaVuSans-65\" x=\"97.412109\"/>\n      <use xlink:href=\"#DejaVuSans-61\" x=\"158.935547\"/>\n      <use xlink:href=\"#DejaVuSans-6e\" x=\"220.214844\"/>\n      <use xlink:href=\"#DejaVuSans-20\" x=\"283.59375\"/>\n      <use xlink:href=\"#DejaVuSans-33\" x=\"315.380859\"/>\n      <use xlink:href=\"#DejaVuSans-2c\" x=\"379.003906\"/>\n      <use xlink:href=\"#DejaVuSans-20\" x=\"410.791016\"/>\n      <use xlink:href=\"#DejaVuSans-73\" x=\"442.578125\"/>\n      <use xlink:href=\"#DejaVuSans-74\" x=\"494.677734\"/>\n      <use xlink:href=\"#DejaVuSans-64\" x=\"533.886719\"/>\n      <use xlink:href=\"#DejaVuSans-20\" x=\"597.363281\"/>\n      <use xlink:href=\"#DejaVuSans-31\" x=\"629.150391\"/>\n     </g>\n    </g>\n   </g>\n  </g>\n </g>\n <defs>\n  <clipPath id=\"pb5952cfa1d\">\n   <rect x=\"43.78125\" y=\"7.2\" width=\"251.1\" height=\"138.6\"/>\n  </clipPath>\n </defs>\n</svg>\n"
          },
          "metadata": {}
        }
      ],
      "source": [
        "# Use NumPy again for visualization\n",
        "x = np.arange(-7, 7, 0.01)\n",
        "\n",
        "# Mean and standard deviation pairs\n",
        "params = [(0, 1), (0, 2), (3, 1)]\n",
        "d2l.plot(x, [normal(x, mu, sigma) for mu, sigma in params], xlabel='x',\n",
        "         ylabel='p(x)', figsize=(4.5, 2.5),\n",
        "         legend=[f'mean {mu}, std {sigma}' for mu, sigma in params])"
      ]
    },
    {
      "cell_type": "markdown",
      "id": "aa40d5c8",
      "metadata": {
        "origin_pos": 19,
        "id": "aa40d5c8"
      },
      "source": [
        "Note that changing the mean corresponds\n",
        "to a shift along the $x$-axis,\n",
        "and increasing the variance\n",
        "spreads the distribution out,\n",
        "lowering its peak.\n",
        "\n",
        "One way to motivate linear regression with squared loss\n",
        "is to assume that observations arise from noisy measurements,\n",
        "where the noise $\\epsilon$ follows the normal distribution\n",
        "$\\mathcal{N}(0, \\sigma^2)$:\n",
        "\n",
        "$$y = \\mathbf{w}^\\top \\mathbf{x} + b + \\epsilon \\textrm{ where } \\epsilon \\sim \\mathcal{N}(0, \\sigma^2).$$\n",
        "\n",
        "Thus, we can now write out the *likelihood*\n",
        "of seeing a particular $y$ for a given $\\mathbf{x}$ via\n",
        "\n",
        "$$P(y \\mid \\mathbf{x}) = \\frac{1}{\\sqrt{2 \\pi \\sigma^2}} \\exp\\left(-\\frac{1}{2 \\sigma^2} (y - \\mathbf{w}^\\top \\mathbf{x} - b)^2\\right).$$\n",
        "\n",
        "As such, the likelihood factorizes.\n",
        "According to *the principle of maximum likelihood*,\n",
        "the best values of parameters $\\mathbf{w}$ and $b$ are those\n",
        "that maximize the *likelihood* of the entire dataset:\n",
        "\n",
        "$$P(\\mathbf y \\mid \\mathbf X) = \\prod_{i=1}^{n} p(y^{(i)} \\mid \\mathbf{x}^{(i)}).$$\n",
        "\n",
        "The equality follows since all pairs $(\\mathbf{x}^{(i)}, y^{(i)})$\n",
        "were drawn independently of each other.\n",
        "Estimators chosen according to the principle of maximum likelihood\n",
        "are called *maximum likelihood estimators*.\n",
        "While, maximizing the product of many exponential functions,\n",
        "might look difficult,\n",
        "we can simplify things significantly, without changing the objective,\n",
        "by maximizing the logarithm of the likelihood instead.\n",
        "For historical reasons, optimizations are more often expressed\n",
        "as minimization rather than maximization.\n",
        "So, without changing anything,\n",
        "we can *minimize* the *negative log-likelihood*,\n",
        "which we can express as follows:\n",
        "\n",
        "$$-\\log P(\\mathbf y \\mid \\mathbf X) = \\sum_{i=1}^n \\frac{1}{2} \\log(2 \\pi \\sigma^2) + \\frac{1}{2 \\sigma^2} \\left(y^{(i)} - \\mathbf{w}^\\top \\mathbf{x}^{(i)} - b\\right)^2.$$\n",
        "\n",
        "If we assume that $\\sigma$ is fixed,\n",
        "we can ignore the first term,\n",
        "because it does not depend on $\\mathbf{w}$ or $b$.\n",
        "The second term is identical\n",
        "to the squared error loss introduced earlier,\n",
        "except for the multiplicative constant $\\frac{1}{\\sigma^2}$.\n",
        "Fortunately, the solution does not depend on $\\sigma$ either.\n",
        "It follows that minimizing the mean squared error\n",
        "is equivalent to the maximum likelihood estimation\n",
        "of a linear model under the assumption of additive Gaussian noise.\n",
        "\n",
        "\n",
        "## Linear Regression as a Neural Network\n",
        "\n",
        "While linear models are not sufficiently rich\n",
        "to express the many complicated networks\n",
        "that we will introduce in this book,\n",
        "(artificial) neural networks are rich enough\n",
        "to subsume linear models as networks\n",
        "in which every feature is represented by an input neuron,\n",
        "all of which are connected directly to the output.\n",
        "\n",
        ":numref:`fig_single_neuron` depicts\n",
        "linear regression as a neural network.\n",
        "The diagram highlights the connectivity pattern,\n",
        "such as how each input is connected to the output,\n",
        "but not the specific values taken by the weights or biases.\n",
        "\n",
        "![Linear regression is a single-layer neural network.](http://d2l.ai/_images/singleneuron.svg)\n",
        ":label:`fig_single_neuron`\n",
        "\n",
        "The inputs are $x_1, \\ldots, x_d$.\n",
        "We refer to $d$ as the *number of inputs*\n",
        "or the *feature dimensionality* in the input layer.\n",
        "The output of the network is $o_1$.\n",
        "Because we are just trying to predict\n",
        "a single numerical value,\n",
        "we have only one output neuron.\n",
        "Note that the input values are all *given*.\n",
        "There is just a single *computed* neuron.\n",
        "In summary, we can think of linear regression\n",
        "as a single-layer fully connected neural network.\n",
        "We will encounter networks\n",
        "with far more layers\n",
        "in later chapters.\n",
        "\n",
        "### Biology\n",
        "\n",
        "Because linear regression predates computational neuroscience,\n",
        "it might seem anachronistic to describe\n",
        "linear regression in terms of neural networks.\n",
        "Nonetheless, they were a natural place to start\n",
        "when the cyberneticists and neurophysiologists\n",
        "Warren McCulloch and Walter Pitts began to develop\n",
        "models of artificial neurons.\n",
        "Consider the cartoonish picture\n",
        "of a biological neuron in :numref:`fig_Neuron`,\n",
        "consisting of *dendrites* (input terminals),\n",
        "the *nucleus* (CPU), the *axon* (output wire),\n",
        "and the *axon terminals* (output terminals),\n",
        "enabling connections to other neurons via *synapses*.\n",
        "\n",
        "![The real neuron (source: \"Anatomy and Physiology\" by the US National Cancer Institute's Surveillance, Epidemiology and End Results (SEER) Program).](http://d2l.ai/_images/neuron.svg)\n",
        ":label:`fig_Neuron`\n",
        "\n",
        "Information $x_i$ arriving from other neurons\n",
        "(or environmental sensors) is received in the dendrites.\n",
        "In particular, that information is weighted\n",
        "by *synaptic weights* $w_i$,\n",
        "determining the effect of the inputs,\n",
        "e.g., activation or inhibition via the product $x_i w_i$.\n",
        "The weighted inputs arriving from multiple sources\n",
        "are aggregated in the nucleus\n",
        "as a weighted sum $y = \\sum_i x_i w_i + b$,\n",
        "possibly subject to some nonlinear postprocessing via a function $\\sigma(y)$.\n",
        "This information is then sent via the axon to the axon terminals,\n",
        "where it reaches its destination\n",
        "(e.g., an actuator such as a muscle)\n",
        "or it is fed into another neuron via its dendrites.\n",
        "\n",
        "Certainly, the high-level idea that many such units\n",
        "could be combined, provided they have the correct connectivity and learning algorithm,\n",
        "to produce far more interesting and complex behavior\n",
        "than any one neuron alone could express\n",
        "arises from our study of real biological neural systems.\n",
        "At the same time, most research in deep learning today\n",
        "draws inspiration from a much wider source.\n",
        "We invoke :citet:`Russell.Norvig.2016`\n",
        "who pointed out that although airplanes might have been *inspired* by birds,\n",
        "ornithology has not been the primary driver\n",
        "of aeronautics innovation for some centuries.\n",
        "Likewise, inspiration in deep learning these days\n",
        "comes in equal or greater measure\n",
        "from mathematics, linguistics, psychology,\n",
        "statistics, computer science, and many other fields.\n",
        "\n",
        "## Summary\n",
        "\n",
        "In this section, we introduced\n",
        "traditional linear regression,\n",
        "where the parameters of a linear function\n",
        "are chosen to minimize squared loss on the training set.\n",
        "We also motivated this choice of objective\n",
        "both via some practical considerations\n",
        "and through an interpretation\n",
        "of linear regression as maximimum likelihood estimation\n",
        "under an assumption of linearity and Gaussian noise.\n",
        "After discussing both computational considerations\n",
        "and connections to statistics,\n",
        "we showed how such linear models could be expressed\n",
        "as simple neural networks where the inputs\n",
        "are directly wired to the output(s).\n",
        "While we will soon move past linear models altogether,\n",
        "they are sufficient to introduce most of the components\n",
        "that all of our models require:\n",
        "parametric forms, differentiable objectives,\n",
        "optimization via minibatch stochastic gradient descent,\n",
        "and ultimately, evaluation on previously unseen data.\n",
        "\n",
        "\n",
        "\n",
        "## Exercises\n",
        "\n",
        "1. Assume that we have some data $x_1, \\ldots, x_n \\in \\mathbb{R}$. Our goal is to find a constant $b$ such that $\\sum_i (x_i - b)^2$ is minimized.\n",
        "    1. Find an analytic solution for the optimal value of $b$.\n",
        "    1. How does this problem and its solution relate to the normal distribution?\n",
        "    1. What if we change the loss from $\\sum_i (x_i - b)^2$ to $\\sum_i |x_i-b|$? Can you find the optimal solution for $b$?\n",
        "1. Prove that the affine functions that can be expressed by $\\mathbf{x}^\\top \\mathbf{w} + b$ are equivalent to linear functions on $(\\mathbf{x}, 1)$.\n",
        "1. Assume that you want to find quadratic functions of $\\mathbf{x}$, i.e., $f(\\mathbf{x}) = b + \\sum_i w_i x_i + \\sum_{j \\leq i} w_{ij} x_{i} x_{j}$. How would you formulate this in a deep network?\n",
        "1. Recall that one of the conditions for the linear regression problem to be solvable was that the design matrix $\\mathbf{X}^\\top \\mathbf{X}$ has full rank.\n",
        "    1. What happens if this is not the case?\n",
        "    1. How could you fix it? What happens if you add a small amount of coordinate-wise independent Gaussian noise to all entries of $\\mathbf{X}$?\n",
        "    1. What is the expected value of the design matrix $\\mathbf{X}^\\top \\mathbf{X}$ in this case?\n",
        "    1. What happens with stochastic gradient descent when $\\mathbf{X}^\\top \\mathbf{X}$ does not have full rank?\n",
        "1. Assume that the noise model governing the additive noise $\\epsilon$ is the exponential distribution. That is, $p(\\epsilon) = \\frac{1}{2} \\exp(-|\\epsilon|)$.\n",
        "    1. Write out the negative log-likelihood of the data under the model $-\\log P(\\mathbf y \\mid \\mathbf X)$.\n",
        "    1. Can you find a closed form solution?\n",
        "    1. Suggest a minibatch stochastic gradient descent algorithm to solve this problem. What could possibly go wrong (hint: what happens near the stationary point as we keep on updating the parameters)? Can you fix this?\n",
        "1. Assume that we want to design a neural network with two layers by composing two linear layers. That is, the output of the first layer becomes the input of the second layer. Why would such a naive composition not work?\n",
        "1. What happens if you want to use regression for realistic price estimation of houses or stock prices?\n",
        "    1. Show that the additive Gaussian noise assumption is not appropriate. Hint: can we have negative prices? What about fluctuations?\n",
        "    1. Why would regression to the logarithm of the price be much better, i.e., $y = \\log \\textrm{price}$?\n",
        "    1. What do you need to worry about when dealing with pennystock, i.e., stock with very low prices? Hint: can you trade at all possible prices? Why is this a bigger problem for cheap stock? For more information review the celebrated Black--Scholes model for option pricing :cite:`Black.Scholes.1973`.\n",
        "1. Suppose we want to use regression to estimate the *number* of apples sold in a grocery store.\n",
        "    1. What are the problems with a Gaussian additive noise model? Hint: you are selling apples, not oil.\n",
        "    1. The [Poisson distribution](https://en.wikipedia.org/wiki/Poisson_distribution) captures distributions over counts. It is given by $p(k \\mid \\lambda) = \\lambda^k e^{-\\lambda}/k!$. Here $\\lambda$ is the rate function and $k$ is the number of events you see. Prove that $\\lambda$ is the expected value of counts $k$.\n",
        "    1. Design a loss function associated with the Poisson distribution.\n",
        "    1. Design a loss function for estimating $\\log \\lambda$ instead.\n"
      ]
    },
    {
      "cell_type": "markdown",
      "id": "2b6c7418",
      "metadata": {
        "origin_pos": 21,
        "tab": [
          "pytorch"
        ],
        "id": "2b6c7418"
      },
      "source": [
        "[Discussions](https://discuss.d2l.ai/t/258)\n"
      ]
    }
  ],
  "metadata": {
    "kernelspec": {
      "display_name": "Python 3",
      "name": "python3"
    },
    "language_info": {
      "name": "python"
    },
    "required_libs": [],
    "colab": {
      "provenance": []
    }
  },
  "nbformat": 4,
  "nbformat_minor": 5
}